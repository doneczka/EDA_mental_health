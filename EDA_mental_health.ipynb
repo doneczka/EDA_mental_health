{
  "cells": [
    {
      "cell_type": "markdown",
      "metadata": {
        "id": "6YkgsGmJfsj_"
      },
      "source": [
        "# Module 2: Data Analysis\n",
        "## Sprint 1: Introduction to SQL & Statistics Fundamentals\n",
        "## Part 5: Analysis of the Mental Health in the Tech Industry\n"
      ]
    },
    {
      "cell_type": "markdown",
      "source": [
        "# Project\n",
        "## Mental Health in the Tech Industry Analysis"
      ],
      "metadata": {
        "id": "OS4hc829g7w4"
      }
    },
    {
      "cell_type": "markdown",
      "source": [
        "## Introduction"
      ],
      "metadata": {
        "id": "-p_HdhuDham6"
      }
    },
    {
      "cell_type": "markdown",
      "source": [
        "This file presents\n",
        "\n",
        "**Exploratory Data Analysis of Mental Health in the Tech Industry.**\n",
        "\n",
        "The aim of this analysis is:\n",
        "*   to assess how big is the scale of health issues among tech professionals,\n",
        "*   to check if companies are aware of that issues and whether there is appropriate help for employees,\n",
        "*   to investigate if tech professionals work under a pressure, \n",
        "*   to study how often depression is presented among tech workers\n",
        "and many more.\n",
        "\n",
        "Many think that working in tech industry is a real paradise on earth, let's check if that statement is true.\n"
      ],
      "metadata": {
        "id": "DguiGHCxheBf"
      }
    },
    {
      "cell_type": "markdown",
      "source": [
        "First part of the project includes:\n",
        "\n",
        "* importing libraries,\n",
        "* loading a dataset,\n",
        "* getting familiar with the dataset,\n",
        "* preparing data for further analysis."
      ],
      "metadata": {
        "id": "WpOhY5KHnZbd"
      }
    },
    {
      "cell_type": "markdown",
      "source": [
        "## Importing all necessary modules"
      ],
      "metadata": {
        "id": "PXcLGQc-hDFx"
      }
    },
    {
      "cell_type": "code",
      "source": [
        "# Connection with Google Drive\n",
        "from google.colab import drive\n",
        "\n",
        "# Connection to sqlite files\n",
        "import sqlite3\n",
        "\n",
        "# Linear algebra\n",
        "import numpy as np\n",
        "\n",
        "# Data processing\n",
        "import pandas as pd\n",
        "\n",
        "# Data visualization\n",
        "from matplotlib import pyplot as plt\n",
        "import seaborn as sns"
      ],
      "metadata": {
        "id": "u9rH6ZLqgR7m"
      },
      "execution_count": null,
      "outputs": []
    },
    {
      "cell_type": "code",
      "source": [
        "#@title\n",
        "def barplot(df_plot: pd.DataFrame, x: str, y: str, color: str):\n",
        "  '''Creating a barplot'''\n",
        "\n",
        "  sns.set(rc={'figure.figsize':(10,8)})\n",
        "  sns.set_style(\"white\")\n",
        "  axis = sns.barplot(data=df_plot, x=x, y=y, color=color)\n",
        "  sns.despine(bottom=True,\n",
        "            left=True)\n",
        "  annotate_bars(axis)\n",
        "  axis.set(yticklabels=[])\n",
        "  axis.set_xlabel('')\n",
        "  axis.grid(False)\n",
        "\n",
        "def annotate_bars(bars: str):\n",
        "  '''Annotate horizontal graphs'''\n",
        "\n",
        "  for bar in bars.patches:\n",
        "    bars.annotate(format(bar.get_height(), '.0f'),\n",
        "                 (bar.get_x() + bar.get_width() / 2,\n",
        "                  bar.get_height()), ha='center', va='center',\n",
        "                  size=12, xytext=(1, 7),\n",
        "                  textcoords='offset points')\n",
        "  return"
      ],
      "metadata": {
        "id": "dAILePt0KgCd"
      },
      "execution_count": null,
      "outputs": []
    },
    {
      "cell_type": "code",
      "source": [
        "sns.set_theme(context='notebook', style='white')"
      ],
      "metadata": {
        "id": "4XQwjUrmLHO2"
      },
      "execution_count": null,
      "outputs": []
    },
    {
      "cell_type": "markdown",
      "source": [
        "## Loading the database"
      ],
      "metadata": {
        "id": "4crj-x9essx5"
      }
    },
    {
      "cell_type": "code",
      "source": [
        "drive.mount(\"/content/drive\")\n",
        "\n",
        "con = sqlite3.connect(\"/content/drive/MyDrive/mental_health.sqlite\")\n",
        "\n",
        "questions_df = pd.read_sql_query(\"SELECT * from Question\", con)\n",
        "\n",
        "answers_df = pd.read_sql_query(\"SELECT * from Answer\", con)\n",
        "answers_df.columns = ['AnswerText', 'SurveyID',\t'UserID', 'questionid']\n",
        "\n",
        "surveys_df = pd.read_sql_query(\"SELECT * from Survey\", con)"
      ],
      "metadata": {
        "colab": {
          "base_uri": "https://localhost:8080/"
        },
        "id": "nsNsRxOXnnaK",
        "outputId": "a7467431-c34a-4f59-b2f8-26343573fe27"
      },
      "execution_count": null,
      "outputs": [
        {
          "output_type": "stream",
          "name": "stdout",
          "text": [
            "Mounted at /content/drive\n"
          ]
        }
      ]
    },
    {
      "cell_type": "markdown",
      "source": [
        "##Description of the database"
      ],
      "metadata": {
        "id": "crany6qyuQ2N"
      }
    },
    {
      "cell_type": "markdown",
      "source": [
        "Displaying the content of the 3 tables included in the database."
      ],
      "metadata": {
        "id": "20R5BA46sxhY"
      }
    },
    {
      "cell_type": "markdown",
      "source": [
        "Dataframe **\"Questions\"** lists all the questions with their IDs."
      ],
      "metadata": {
        "id": "7hvHrJUFpmyU"
      }
    },
    {
      "cell_type": "code",
      "source": [
        "questions_df.loc[:9].style.set_properties(**{'text-align': 'left'})"
      ],
      "metadata": {
        "colab": {
          "base_uri": "https://localhost:8080/",
          "height": 363
        },
        "id": "F3Tzu7fKfE8K",
        "outputId": "7bb28237-c689-404c-f720-0a0ed4117b30"
      },
      "execution_count": null,
      "outputs": [
        {
          "output_type": "execute_result",
          "data": {
            "text/plain": [
              "<pandas.io.formats.style.Styler at 0x7fa8f26ddc90>"
            ],
            "text/html": [
              "<style type=\"text/css\">\n",
              "#T_3ee2b_row0_col0, #T_3ee2b_row0_col1, #T_3ee2b_row1_col0, #T_3ee2b_row1_col1, #T_3ee2b_row2_col0, #T_3ee2b_row2_col1, #T_3ee2b_row3_col0, #T_3ee2b_row3_col1, #T_3ee2b_row4_col0, #T_3ee2b_row4_col1, #T_3ee2b_row5_col0, #T_3ee2b_row5_col1, #T_3ee2b_row6_col0, #T_3ee2b_row6_col1, #T_3ee2b_row7_col0, #T_3ee2b_row7_col1, #T_3ee2b_row8_col0, #T_3ee2b_row8_col1, #T_3ee2b_row9_col0, #T_3ee2b_row9_col1 {\n",
              "  text-align: left;\n",
              "}\n",
              "</style>\n",
              "<table id=\"T_3ee2b_\" class=\"dataframe\">\n",
              "  <thead>\n",
              "    <tr>\n",
              "      <th class=\"blank level0\" >&nbsp;</th>\n",
              "      <th class=\"col_heading level0 col0\" >questiontext</th>\n",
              "      <th class=\"col_heading level0 col1\" >questionid</th>\n",
              "    </tr>\n",
              "  </thead>\n",
              "  <tbody>\n",
              "    <tr>\n",
              "      <th id=\"T_3ee2b_level0_row0\" class=\"row_heading level0 row0\" >0</th>\n",
              "      <td id=\"T_3ee2b_row0_col0\" class=\"data row0 col0\" >What is your age?</td>\n",
              "      <td id=\"T_3ee2b_row0_col1\" class=\"data row0 col1\" >1</td>\n",
              "    </tr>\n",
              "    <tr>\n",
              "      <th id=\"T_3ee2b_level0_row1\" class=\"row_heading level0 row1\" >1</th>\n",
              "      <td id=\"T_3ee2b_row1_col0\" class=\"data row1 col0\" >What is your gender?</td>\n",
              "      <td id=\"T_3ee2b_row1_col1\" class=\"data row1 col1\" >2</td>\n",
              "    </tr>\n",
              "    <tr>\n",
              "      <th id=\"T_3ee2b_level0_row2\" class=\"row_heading level0 row2\" >2</th>\n",
              "      <td id=\"T_3ee2b_row2_col0\" class=\"data row2 col0\" >What country do you live in?</td>\n",
              "      <td id=\"T_3ee2b_row2_col1\" class=\"data row2 col1\" >3</td>\n",
              "    </tr>\n",
              "    <tr>\n",
              "      <th id=\"T_3ee2b_level0_row3\" class=\"row_heading level0 row3\" >3</th>\n",
              "      <td id=\"T_3ee2b_row3_col0\" class=\"data row3 col0\" >If you live in the United States, which state or territory do you live in?</td>\n",
              "      <td id=\"T_3ee2b_row3_col1\" class=\"data row3 col1\" >4</td>\n",
              "    </tr>\n",
              "    <tr>\n",
              "      <th id=\"T_3ee2b_level0_row4\" class=\"row_heading level0 row4\" >4</th>\n",
              "      <td id=\"T_3ee2b_row4_col0\" class=\"data row4 col0\" >Are you self-employed?</td>\n",
              "      <td id=\"T_3ee2b_row4_col1\" class=\"data row4 col1\" >5</td>\n",
              "    </tr>\n",
              "    <tr>\n",
              "      <th id=\"T_3ee2b_level0_row5\" class=\"row_heading level0 row5\" >5</th>\n",
              "      <td id=\"T_3ee2b_row5_col0\" class=\"data row5 col0\" >Do you have a family history of mental illness?</td>\n",
              "      <td id=\"T_3ee2b_row5_col1\" class=\"data row5 col1\" >6</td>\n",
              "    </tr>\n",
              "    <tr>\n",
              "      <th id=\"T_3ee2b_level0_row6\" class=\"row_heading level0 row6\" >6</th>\n",
              "      <td id=\"T_3ee2b_row6_col0\" class=\"data row6 col0\" >Have you ever sought treatment for a mental health disorder from a mental health professional?</td>\n",
              "      <td id=\"T_3ee2b_row6_col1\" class=\"data row6 col1\" >7</td>\n",
              "    </tr>\n",
              "    <tr>\n",
              "      <th id=\"T_3ee2b_level0_row7\" class=\"row_heading level0 row7\" >7</th>\n",
              "      <td id=\"T_3ee2b_row7_col0\" class=\"data row7 col0\" >How many employees does your company or organization have?</td>\n",
              "      <td id=\"T_3ee2b_row7_col1\" class=\"data row7 col1\" >8</td>\n",
              "    </tr>\n",
              "    <tr>\n",
              "      <th id=\"T_3ee2b_level0_row8\" class=\"row_heading level0 row8\" >8</th>\n",
              "      <td id=\"T_3ee2b_row8_col0\" class=\"data row8 col0\" >Is your employer primarily a tech company/organization?</td>\n",
              "      <td id=\"T_3ee2b_row8_col1\" class=\"data row8 col1\" >9</td>\n",
              "    </tr>\n",
              "    <tr>\n",
              "      <th id=\"T_3ee2b_level0_row9\" class=\"row_heading level0 row9\" >9</th>\n",
              "      <td id=\"T_3ee2b_row9_col0\" class=\"data row9 col0\" >Does your employer provide mental health benefits as part of healthcare coverage?</td>\n",
              "      <td id=\"T_3ee2b_row9_col1\" class=\"data row9 col1\" >10</td>\n",
              "    </tr>\n",
              "  </tbody>\n",
              "</table>\n"
            ]
          },
          "metadata": {},
          "execution_count": 5
        }
      ]
    },
    {
      "cell_type": "markdown",
      "source": [
        "Dataframe **\"Answers\"** represents all answers given in each survey. It includes information about a year of the survey and the User IDs."
      ],
      "metadata": {
        "id": "D5a6HBShpxmT"
      }
    },
    {
      "cell_type": "code",
      "source": [
        "pd.set_option('display.max_colwidth', 30)\n",
        "answers_df.head()"
      ],
      "metadata": {
        "colab": {
          "base_uri": "https://localhost:8080/",
          "height": 206
        },
        "id": "yTebRoSIqYwg",
        "outputId": "8c7817ec-6cf1-47a2-bbd4-aee23b2b2f71"
      },
      "execution_count": null,
      "outputs": [
        {
          "output_type": "execute_result",
          "data": {
            "text/plain": [
              "  AnswerText  SurveyID  UserID  questionid\n",
              "0         37      2014       1           1\n",
              "1         44      2014       2           1\n",
              "2         32      2014       3           1\n",
              "3         31      2014       4           1\n",
              "4         31      2014       5           1"
            ],
            "text/html": [
              "\n",
              "  <div id=\"df-8cca5c82-11c7-4a78-b25d-d310ab99ba0e\">\n",
              "    <div class=\"colab-df-container\">\n",
              "      <div>\n",
              "<style scoped>\n",
              "    .dataframe tbody tr th:only-of-type {\n",
              "        vertical-align: middle;\n",
              "    }\n",
              "\n",
              "    .dataframe tbody tr th {\n",
              "        vertical-align: top;\n",
              "    }\n",
              "\n",
              "    .dataframe thead th {\n",
              "        text-align: right;\n",
              "    }\n",
              "</style>\n",
              "<table border=\"1\" class=\"dataframe\">\n",
              "  <thead>\n",
              "    <tr style=\"text-align: right;\">\n",
              "      <th></th>\n",
              "      <th>AnswerText</th>\n",
              "      <th>SurveyID</th>\n",
              "      <th>UserID</th>\n",
              "      <th>questionid</th>\n",
              "    </tr>\n",
              "  </thead>\n",
              "  <tbody>\n",
              "    <tr>\n",
              "      <th>0</th>\n",
              "      <td>37</td>\n",
              "      <td>2014</td>\n",
              "      <td>1</td>\n",
              "      <td>1</td>\n",
              "    </tr>\n",
              "    <tr>\n",
              "      <th>1</th>\n",
              "      <td>44</td>\n",
              "      <td>2014</td>\n",
              "      <td>2</td>\n",
              "      <td>1</td>\n",
              "    </tr>\n",
              "    <tr>\n",
              "      <th>2</th>\n",
              "      <td>32</td>\n",
              "      <td>2014</td>\n",
              "      <td>3</td>\n",
              "      <td>1</td>\n",
              "    </tr>\n",
              "    <tr>\n",
              "      <th>3</th>\n",
              "      <td>31</td>\n",
              "      <td>2014</td>\n",
              "      <td>4</td>\n",
              "      <td>1</td>\n",
              "    </tr>\n",
              "    <tr>\n",
              "      <th>4</th>\n",
              "      <td>31</td>\n",
              "      <td>2014</td>\n",
              "      <td>5</td>\n",
              "      <td>1</td>\n",
              "    </tr>\n",
              "  </tbody>\n",
              "</table>\n",
              "</div>\n",
              "      <button class=\"colab-df-convert\" onclick=\"convertToInteractive('df-8cca5c82-11c7-4a78-b25d-d310ab99ba0e')\"\n",
              "              title=\"Convert this dataframe to an interactive table.\"\n",
              "              style=\"display:none;\">\n",
              "        \n",
              "  <svg xmlns=\"http://www.w3.org/2000/svg\" height=\"24px\"viewBox=\"0 0 24 24\"\n",
              "       width=\"24px\">\n",
              "    <path d=\"M0 0h24v24H0V0z\" fill=\"none\"/>\n",
              "    <path d=\"M18.56 5.44l.94 2.06.94-2.06 2.06-.94-2.06-.94-.94-2.06-.94 2.06-2.06.94zm-11 1L8.5 8.5l.94-2.06 2.06-.94-2.06-.94L8.5 2.5l-.94 2.06-2.06.94zm10 10l.94 2.06.94-2.06 2.06-.94-2.06-.94-.94-2.06-.94 2.06-2.06.94z\"/><path d=\"M17.41 7.96l-1.37-1.37c-.4-.4-.92-.59-1.43-.59-.52 0-1.04.2-1.43.59L10.3 9.45l-7.72 7.72c-.78.78-.78 2.05 0 2.83L4 21.41c.39.39.9.59 1.41.59.51 0 1.02-.2 1.41-.59l7.78-7.78 2.81-2.81c.8-.78.8-2.07 0-2.86zM5.41 20L4 18.59l7.72-7.72 1.47 1.35L5.41 20z\"/>\n",
              "  </svg>\n",
              "      </button>\n",
              "      \n",
              "  <style>\n",
              "    .colab-df-container {\n",
              "      display:flex;\n",
              "      flex-wrap:wrap;\n",
              "      gap: 12px;\n",
              "    }\n",
              "\n",
              "    .colab-df-convert {\n",
              "      background-color: #E8F0FE;\n",
              "      border: none;\n",
              "      border-radius: 50%;\n",
              "      cursor: pointer;\n",
              "      display: none;\n",
              "      fill: #1967D2;\n",
              "      height: 32px;\n",
              "      padding: 0 0 0 0;\n",
              "      width: 32px;\n",
              "    }\n",
              "\n",
              "    .colab-df-convert:hover {\n",
              "      background-color: #E2EBFA;\n",
              "      box-shadow: 0px 1px 2px rgba(60, 64, 67, 0.3), 0px 1px 3px 1px rgba(60, 64, 67, 0.15);\n",
              "      fill: #174EA6;\n",
              "    }\n",
              "\n",
              "    [theme=dark] .colab-df-convert {\n",
              "      background-color: #3B4455;\n",
              "      fill: #D2E3FC;\n",
              "    }\n",
              "\n",
              "    [theme=dark] .colab-df-convert:hover {\n",
              "      background-color: #434B5C;\n",
              "      box-shadow: 0px 1px 3px 1px rgba(0, 0, 0, 0.15);\n",
              "      filter: drop-shadow(0px 1px 2px rgba(0, 0, 0, 0.3));\n",
              "      fill: #FFFFFF;\n",
              "    }\n",
              "  </style>\n",
              "\n",
              "      <script>\n",
              "        const buttonEl =\n",
              "          document.querySelector('#df-8cca5c82-11c7-4a78-b25d-d310ab99ba0e button.colab-df-convert');\n",
              "        buttonEl.style.display =\n",
              "          google.colab.kernel.accessAllowed ? 'block' : 'none';\n",
              "\n",
              "        async function convertToInteractive(key) {\n",
              "          const element = document.querySelector('#df-8cca5c82-11c7-4a78-b25d-d310ab99ba0e');\n",
              "          const dataTable =\n",
              "            await google.colab.kernel.invokeFunction('convertToInteractive',\n",
              "                                                     [key], {});\n",
              "          if (!dataTable) return;\n",
              "\n",
              "          const docLinkHtml = 'Like what you see? Visit the ' +\n",
              "            '<a target=\"_blank\" href=https://colab.research.google.com/notebooks/data_table.ipynb>data table notebook</a>'\n",
              "            + ' to learn more about interactive tables.';\n",
              "          element.innerHTML = '';\n",
              "          dataTable['output_type'] = 'display_data';\n",
              "          await google.colab.output.renderOutput(dataTable, element);\n",
              "          const docLink = document.createElement('div');\n",
              "          docLink.innerHTML = docLinkHtml;\n",
              "          element.appendChild(docLink);\n",
              "        }\n",
              "      </script>\n",
              "    </div>\n",
              "  </div>\n",
              "  "
            ]
          },
          "metadata": {},
          "execution_count": 6
        }
      ]
    },
    {
      "cell_type": "markdown",
      "source": [
        "Dataframe **\"Surveys\"** lists all the years that the surveys were taken."
      ],
      "metadata": {
        "id": "juVRWeRPqGn-"
      }
    },
    {
      "cell_type": "code",
      "source": [
        "surveys_df.head()"
      ],
      "metadata": {
        "colab": {
          "base_uri": "https://localhost:8080/",
          "height": 206
        },
        "id": "GrqJLBWzrnIL",
        "outputId": "48f4734b-a8fe-42f7-a144-3af11ba1bbf1"
      },
      "execution_count": null,
      "outputs": [
        {
          "output_type": "execute_result",
          "data": {
            "text/plain": [
              "   SurveyID                    Description\n",
              "0      2014  mental health survey for 2014\n",
              "1      2016  mental health survey for 2016\n",
              "2      2017  mental health survey for 2017\n",
              "3      2018  mental health survey for 2018\n",
              "4      2019  mental health survey for 2019"
            ],
            "text/html": [
              "\n",
              "  <div id=\"df-e5a7e589-3cf0-4cc3-9148-5b036c40c76b\">\n",
              "    <div class=\"colab-df-container\">\n",
              "      <div>\n",
              "<style scoped>\n",
              "    .dataframe tbody tr th:only-of-type {\n",
              "        vertical-align: middle;\n",
              "    }\n",
              "\n",
              "    .dataframe tbody tr th {\n",
              "        vertical-align: top;\n",
              "    }\n",
              "\n",
              "    .dataframe thead th {\n",
              "        text-align: right;\n",
              "    }\n",
              "</style>\n",
              "<table border=\"1\" class=\"dataframe\">\n",
              "  <thead>\n",
              "    <tr style=\"text-align: right;\">\n",
              "      <th></th>\n",
              "      <th>SurveyID</th>\n",
              "      <th>Description</th>\n",
              "    </tr>\n",
              "  </thead>\n",
              "  <tbody>\n",
              "    <tr>\n",
              "      <th>0</th>\n",
              "      <td>2014</td>\n",
              "      <td>mental health survey for 2014</td>\n",
              "    </tr>\n",
              "    <tr>\n",
              "      <th>1</th>\n",
              "      <td>2016</td>\n",
              "      <td>mental health survey for 2016</td>\n",
              "    </tr>\n",
              "    <tr>\n",
              "      <th>2</th>\n",
              "      <td>2017</td>\n",
              "      <td>mental health survey for 2017</td>\n",
              "    </tr>\n",
              "    <tr>\n",
              "      <th>3</th>\n",
              "      <td>2018</td>\n",
              "      <td>mental health survey for 2018</td>\n",
              "    </tr>\n",
              "    <tr>\n",
              "      <th>4</th>\n",
              "      <td>2019</td>\n",
              "      <td>mental health survey for 2019</td>\n",
              "    </tr>\n",
              "  </tbody>\n",
              "</table>\n",
              "</div>\n",
              "      <button class=\"colab-df-convert\" onclick=\"convertToInteractive('df-e5a7e589-3cf0-4cc3-9148-5b036c40c76b')\"\n",
              "              title=\"Convert this dataframe to an interactive table.\"\n",
              "              style=\"display:none;\">\n",
              "        \n",
              "  <svg xmlns=\"http://www.w3.org/2000/svg\" height=\"24px\"viewBox=\"0 0 24 24\"\n",
              "       width=\"24px\">\n",
              "    <path d=\"M0 0h24v24H0V0z\" fill=\"none\"/>\n",
              "    <path d=\"M18.56 5.44l.94 2.06.94-2.06 2.06-.94-2.06-.94-.94-2.06-.94 2.06-2.06.94zm-11 1L8.5 8.5l.94-2.06 2.06-.94-2.06-.94L8.5 2.5l-.94 2.06-2.06.94zm10 10l.94 2.06.94-2.06 2.06-.94-2.06-.94-.94-2.06-.94 2.06-2.06.94z\"/><path d=\"M17.41 7.96l-1.37-1.37c-.4-.4-.92-.59-1.43-.59-.52 0-1.04.2-1.43.59L10.3 9.45l-7.72 7.72c-.78.78-.78 2.05 0 2.83L4 21.41c.39.39.9.59 1.41.59.51 0 1.02-.2 1.41-.59l7.78-7.78 2.81-2.81c.8-.78.8-2.07 0-2.86zM5.41 20L4 18.59l7.72-7.72 1.47 1.35L5.41 20z\"/>\n",
              "  </svg>\n",
              "      </button>\n",
              "      \n",
              "  <style>\n",
              "    .colab-df-container {\n",
              "      display:flex;\n",
              "      flex-wrap:wrap;\n",
              "      gap: 12px;\n",
              "    }\n",
              "\n",
              "    .colab-df-convert {\n",
              "      background-color: #E8F0FE;\n",
              "      border: none;\n",
              "      border-radius: 50%;\n",
              "      cursor: pointer;\n",
              "      display: none;\n",
              "      fill: #1967D2;\n",
              "      height: 32px;\n",
              "      padding: 0 0 0 0;\n",
              "      width: 32px;\n",
              "    }\n",
              "\n",
              "    .colab-df-convert:hover {\n",
              "      background-color: #E2EBFA;\n",
              "      box-shadow: 0px 1px 2px rgba(60, 64, 67, 0.3), 0px 1px 3px 1px rgba(60, 64, 67, 0.15);\n",
              "      fill: #174EA6;\n",
              "    }\n",
              "\n",
              "    [theme=dark] .colab-df-convert {\n",
              "      background-color: #3B4455;\n",
              "      fill: #D2E3FC;\n",
              "    }\n",
              "\n",
              "    [theme=dark] .colab-df-convert:hover {\n",
              "      background-color: #434B5C;\n",
              "      box-shadow: 0px 1px 3px 1px rgba(0, 0, 0, 0.15);\n",
              "      filter: drop-shadow(0px 1px 2px rgba(0, 0, 0, 0.3));\n",
              "      fill: #FFFFFF;\n",
              "    }\n",
              "  </style>\n",
              "\n",
              "      <script>\n",
              "        const buttonEl =\n",
              "          document.querySelector('#df-e5a7e589-3cf0-4cc3-9148-5b036c40c76b button.colab-df-convert');\n",
              "        buttonEl.style.display =\n",
              "          google.colab.kernel.accessAllowed ? 'block' : 'none';\n",
              "\n",
              "        async function convertToInteractive(key) {\n",
              "          const element = document.querySelector('#df-e5a7e589-3cf0-4cc3-9148-5b036c40c76b');\n",
              "          const dataTable =\n",
              "            await google.colab.kernel.invokeFunction('convertToInteractive',\n",
              "                                                     [key], {});\n",
              "          if (!dataTable) return;\n",
              "\n",
              "          const docLinkHtml = 'Like what you see? Visit the ' +\n",
              "            '<a target=\"_blank\" href=https://colab.research.google.com/notebooks/data_table.ipynb>data table notebook</a>'\n",
              "            + ' to learn more about interactive tables.';\n",
              "          element.innerHTML = '';\n",
              "          dataTable['output_type'] = 'display_data';\n",
              "          await google.colab.output.renderOutput(dataTable, element);\n",
              "          const docLink = document.createElement('div');\n",
              "          docLink.innerHTML = docLinkHtml;\n",
              "          element.appendChild(docLink);\n",
              "        }\n",
              "      </script>\n",
              "    </div>\n",
              "  </div>\n",
              "  "
            ]
          },
          "metadata": {},
          "execution_count": 7
        }
      ]
    },
    {
      "cell_type": "markdown",
      "source": [
        "To investigate the patterns in the answers and generally recognize what is the mental condition of tech professionals, I both created SQL queries and I merged questions and answers dataframe together to use some pandas functions."
      ],
      "metadata": {
        "id": "gNCEmYRyqOlX"
      }
    },
    {
      "cell_type": "code",
      "source": [
        "questions_answers = pd.merge(\n",
        "    answers_df, questions_df, how='left', on='questionid')"
      ],
      "metadata": {
        "id": "yJMrxR3asVFE"
      },
      "execution_count": null,
      "outputs": []
    },
    {
      "cell_type": "code",
      "source": [
        "questions_answers.head()"
      ],
      "metadata": {
        "colab": {
          "base_uri": "https://localhost:8080/",
          "height": 206
        },
        "id": "mEgCWhZisbVh",
        "outputId": "63e3cc53-a39f-4073-a75a-906fb5342ff9"
      },
      "execution_count": null,
      "outputs": [
        {
          "output_type": "execute_result",
          "data": {
            "text/plain": [
              "  AnswerText  SurveyID  UserID  questionid       questiontext\n",
              "0         37      2014       1           1  What is your age?\n",
              "1         44      2014       2           1  What is your age?\n",
              "2         32      2014       3           1  What is your age?\n",
              "3         31      2014       4           1  What is your age?\n",
              "4         31      2014       5           1  What is your age?"
            ],
            "text/html": [
              "\n",
              "  <div id=\"df-35330c86-e37e-4491-ac88-c865be4701e2\">\n",
              "    <div class=\"colab-df-container\">\n",
              "      <div>\n",
              "<style scoped>\n",
              "    .dataframe tbody tr th:only-of-type {\n",
              "        vertical-align: middle;\n",
              "    }\n",
              "\n",
              "    .dataframe tbody tr th {\n",
              "        vertical-align: top;\n",
              "    }\n",
              "\n",
              "    .dataframe thead th {\n",
              "        text-align: right;\n",
              "    }\n",
              "</style>\n",
              "<table border=\"1\" class=\"dataframe\">\n",
              "  <thead>\n",
              "    <tr style=\"text-align: right;\">\n",
              "      <th></th>\n",
              "      <th>AnswerText</th>\n",
              "      <th>SurveyID</th>\n",
              "      <th>UserID</th>\n",
              "      <th>questionid</th>\n",
              "      <th>questiontext</th>\n",
              "    </tr>\n",
              "  </thead>\n",
              "  <tbody>\n",
              "    <tr>\n",
              "      <th>0</th>\n",
              "      <td>37</td>\n",
              "      <td>2014</td>\n",
              "      <td>1</td>\n",
              "      <td>1</td>\n",
              "      <td>What is your age?</td>\n",
              "    </tr>\n",
              "    <tr>\n",
              "      <th>1</th>\n",
              "      <td>44</td>\n",
              "      <td>2014</td>\n",
              "      <td>2</td>\n",
              "      <td>1</td>\n",
              "      <td>What is your age?</td>\n",
              "    </tr>\n",
              "    <tr>\n",
              "      <th>2</th>\n",
              "      <td>32</td>\n",
              "      <td>2014</td>\n",
              "      <td>3</td>\n",
              "      <td>1</td>\n",
              "      <td>What is your age?</td>\n",
              "    </tr>\n",
              "    <tr>\n",
              "      <th>3</th>\n",
              "      <td>31</td>\n",
              "      <td>2014</td>\n",
              "      <td>4</td>\n",
              "      <td>1</td>\n",
              "      <td>What is your age?</td>\n",
              "    </tr>\n",
              "    <tr>\n",
              "      <th>4</th>\n",
              "      <td>31</td>\n",
              "      <td>2014</td>\n",
              "      <td>5</td>\n",
              "      <td>1</td>\n",
              "      <td>What is your age?</td>\n",
              "    </tr>\n",
              "  </tbody>\n",
              "</table>\n",
              "</div>\n",
              "      <button class=\"colab-df-convert\" onclick=\"convertToInteractive('df-35330c86-e37e-4491-ac88-c865be4701e2')\"\n",
              "              title=\"Convert this dataframe to an interactive table.\"\n",
              "              style=\"display:none;\">\n",
              "        \n",
              "  <svg xmlns=\"http://www.w3.org/2000/svg\" height=\"24px\"viewBox=\"0 0 24 24\"\n",
              "       width=\"24px\">\n",
              "    <path d=\"M0 0h24v24H0V0z\" fill=\"none\"/>\n",
              "    <path d=\"M18.56 5.44l.94 2.06.94-2.06 2.06-.94-2.06-.94-.94-2.06-.94 2.06-2.06.94zm-11 1L8.5 8.5l.94-2.06 2.06-.94-2.06-.94L8.5 2.5l-.94 2.06-2.06.94zm10 10l.94 2.06.94-2.06 2.06-.94-2.06-.94-.94-2.06-.94 2.06-2.06.94z\"/><path d=\"M17.41 7.96l-1.37-1.37c-.4-.4-.92-.59-1.43-.59-.52 0-1.04.2-1.43.59L10.3 9.45l-7.72 7.72c-.78.78-.78 2.05 0 2.83L4 21.41c.39.39.9.59 1.41.59.51 0 1.02-.2 1.41-.59l7.78-7.78 2.81-2.81c.8-.78.8-2.07 0-2.86zM5.41 20L4 18.59l7.72-7.72 1.47 1.35L5.41 20z\"/>\n",
              "  </svg>\n",
              "      </button>\n",
              "      \n",
              "  <style>\n",
              "    .colab-df-container {\n",
              "      display:flex;\n",
              "      flex-wrap:wrap;\n",
              "      gap: 12px;\n",
              "    }\n",
              "\n",
              "    .colab-df-convert {\n",
              "      background-color: #E8F0FE;\n",
              "      border: none;\n",
              "      border-radius: 50%;\n",
              "      cursor: pointer;\n",
              "      display: none;\n",
              "      fill: #1967D2;\n",
              "      height: 32px;\n",
              "      padding: 0 0 0 0;\n",
              "      width: 32px;\n",
              "    }\n",
              "\n",
              "    .colab-df-convert:hover {\n",
              "      background-color: #E2EBFA;\n",
              "      box-shadow: 0px 1px 2px rgba(60, 64, 67, 0.3), 0px 1px 3px 1px rgba(60, 64, 67, 0.15);\n",
              "      fill: #174EA6;\n",
              "    }\n",
              "\n",
              "    [theme=dark] .colab-df-convert {\n",
              "      background-color: #3B4455;\n",
              "      fill: #D2E3FC;\n",
              "    }\n",
              "\n",
              "    [theme=dark] .colab-df-convert:hover {\n",
              "      background-color: #434B5C;\n",
              "      box-shadow: 0px 1px 3px 1px rgba(0, 0, 0, 0.15);\n",
              "      filter: drop-shadow(0px 1px 2px rgba(0, 0, 0, 0.3));\n",
              "      fill: #FFFFFF;\n",
              "    }\n",
              "  </style>\n",
              "\n",
              "      <script>\n",
              "        const buttonEl =\n",
              "          document.querySelector('#df-35330c86-e37e-4491-ac88-c865be4701e2 button.colab-df-convert');\n",
              "        buttonEl.style.display =\n",
              "          google.colab.kernel.accessAllowed ? 'block' : 'none';\n",
              "\n",
              "        async function convertToInteractive(key) {\n",
              "          const element = document.querySelector('#df-35330c86-e37e-4491-ac88-c865be4701e2');\n",
              "          const dataTable =\n",
              "            await google.colab.kernel.invokeFunction('convertToInteractive',\n",
              "                                                     [key], {});\n",
              "          if (!dataTable) return;\n",
              "\n",
              "          const docLinkHtml = 'Like what you see? Visit the ' +\n",
              "            '<a target=\"_blank\" href=https://colab.research.google.com/notebooks/data_table.ipynb>data table notebook</a>'\n",
              "            + ' to learn more about interactive tables.';\n",
              "          element.innerHTML = '';\n",
              "          dataTable['output_type'] = 'display_data';\n",
              "          await google.colab.output.renderOutput(dataTable, element);\n",
              "          const docLink = document.createElement('div');\n",
              "          docLink.innerHTML = docLinkHtml;\n",
              "          element.appendChild(docLink);\n",
              "        }\n",
              "      </script>\n",
              "    </div>\n",
              "  </div>\n",
              "  "
            ]
          },
          "metadata": {},
          "execution_count": 9
        }
      ]
    },
    {
      "cell_type": "markdown",
      "source": [
        "Surveys took place in 2014, 2016-2019 years. I will investigate what was the number of participants each year and also what was the number of questions (to check if questions were the same)."
      ],
      "metadata": {
        "id": "m5x_2hdcxSg9"
      }
    },
    {
      "cell_type": "code",
      "source": [
        "number_of_participants = pd.read_sql_query(\n",
        "        '''\n",
        "        SELECT SurveyID AS Year, \n",
        "               COUNT(DISTINCT UserID) AS Nr_of_participants\n",
        "        FROM Answer\n",
        "        GROUP BY SurveyID\n",
        "        ORDER BY 1\n",
        "        ''', con)"
      ],
      "metadata": {
        "id": "iCEeFR9j72w4"
      },
      "execution_count": null,
      "outputs": []
    },
    {
      "cell_type": "code",
      "source": [
        "barplot(df_plot=number_of_participants, x='Year', y='Nr_of_participants', \n",
        "        color='grey')\n",
        "\n",
        "plt.subplots_adjust(top=0.9)\n",
        "plt.title('Number of respondents for each year', fontdict={'fontsize': 16})\n",
        "plt.ylabel(' ');"
      ],
      "metadata": {
        "colab": {
          "base_uri": "https://localhost:8080/",
          "height": 515
        },
        "id": "vCrAnITxE4vp",
        "outputId": "5a5ca03c-8b30-4670-e03c-8b5819d92e28"
      },
      "execution_count": null,
      "outputs": [
        {
          "output_type": "display_data",
          "data": {
            "text/plain": [
              "<Figure size 720x576 with 1 Axes>"
            ],
            "image/png": "[encoded data removed]"
          },
          "metadata": {}
        }
      ]
    },
    {
      "cell_type": "code",
      "source": [
        "number_of_questions = pd.read_sql_query(\n",
        "        '''\n",
        "        SELECT SurveyID AS Year, \n",
        "               COUNT(DISTINCT questionid) AS Nr_of_questions\n",
        "        FROM Answer\n",
        "        GROUP BY SurveyID\n",
        "        ORDER BY 1\n",
        "        ''', con)"
      ],
      "metadata": {
        "id": "jQUzIpJ4GbAN"
      },
      "execution_count": null,
      "outputs": []
    },
    {
      "cell_type": "code",
      "source": [
        "barplot(df_plot=number_of_questions, x='Year', y='Nr_of_questions', \n",
        "        color='grey')\n",
        "\n",
        "plt.subplots_adjust(top=0.9)\n",
        "plt.title('Number of questions for each year', fontdict={'fontsize': 16})\n",
        "plt.ylabel(' ');"
      ],
      "metadata": {
        "colab": {
          "base_uri": "https://localhost:8080/",
          "height": 515
        },
        "id": "Wb2ADyW-G1p_",
        "outputId": "a3964f22-d7fb-4224-bf1e-66c300fabc06"
      },
      "execution_count": null,
      "outputs": [
        {
          "output_type": "display_data",
          "data": {
            "text/plain": [
              "<Figure size 720x576 with 1 Axes>"
            ],
            "image/png": "[encoded data removed]"
          },
          "metadata": {}
        }
      ]
    },
    {
      "cell_type": "markdown",
      "source": [
        "The number of participants for each of the survey for the following year decreases. It started with the high amount of participants in 2014 and 2016 and dropped dramatically in 2019. The opposite trend is regarding number of questions. First survey asked only 26 of them, and from 2017 the number of questions was stable and equal to 76."
      ],
      "metadata": {
        "id": "jpmVgx0nHGWv"
      }
    },
    {
      "cell_type": "markdown",
      "source": [
        "\n",
        "\n",
        "---\n",
        "\n"
      ],
      "metadata": {
        "id": "gxsjAg88vMzP"
      }
    },
    {
      "cell_type": "markdown",
      "source": [
        "#General description of the survey's participants"
      ],
      "metadata": {
        "id": "MsDd-7WFUyAI"
      }
    },
    {
      "cell_type": "markdown",
      "source": [
        "First step in the analysis of mental health of IT professionals is to get familiar with the demographic spectrum of participants. I will closely look into:\n",
        "* gender,\n",
        "* the age of the participants,\n",
        "* race, \n",
        "* the origin of the participants,\n",
        "* the size and location of companies they work for.\n"
      ],
      "metadata": {
        "id": "RjBH6REXmCqG"
      }
    },
    {
      "cell_type": "markdown",
      "source": [
        "### Gender analysis of survey's respondents."
      ],
      "metadata": {
        "id": "Do9K4GQkrM7q"
      }
    },
    {
      "cell_type": "markdown",
      "source": [
        "Extraction of the answer from Question 2 (the gender of respondents)."
      ],
      "metadata": {
        "id": "LGqr4BHpm-FC"
      }
    },
    {
      "cell_type": "code",
      "source": [
        "gender_by_year = questions_answers.query(\"questionid == 2\")\n",
        "gender_by_year.groupby(\"UserID\");\n"
      ],
      "metadata": {
        "id": "sAKDYYBR17zd"
      },
      "execution_count": null,
      "outputs": []
    },
    {
      "cell_type": "markdown",
      "source": [
        "Checking for all possible answers in questions about the gender."
      ],
      "metadata": {
        "id": "vRSHXQy-nFBA"
      }
    },
    {
      "cell_type": "code",
      "source": [
        "gender_by_year.groupby('AnswerText').filter(\n",
        "    lambda x: len(x) >=2)['AnswerText'].value_counts()"
      ],
      "metadata": {
        "colab": {
          "base_uri": "https://localhost:8080/"
        },
        "id": "cusFe8MKrW-7",
        "outputId": "59178bd2-d15b-4b39-ebbf-663ee7b00dd0"
      },
      "execution_count": null,
      "outputs": [
        {
          "output_type": "execute_result",
          "data": {
            "text/plain": [
              "Male              2830\n",
              "Female             914\n",
              "male               212\n",
              "female             110\n",
              "-1                  24\n",
              "Nonbinary            8\n",
              "non-binary           6\n",
              "Genderqueer          4\n",
              "Agender              4\n",
              "None                 3\n",
              "Non-binary           3\n",
              "Genderfluid          3\n",
              "Trans man            2\n",
              "Non binary           2\n",
              "Other                2\n",
              "Female (trans)       2\n",
              "Trans woman          2\n",
              "Enby                 2\n",
              "Male-ish             2\n",
              "agender              2\n",
              "Name: AnswerText, dtype: int64"
            ]
          },
          "metadata": {},
          "execution_count": 15
        }
      ]
    },
    {
      "cell_type": "markdown",
      "source": [
        "Taking a quick look into the gender of the participants forced me to perform a quick and simple data cleaning."
      ],
      "metadata": {
        "id": "JrOzcClsnjJZ"
      }
    },
    {
      "cell_type": "code",
      "source": [
        "replace_values = {'male': 'Male', 'female': 'Female'}\n",
        "\n",
        "gender_by_year = gender_by_year.replace(\n",
        "    {'AnswerText': replace_values})"
      ],
      "metadata": {
        "id": "GwjGCVXGtczV"
      },
      "execution_count": null,
      "outputs": []
    },
    {
      "cell_type": "code",
      "source": [
        "gender_by_year.loc[gender_by_year['AnswerText'].value_counts(\n",
        "    )[gender_by_year['AnswerText']].values < 25, 'AnswerText'] = \"Other\""
      ],
      "metadata": {
        "id": "09vsn72euxQD"
      },
      "execution_count": null,
      "outputs": []
    },
    {
      "cell_type": "code",
      "source": [
        "gender_by_year['AnswerText'].value_counts()"
      ],
      "metadata": {
        "colab": {
          "base_uri": "https://localhost:8080/"
        },
        "id": "i44tlaW9xrIU",
        "outputId": "2410f363-cbac-4c40-b321-ba3cddd2dc70"
      },
      "execution_count": null,
      "outputs": [
        {
          "output_type": "execute_result",
          "data": {
            "text/plain": [
              "Male      3042\n",
              "Female    1024\n",
              "Other      152\n",
              "Name: AnswerText, dtype: int64"
            ]
          },
          "metadata": {},
          "execution_count": 18
        }
      ]
    },
    {
      "cell_type": "code",
      "source": [
        "#@title\n",
        "plot_gender = gender_by_year.groupby(\n",
        "    ['SurveyID', 'AnswerText'])['AnswerText'].value_counts()"
      ],
      "metadata": {
        "id": "JGKOI6dfx9ga",
        "cellView": "form"
      },
      "execution_count": null,
      "outputs": []
    },
    {
      "cell_type": "code",
      "source": [
        "g = sns.catplot(x='SurveyID', data=gender_by_year, aspect=2.0, kind='count',\n",
        "                    hue='AnswerText')\n",
        "\n",
        "g.set_axis_labels(' ', 'Number of participants', labelpad=10)\n",
        "g.legend.set_title('Gender of participants')\n",
        "g.ax.margins(.05)"
      ],
      "metadata": {
        "colab": {
          "base_uri": "https://localhost:8080/",
          "height": 371
        },
        "id": "aBrXMrmC7z4d",
        "outputId": "afdab1f2-bf14-4a5f-b47c-02397503d02e"
      },
      "execution_count": null,
      "outputs": [
        {
          "output_type": "display_data",
          "data": {
            "text/plain": [
              "<Figure size 799.725x360 with 1 Axes>"
            ],
            "image/png": "[encoded data removed]"
          },
          "metadata": {}
        }
      ]
    },
    {
      "cell_type": "markdown",
      "source": [
        "Across all years of mental health tech professional survey's, there is a clear predominance of male participants (about 3x more than female respondents in 2014 and 2016, about 2x more in 2017, 2018 and 2019). Each year there are about the same number of people who identified themselves as neither female, nor male (total 152 people across years). "
      ],
      "metadata": {
        "id": "XHlC-cZho0mR"
      }
    },
    {
      "cell_type": "markdown",
      "source": [
        "### Age of participants"
      ],
      "metadata": {
        "id": "Nd0f2GsAvV7D"
      }
    },
    {
      "cell_type": "code",
      "source": [
        "participants_by_age = questions_answers.query(\"questionid == 1\")\n",
        "participants_by_age.groupby(\"UserID\")\n",
        "participants_by_age.head()"
      ],
      "metadata": {
        "colab": {
          "base_uri": "https://localhost:8080/",
          "height": 206
        },
        "id": "HLOWuSl_EiAf",
        "outputId": "b2f583fb-8b18-4eae-fe54-ef2befedb1bf",
        "collapsed": true
      },
      "execution_count": null,
      "outputs": [
        {
          "output_type": "execute_result",
          "data": {
            "text/plain": [
              "  AnswerText  SurveyID  UserID  questionid       questiontext\n",
              "0         37      2014       1           1  What is your age?\n",
              "1         44      2014       2           1  What is your age?\n",
              "2         32      2014       3           1  What is your age?\n",
              "3         31      2014       4           1  What is your age?\n",
              "4         31      2014       5           1  What is your age?"
            ],
            "text/html": [
              "\n",
              "  <div id=\"df-cd7d43c2-f20b-4df5-8124-b75947a3efe6\">\n",
              "    <div class=\"colab-df-container\">\n",
              "      <div>\n",
              "<style scoped>\n",
              "    .dataframe tbody tr th:only-of-type {\n",
              "        vertical-align: middle;\n",
              "    }\n",
              "\n",
              "    .dataframe tbody tr th {\n",
              "        vertical-align: top;\n",
              "    }\n",
              "\n",
              "    .dataframe thead th {\n",
              "        text-align: right;\n",
              "    }\n",
              "</style>\n",
              "<table border=\"1\" class=\"dataframe\">\n",
              "  <thead>\n",
              "    <tr style=\"text-align: right;\">\n",
              "      <th></th>\n",
              "      <th>AnswerText</th>\n",
              "      <th>SurveyID</th>\n",
              "      <th>UserID</th>\n",
              "      <th>questionid</th>\n",
              "      <th>questiontext</th>\n",
              "    </tr>\n",
              "  </thead>\n",
              "  <tbody>\n",
              "    <tr>\n",
              "      <th>0</th>\n",
              "      <td>37</td>\n",
              "      <td>2014</td>\n",
              "      <td>1</td>\n",
              "      <td>1</td>\n",
              "      <td>What is your age?</td>\n",
              "    </tr>\n",
              "    <tr>\n",
              "      <th>1</th>\n",
              "      <td>44</td>\n",
              "      <td>2014</td>\n",
              "      <td>2</td>\n",
              "      <td>1</td>\n",
              "      <td>What is your age?</td>\n",
              "    </tr>\n",
              "    <tr>\n",
              "      <th>2</th>\n",
              "      <td>32</td>\n",
              "      <td>2014</td>\n",
              "      <td>3</td>\n",
              "      <td>1</td>\n",
              "      <td>What is your age?</td>\n",
              "    </tr>\n",
              "    <tr>\n",
              "      <th>3</th>\n",
              "      <td>31</td>\n",
              "      <td>2014</td>\n",
              "      <td>4</td>\n",
              "      <td>1</td>\n",
              "      <td>What is your age?</td>\n",
              "    </tr>\n",
              "    <tr>\n",
              "      <th>4</th>\n",
              "      <td>31</td>\n",
              "      <td>2014</td>\n",
              "      <td>5</td>\n",
              "      <td>1</td>\n",
              "      <td>What is your age?</td>\n",
              "    </tr>\n",
              "  </tbody>\n",
              "</table>\n",
              "</div>\n",
              "      <button class=\"colab-df-convert\" onclick=\"convertToInteractive('df-cd7d43c2-f20b-4df5-8124-b75947a3efe6')\"\n",
              "              title=\"Convert this dataframe to an interactive table.\"\n",
              "              style=\"display:none;\">\n",
              "        \n",
              "  <svg xmlns=\"http://www.w3.org/2000/svg\" height=\"24px\"viewBox=\"0 0 24 24\"\n",
              "       width=\"24px\">\n",
              "    <path d=\"M0 0h24v24H0V0z\" fill=\"none\"/>\n",
              "    <path d=\"M18.56 5.44l.94 2.06.94-2.06 2.06-.94-2.06-.94-.94-2.06-.94 2.06-2.06.94zm-11 1L8.5 8.5l.94-2.06 2.06-.94-2.06-.94L8.5 2.5l-.94 2.06-2.06.94zm10 10l.94 2.06.94-2.06 2.06-.94-2.06-.94-.94-2.06-.94 2.06-2.06.94z\"/><path d=\"M17.41 7.96l-1.37-1.37c-.4-.4-.92-.59-1.43-.59-.52 0-1.04.2-1.43.59L10.3 9.45l-7.72 7.72c-.78.78-.78 2.05 0 2.83L4 21.41c.39.39.9.59 1.41.59.51 0 1.02-.2 1.41-.59l7.78-7.78 2.81-2.81c.8-.78.8-2.07 0-2.86zM5.41 20L4 18.59l7.72-7.72 1.47 1.35L5.41 20z\"/>\n",
              "  </svg>\n",
              "      </button>\n",
              "      \n",
              "  <style>\n",
              "    .colab-df-container {\n",
              "      display:flex;\n",
              "      flex-wrap:wrap;\n",
              "      gap: 12px;\n",
              "    }\n",
              "\n",
              "    .colab-df-convert {\n",
              "      background-color: #E8F0FE;\n",
              "      border: none;\n",
              "      border-radius: 50%;\n",
              "      cursor: pointer;\n",
              "      display: none;\n",
              "      fill: #1967D2;\n",
              "      height: 32px;\n",
              "      padding: 0 0 0 0;\n",
              "      width: 32px;\n",
              "    }\n",
              "\n",
              "    .colab-df-convert:hover {\n",
              "      background-color: #E2EBFA;\n",
              "      box-shadow: 0px 1px 2px rgba(60, 64, 67, 0.3), 0px 1px 3px 1px rgba(60, 64, 67, 0.15);\n",
              "      fill: #174EA6;\n",
              "    }\n",
              "\n",
              "    [theme=dark] .colab-df-convert {\n",
              "      background-color: #3B4455;\n",
              "      fill: #D2E3FC;\n",
              "    }\n",
              "\n",
              "    [theme=dark] .colab-df-convert:hover {\n",
              "      background-color: #434B5C;\n",
              "      box-shadow: 0px 1px 3px 1px rgba(0, 0, 0, 0.15);\n",
              "      filter: drop-shadow(0px 1px 2px rgba(0, 0, 0, 0.3));\n",
              "      fill: #FFFFFF;\n",
              "    }\n",
              "  </style>\n",
              "\n",
              "      <script>\n",
              "        const buttonEl =\n",
              "          document.querySelector('#df-cd7d43c2-f20b-4df5-8124-b75947a3efe6 button.colab-df-convert');\n",
              "        buttonEl.style.display =\n",
              "          google.colab.kernel.accessAllowed ? 'block' : 'none';\n",
              "\n",
              "        async function convertToInteractive(key) {\n",
              "          const element = document.querySelector('#df-cd7d43c2-f20b-4df5-8124-b75947a3efe6');\n",
              "          const dataTable =\n",
              "            await google.colab.kernel.invokeFunction('convertToInteractive',\n",
              "                                                     [key], {});\n",
              "          if (!dataTable) return;\n",
              "\n",
              "          const docLinkHtml = 'Like what you see? Visit the ' +\n",
              "            '<a target=\"_blank\" href=https://colab.research.google.com/notebooks/data_table.ipynb>data table notebook</a>'\n",
              "            + ' to learn more about interactive tables.';\n",
              "          element.innerHTML = '';\n",
              "          dataTable['output_type'] = 'display_data';\n",
              "          await google.colab.output.renderOutput(dataTable, element);\n",
              "          const docLink = document.createElement('div');\n",
              "          docLink.innerHTML = docLinkHtml;\n",
              "          element.appendChild(docLink);\n",
              "        }\n",
              "      </script>\n",
              "    </div>\n",
              "  </div>\n",
              "  "
            ]
          },
          "metadata": {},
          "execution_count": 21
        }
      ]
    },
    {
      "cell_type": "code",
      "source": [
        "participants_by_age = participants_by_age.astype({\n",
        "    'AnswerText': float})"
      ],
      "metadata": {
        "id": "Cpx5WPuCFJOA"
      },
      "execution_count": null,
      "outputs": []
    },
    {
      "cell_type": "code",
      "source": [
        "participants_by_age['AnswerText'].describe().to_frame()"
      ],
      "metadata": {
        "colab": {
          "base_uri": "https://localhost:8080/",
          "height": 300
        },
        "id": "GphNvdVOWBvb",
        "outputId": "6201d465-67c6-4f2c-eb05-2945727bcb15"
      },
      "execution_count": null,
      "outputs": [
        {
          "output_type": "execute_result",
          "data": {
            "text/plain": [
              "        AnswerText\n",
              "count  4218.000000\n",
              "mean     33.915363\n",
              "std      10.478054\n",
              "min     -29.000000\n",
              "25%      28.000000\n",
              "50%      33.000000\n",
              "75%      38.000000\n",
              "max     329.000000"
            ],
            "text/html": [
              "\n",
              "  <div id=\"df-e59b38bc-8084-4207-94fa-3374a41551ea\">\n",
              "    <div class=\"colab-df-container\">\n",
              "      <div>\n",
              "<style scoped>\n",
              "    .dataframe tbody tr th:only-of-type {\n",
              "        vertical-align: middle;\n",
              "    }\n",
              "\n",
              "    .dataframe tbody tr th {\n",
              "        vertical-align: top;\n",
              "    }\n",
              "\n",
              "    .dataframe thead th {\n",
              "        text-align: right;\n",
              "    }\n",
              "</style>\n",
              "<table border=\"1\" class=\"dataframe\">\n",
              "  <thead>\n",
              "    <tr style=\"text-align: right;\">\n",
              "      <th></th>\n",
              "      <th>AnswerText</th>\n",
              "    </tr>\n",
              "  </thead>\n",
              "  <tbody>\n",
              "    <tr>\n",
              "      <th>count</th>\n",
              "      <td>4218.000000</td>\n",
              "    </tr>\n",
              "    <tr>\n",
              "      <th>mean</th>\n",
              "      <td>33.915363</td>\n",
              "    </tr>\n",
              "    <tr>\n",
              "      <th>std</th>\n",
              "      <td>10.478054</td>\n",
              "    </tr>\n",
              "    <tr>\n",
              "      <th>min</th>\n",
              "      <td>-29.000000</td>\n",
              "    </tr>\n",
              "    <tr>\n",
              "      <th>25%</th>\n",
              "      <td>28.000000</td>\n",
              "    </tr>\n",
              "    <tr>\n",
              "      <th>50%</th>\n",
              "      <td>33.000000</td>\n",
              "    </tr>\n",
              "    <tr>\n",
              "      <th>75%</th>\n",
              "      <td>38.000000</td>\n",
              "    </tr>\n",
              "    <tr>\n",
              "      <th>max</th>\n",
              "      <td>329.000000</td>\n",
              "    </tr>\n",
              "  </tbody>\n",
              "</table>\n",
              "</div>\n",
              "      <button class=\"colab-df-convert\" onclick=\"convertToInteractive('df-e59b38bc-8084-4207-94fa-3374a41551ea')\"\n",
              "              title=\"Convert this dataframe to an interactive table.\"\n",
              "              style=\"display:none;\">\n",
              "        \n",
              "  <svg xmlns=\"http://www.w3.org/2000/svg\" height=\"24px\"viewBox=\"0 0 24 24\"\n",
              "       width=\"24px\">\n",
              "    <path d=\"M0 0h24v24H0V0z\" fill=\"none\"/>\n",
              "    <path d=\"M18.56 5.44l.94 2.06.94-2.06 2.06-.94-2.06-.94-.94-2.06-.94 2.06-2.06.94zm-11 1L8.5 8.5l.94-2.06 2.06-.94-2.06-.94L8.5 2.5l-.94 2.06-2.06.94zm10 10l.94 2.06.94-2.06 2.06-.94-2.06-.94-.94-2.06-.94 2.06-2.06.94z\"/><path d=\"M17.41 7.96l-1.37-1.37c-.4-.4-.92-.59-1.43-.59-.52 0-1.04.2-1.43.59L10.3 9.45l-7.72 7.72c-.78.78-.78 2.05 0 2.83L4 21.41c.39.39.9.59 1.41.59.51 0 1.02-.2 1.41-.59l7.78-7.78 2.81-2.81c.8-.78.8-2.07 0-2.86zM5.41 20L4 18.59l7.72-7.72 1.47 1.35L5.41 20z\"/>\n",
              "  </svg>\n",
              "      </button>\n",
              "      \n",
              "  <style>\n",
              "    .colab-df-container {\n",
              "      display:flex;\n",
              "      flex-wrap:wrap;\n",
              "      gap: 12px;\n",
              "    }\n",
              "\n",
              "    .colab-df-convert {\n",
              "      background-color: #E8F0FE;\n",
              "      border: none;\n",
              "      border-radius: 50%;\n",
              "      cursor: pointer;\n",
              "      display: none;\n",
              "      fill: #1967D2;\n",
              "      height: 32px;\n",
              "      padding: 0 0 0 0;\n",
              "      width: 32px;\n",
              "    }\n",
              "\n",
              "    .colab-df-convert:hover {\n",
              "      background-color: #E2EBFA;\n",
              "      box-shadow: 0px 1px 2px rgba(60, 64, 67, 0.3), 0px 1px 3px 1px rgba(60, 64, 67, 0.15);\n",
              "      fill: #174EA6;\n",
              "    }\n",
              "\n",
              "    [theme=dark] .colab-df-convert {\n",
              "      background-color: #3B4455;\n",
              "      fill: #D2E3FC;\n",
              "    }\n",
              "\n",
              "    [theme=dark] .colab-df-convert:hover {\n",
              "      background-color: #434B5C;\n",
              "      box-shadow: 0px 1px 3px 1px rgba(0, 0, 0, 0.15);\n",
              "      filter: drop-shadow(0px 1px 2px rgba(0, 0, 0, 0.3));\n",
              "      fill: #FFFFFF;\n",
              "    }\n",
              "  </style>\n",
              "\n",
              "      <script>\n",
              "        const buttonEl =\n",
              "          document.querySelector('#df-e59b38bc-8084-4207-94fa-3374a41551ea button.colab-df-convert');\n",
              "        buttonEl.style.display =\n",
              "          google.colab.kernel.accessAllowed ? 'block' : 'none';\n",
              "\n",
              "        async function convertToInteractive(key) {\n",
              "          const element = document.querySelector('#df-e59b38bc-8084-4207-94fa-3374a41551ea');\n",
              "          const dataTable =\n",
              "            await google.colab.kernel.invokeFunction('convertToInteractive',\n",
              "                                                     [key], {});\n",
              "          if (!dataTable) return;\n",
              "\n",
              "          const docLinkHtml = 'Like what you see? Visit the ' +\n",
              "            '<a target=\"_blank\" href=https://colab.research.google.com/notebooks/data_table.ipynb>data table notebook</a>'\n",
              "            + ' to learn more about interactive tables.';\n",
              "          element.innerHTML = '';\n",
              "          dataTable['output_type'] = 'display_data';\n",
              "          await google.colab.output.renderOutput(dataTable, element);\n",
              "          const docLink = document.createElement('div');\n",
              "          docLink.innerHTML = docLinkHtml;\n",
              "          element.appendChild(docLink);\n",
              "        }\n",
              "      </script>\n",
              "    </div>\n",
              "  </div>\n",
              "  "
            ]
          },
          "metadata": {},
          "execution_count": 23
        }
      ]
    },
    {
      "cell_type": "code",
      "source": [
        "Q1 = participants_by_age['AnswerText'].quantile(0.25)\n",
        "Q3 = participants_by_age['AnswerText'].quantile(0.75)\n",
        "IQR = Q3 - Q1\n",
        "\n",
        "outliers_participants = (participants_by_age['AnswerText'] < (Q1 - 1.5 * IQR)) \\\n",
        "| (participants_by_age['AnswerText'] > (Q3 + 1.5 * IQR))\n",
        "\n",
        "((participants_by_age['AnswerText'] < (Q1 - 1.5 * IQR)) \\\n",
        "| (participants_by_age['AnswerText'] > (Q3 + 1.5 * IQR))).sum()"
      ],
      "metadata": {
        "colab": {
          "base_uri": "https://localhost:8080/"
        },
        "id": "QEKI5MrPJfB9",
        "outputId": "cd78795f-c6d2-40b6-d75e-d609aaf27e58"
      },
      "execution_count": null,
      "outputs": [
        {
          "output_type": "execute_result",
          "data": {
            "text/plain": [
              "124"
            ]
          },
          "metadata": {},
          "execution_count": 24
        }
      ]
    },
    {
      "cell_type": "code",
      "source": [
        "g = sns.boxplot(x=None, y=participants_by_age['AnswerText'])\n",
        "g.set_title(\"Boxplot for victims age\", fontsize=18)\n",
        "g.grid(True);"
      ],
      "metadata": {
        "colab": {
          "base_uri": "https://localhost:8080/",
          "height": 486
        },
        "id": "-ShNXF-BJzVT",
        "outputId": "c3703535-e27a-406c-f32b-9bdd7a69aa6d"
      },
      "execution_count": null,
      "outputs": [
        {
          "output_type": "display_data",
          "data": {
            "text/plain": [
              "<Figure size 720x576 with 1 Axes>"
            ],
            "image/png": "[encoded data removed]"
          },
          "metadata": {}
        }
      ]
    },
    {
      "cell_type": "markdown",
      "source": [
        "At first sight, from the boxplot, I can see that there are some invalid inputs for age (no one can have 'minus' years or be older than 120). I decided to delete values under 12 and above 90."
      ],
      "metadata": {
        "id": "FMbQMeqnv8z0"
      }
    },
    {
      "cell_type": "code",
      "source": [
        "participants_by_age.loc[\n",
        "  ((participants_by_age['AnswerText'] < 12) \\\n",
        "  | (participants_by_age['AnswerText'] > 90)), 'AnswerText'] = 34"
      ],
      "metadata": {
        "id": "64GX6XfgVgtI"
      },
      "execution_count": null,
      "outputs": []
    },
    {
      "cell_type": "code",
      "source": [
        "g = sns.boxplot(x=None, y=participants_by_age['AnswerText'])\n",
        "g.set_title(\"Boxplot for victims age\", fontsize=14)\n",
        "g.grid(True);"
      ],
      "metadata": {
        "colab": {
          "base_uri": "https://localhost:8080/",
          "height": 483
        },
        "id": "pqA_HJZIXipf",
        "outputId": "78397499-c62f-4372-d8b9-f7ae8f5ac2b9"
      },
      "execution_count": null,
      "outputs": [
        {
          "output_type": "display_data",
          "data": {
            "text/plain": [
              "<Figure size 720x576 with 1 Axes>"
            ],
            "image/png": "[encoded data removed]"
          },
          "metadata": {}
        }
      ]
    },
    {
      "cell_type": "code",
      "source": [
        "participants_by_age['AnswerText'].describe().to_frame()"
      ],
      "metadata": {
        "colab": {
          "base_uri": "https://localhost:8080/",
          "height": 300
        },
        "id": "rB6D894jYlZT",
        "outputId": "384c88cb-4967-4a43-c509-fe3c3e2427cf"
      },
      "execution_count": null,
      "outputs": [
        {
          "output_type": "execute_result",
          "data": {
            "text/plain": [
              "        AnswerText\n",
              "count  4218.000000\n",
              "mean     33.851826\n",
              "std       8.059130\n",
              "min      15.000000\n",
              "25%      28.000000\n",
              "50%      33.000000\n",
              "75%      38.000000\n",
              "max      74.000000"
            ],
            "text/html": [
              "\n",
              "  <div id=\"df-4596e806-ada3-48aa-a285-a491f75c4565\">\n",
              "    <div class=\"colab-df-container\">\n",
              "      <div>\n",
              "<style scoped>\n",
              "    .dataframe tbody tr th:only-of-type {\n",
              "        vertical-align: middle;\n",
              "    }\n",
              "\n",
              "    .dataframe tbody tr th {\n",
              "        vertical-align: top;\n",
              "    }\n",
              "\n",
              "    .dataframe thead th {\n",
              "        text-align: right;\n",
              "    }\n",
              "</style>\n",
              "<table border=\"1\" class=\"dataframe\">\n",
              "  <thead>\n",
              "    <tr style=\"text-align: right;\">\n",
              "      <th></th>\n",
              "      <th>AnswerText</th>\n",
              "    </tr>\n",
              "  </thead>\n",
              "  <tbody>\n",
              "    <tr>\n",
              "      <th>count</th>\n",
              "      <td>4218.000000</td>\n",
              "    </tr>\n",
              "    <tr>\n",
              "      <th>mean</th>\n",
              "      <td>33.851826</td>\n",
              "    </tr>\n",
              "    <tr>\n",
              "      <th>std</th>\n",
              "      <td>8.059130</td>\n",
              "    </tr>\n",
              "    <tr>\n",
              "      <th>min</th>\n",
              "      <td>15.000000</td>\n",
              "    </tr>\n",
              "    <tr>\n",
              "      <th>25%</th>\n",
              "      <td>28.000000</td>\n",
              "    </tr>\n",
              "    <tr>\n",
              "      <th>50%</th>\n",
              "      <td>33.000000</td>\n",
              "    </tr>\n",
              "    <tr>\n",
              "      <th>75%</th>\n",
              "      <td>38.000000</td>\n",
              "    </tr>\n",
              "    <tr>\n",
              "      <th>max</th>\n",
              "      <td>74.000000</td>\n",
              "    </tr>\n",
              "  </tbody>\n",
              "</table>\n",
              "</div>\n",
              "      <button class=\"colab-df-convert\" onclick=\"convertToInteractive('df-4596e806-ada3-48aa-a285-a491f75c4565')\"\n",
              "              title=\"Convert this dataframe to an interactive table.\"\n",
              "              style=\"display:none;\">\n",
              "        \n",
              "  <svg xmlns=\"http://www.w3.org/2000/svg\" height=\"24px\"viewBox=\"0 0 24 24\"\n",
              "       width=\"24px\">\n",
              "    <path d=\"M0 0h24v24H0V0z\" fill=\"none\"/>\n",
              "    <path d=\"M18.56 5.44l.94 2.06.94-2.06 2.06-.94-2.06-.94-.94-2.06-.94 2.06-2.06.94zm-11 1L8.5 8.5l.94-2.06 2.06-.94-2.06-.94L8.5 2.5l-.94 2.06-2.06.94zm10 10l.94 2.06.94-2.06 2.06-.94-2.06-.94-.94-2.06-.94 2.06-2.06.94z\"/><path d=\"M17.41 7.96l-1.37-1.37c-.4-.4-.92-.59-1.43-.59-.52 0-1.04.2-1.43.59L10.3 9.45l-7.72 7.72c-.78.78-.78 2.05 0 2.83L4 21.41c.39.39.9.59 1.41.59.51 0 1.02-.2 1.41-.59l7.78-7.78 2.81-2.81c.8-.78.8-2.07 0-2.86zM5.41 20L4 18.59l7.72-7.72 1.47 1.35L5.41 20z\"/>\n",
              "  </svg>\n",
              "      </button>\n",
              "      \n",
              "  <style>\n",
              "    .colab-df-container {\n",
              "      display:flex;\n",
              "      flex-wrap:wrap;\n",
              "      gap: 12px;\n",
              "    }\n",
              "\n",
              "    .colab-df-convert {\n",
              "      background-color: #E8F0FE;\n",
              "      border: none;\n",
              "      border-radius: 50%;\n",
              "      cursor: pointer;\n",
              "      display: none;\n",
              "      fill: #1967D2;\n",
              "      height: 32px;\n",
              "      padding: 0 0 0 0;\n",
              "      width: 32px;\n",
              "    }\n",
              "\n",
              "    .colab-df-convert:hover {\n",
              "      background-color: #E2EBFA;\n",
              "      box-shadow: 0px 1px 2px rgba(60, 64, 67, 0.3), 0px 1px 3px 1px rgba(60, 64, 67, 0.15);\n",
              "      fill: #174EA6;\n",
              "    }\n",
              "\n",
              "    [theme=dark] .colab-df-convert {\n",
              "      background-color: #3B4455;\n",
              "      fill: #D2E3FC;\n",
              "    }\n",
              "\n",
              "    [theme=dark] .colab-df-convert:hover {\n",
              "      background-color: #434B5C;\n",
              "      box-shadow: 0px 1px 3px 1px rgba(0, 0, 0, 0.15);\n",
              "      filter: drop-shadow(0px 1px 2px rgba(0, 0, 0, 0.3));\n",
              "      fill: #FFFFFF;\n",
              "    }\n",
              "  </style>\n",
              "\n",
              "      <script>\n",
              "        const buttonEl =\n",
              "          document.querySelector('#df-4596e806-ada3-48aa-a285-a491f75c4565 button.colab-df-convert');\n",
              "        buttonEl.style.display =\n",
              "          google.colab.kernel.accessAllowed ? 'block' : 'none';\n",
              "\n",
              "        async function convertToInteractive(key) {\n",
              "          const element = document.querySelector('#df-4596e806-ada3-48aa-a285-a491f75c4565');\n",
              "          const dataTable =\n",
              "            await google.colab.kernel.invokeFunction('convertToInteractive',\n",
              "                                                     [key], {});\n",
              "          if (!dataTable) return;\n",
              "\n",
              "          const docLinkHtml = 'Like what you see? Visit the ' +\n",
              "            '<a target=\"_blank\" href=https://colab.research.google.com/notebooks/data_table.ipynb>data table notebook</a>'\n",
              "            + ' to learn more about interactive tables.';\n",
              "          element.innerHTML = '';\n",
              "          dataTable['output_type'] = 'display_data';\n",
              "          await google.colab.output.renderOutput(dataTable, element);\n",
              "          const docLink = document.createElement('div');\n",
              "          docLink.innerHTML = docLinkHtml;\n",
              "          element.appendChild(docLink);\n",
              "        }\n",
              "      </script>\n",
              "    </div>\n",
              "  </div>\n",
              "  "
            ]
          },
          "metadata": {},
          "execution_count": 28
        }
      ]
    },
    {
      "cell_type": "code",
      "source": [
        "g = sns.histplot(data=participants_by_age, x='AnswerText', bins=10)\n",
        "\n",
        "g.set_title('Histogram of participants age', fontsize=14)\n",
        "g.set(yticklabels=[], xlabel='')\n",
        "g.grid(False)"
      ],
      "metadata": {
        "colab": {
          "base_uri": "https://localhost:8080/",
          "height": 502
        },
        "id": "9R4dg37oHPEL",
        "outputId": "8c33d290-ae5d-44bf-8787-0ffab49fb999"
      },
      "execution_count": null,
      "outputs": [
        {
          "output_type": "display_data",
          "data": {
            "text/plain": [
              "<Figure size 720x576 with 1 Axes>"
            ],
            "image/png": "[encoded data removed]"
          },
          "metadata": {}
        }
      ]
    },
    {
      "cell_type": "code",
      "source": [
        "participants_by_age_years = participants_by_age.groupby(\n",
        "    participants_by_age['SurveyID'])[['SurveyID','AnswerText']].agg('mean')"
      ],
      "metadata": {
        "id": "2V-CZD6LbNNi"
      },
      "execution_count": null,
      "outputs": []
    },
    {
      "cell_type": "code",
      "source": [
        "participants_by_age_years"
      ],
      "metadata": {
        "colab": {
          "base_uri": "https://localhost:8080/",
          "height": 237
        },
        "id": "pJtd2b-Qbl0y",
        "outputId": "0bab1068-b064-48ac-8e8a-fed18cf00e52"
      },
      "execution_count": null,
      "outputs": [
        {
          "output_type": "execute_result",
          "data": {
            "text/plain": [
              "          SurveyID  AnswerText\n",
              "SurveyID                      \n",
              "2014        2014.0   32.096032\n",
              "2016        2016.0   34.060712\n",
              "2017        2017.0   34.985450\n",
              "2018        2018.0   34.916067\n",
              "2019        2019.0   35.590909"
            ],
            "text/html": [
              "\n",
              "  <div id=\"df-92d852fb-1ede-4cee-a853-dc2d1ff5d7d5\">\n",
              "    <div class=\"colab-df-container\">\n",
              "      <div>\n",
              "<style scoped>\n",
              "    .dataframe tbody tr th:only-of-type {\n",
              "        vertical-align: middle;\n",
              "    }\n",
              "\n",
              "    .dataframe tbody tr th {\n",
              "        vertical-align: top;\n",
              "    }\n",
              "\n",
              "    .dataframe thead th {\n",
              "        text-align: right;\n",
              "    }\n",
              "</style>\n",
              "<table border=\"1\" class=\"dataframe\">\n",
              "  <thead>\n",
              "    <tr style=\"text-align: right;\">\n",
              "      <th></th>\n",
              "      <th>SurveyID</th>\n",
              "      <th>AnswerText</th>\n",
              "    </tr>\n",
              "    <tr>\n",
              "      <th>SurveyID</th>\n",
              "      <th></th>\n",
              "      <th></th>\n",
              "    </tr>\n",
              "  </thead>\n",
              "  <tbody>\n",
              "    <tr>\n",
              "      <th>2014</th>\n",
              "      <td>2014.0</td>\n",
              "      <td>32.096032</td>\n",
              "    </tr>\n",
              "    <tr>\n",
              "      <th>2016</th>\n",
              "      <td>2016.0</td>\n",
              "      <td>34.060712</td>\n",
              "    </tr>\n",
              "    <tr>\n",
              "      <th>2017</th>\n",
              "      <td>2017.0</td>\n",
              "      <td>34.985450</td>\n",
              "    </tr>\n",
              "    <tr>\n",
              "      <th>2018</th>\n",
              "      <td>2018.0</td>\n",
              "      <td>34.916067</td>\n",
              "    </tr>\n",
              "    <tr>\n",
              "      <th>2019</th>\n",
              "      <td>2019.0</td>\n",
              "      <td>35.590909</td>\n",
              "    </tr>\n",
              "  </tbody>\n",
              "</table>\n",
              "</div>\n",
              "      <button class=\"colab-df-convert\" onclick=\"convertToInteractive('df-92d852fb-1ede-4cee-a853-dc2d1ff5d7d5')\"\n",
              "              title=\"Convert this dataframe to an interactive table.\"\n",
              "              style=\"display:none;\">\n",
              "        \n",
              "  <svg xmlns=\"http://www.w3.org/2000/svg\" height=\"24px\"viewBox=\"0 0 24 24\"\n",
              "       width=\"24px\">\n",
              "    <path d=\"M0 0h24v24H0V0z\" fill=\"none\"/>\n",
              "    <path d=\"M18.56 5.44l.94 2.06.94-2.06 2.06-.94-2.06-.94-.94-2.06-.94 2.06-2.06.94zm-11 1L8.5 8.5l.94-2.06 2.06-.94-2.06-.94L8.5 2.5l-.94 2.06-2.06.94zm10 10l.94 2.06.94-2.06 2.06-.94-2.06-.94-.94-2.06-.94 2.06-2.06.94z\"/><path d=\"M17.41 7.96l-1.37-1.37c-.4-.4-.92-.59-1.43-.59-.52 0-1.04.2-1.43.59L10.3 9.45l-7.72 7.72c-.78.78-.78 2.05 0 2.83L4 21.41c.39.39.9.59 1.41.59.51 0 1.02-.2 1.41-.59l7.78-7.78 2.81-2.81c.8-.78.8-2.07 0-2.86zM5.41 20L4 18.59l7.72-7.72 1.47 1.35L5.41 20z\"/>\n",
              "  </svg>\n",
              "      </button>\n",
              "      \n",
              "  <style>\n",
              "    .colab-df-container {\n",
              "      display:flex;\n",
              "      flex-wrap:wrap;\n",
              "      gap: 12px;\n",
              "    }\n",
              "\n",
              "    .colab-df-convert {\n",
              "      background-color: #E8F0FE;\n",
              "      border: none;\n",
              "      border-radius: 50%;\n",
              "      cursor: pointer;\n",
              "      display: none;\n",
              "      fill: #1967D2;\n",
              "      height: 32px;\n",
              "      padding: 0 0 0 0;\n",
              "      width: 32px;\n",
              "    }\n",
              "\n",
              "    .colab-df-convert:hover {\n",
              "      background-color: #E2EBFA;\n",
              "      box-shadow: 0px 1px 2px rgba(60, 64, 67, 0.3), 0px 1px 3px 1px rgba(60, 64, 67, 0.15);\n",
              "      fill: #174EA6;\n",
              "    }\n",
              "\n",
              "    [theme=dark] .colab-df-convert {\n",
              "      background-color: #3B4455;\n",
              "      fill: #D2E3FC;\n",
              "    }\n",
              "\n",
              "    [theme=dark] .colab-df-convert:hover {\n",
              "      background-color: #434B5C;\n",
              "      box-shadow: 0px 1px 3px 1px rgba(0, 0, 0, 0.15);\n",
              "      filter: drop-shadow(0px 1px 2px rgba(0, 0, 0, 0.3));\n",
              "      fill: #FFFFFF;\n",
              "    }\n",
              "  </style>\n",
              "\n",
              "      <script>\n",
              "        const buttonEl =\n",
              "          document.querySelector('#df-92d852fb-1ede-4cee-a853-dc2d1ff5d7d5 button.colab-df-convert');\n",
              "        buttonEl.style.display =\n",
              "          google.colab.kernel.accessAllowed ? 'block' : 'none';\n",
              "\n",
              "        async function convertToInteractive(key) {\n",
              "          const element = document.querySelector('#df-92d852fb-1ede-4cee-a853-dc2d1ff5d7d5');\n",
              "          const dataTable =\n",
              "            await google.colab.kernel.invokeFunction('convertToInteractive',\n",
              "                                                     [key], {});\n",
              "          if (!dataTable) return;\n",
              "\n",
              "          const docLinkHtml = 'Like what you see? Visit the ' +\n",
              "            '<a target=\"_blank\" href=https://colab.research.google.com/notebooks/data_table.ipynb>data table notebook</a>'\n",
              "            + ' to learn more about interactive tables.';\n",
              "          element.innerHTML = '';\n",
              "          dataTable['output_type'] = 'display_data';\n",
              "          await google.colab.output.renderOutput(dataTable, element);\n",
              "          const docLink = document.createElement('div');\n",
              "          docLink.innerHTML = docLinkHtml;\n",
              "          element.appendChild(docLink);\n",
              "        }\n",
              "      </script>\n",
              "    </div>\n",
              "  </div>\n",
              "  "
            ]
          },
          "metadata": {},
          "execution_count": 31
        }
      ]
    },
    {
      "cell_type": "markdown",
      "source": [
        "The average age of participants is almost 34 years. The majority of respondents are between 20 and 40 years old. The average doesn't change significantly across years of surveys (exception for year 2014)."
      ],
      "metadata": {
        "id": "3ytdL9KmwwUb"
      }
    },
    {
      "cell_type": "markdown",
      "source": [
        "###Geographic distribuiton of participants"
      ],
      "metadata": {
        "id": "Av5_1rt4obrr"
      }
    },
    {
      "cell_type": "markdown",
      "source": [
        "Checking the origin of respondents."
      ],
      "metadata": {
        "id": "5_Jfv_LFxNRK"
      }
    },
    {
      "cell_type": "code",
      "source": [
        "SQL_query = con.execute(\n",
        "    '''\n",
        "    SELECT AnswerText, COUNT(AnswerText) \n",
        "    FROM Answer \n",
        "    WHERE QuestionID = 3\n",
        "    GROUP BY AnswerText;\n",
        "    ''')\n",
        "\n",
        "for row in SQL_query:\n",
        "  print(row)\n",
        "\n",
        "con.commit()"
      ],
      "metadata": {
        "colab": {
          "base_uri": "https://localhost:8080/"
        },
        "id": "eadCvx_NoaqF",
        "outputId": "def5b9f8-168d-4cae-ae1c-5f384434389e",
        "collapsed": true
      },
      "execution_count": null,
      "outputs": [
        {
          "output_type": "stream",
          "name": "stdout",
          "text": [
            "('-1', 2)\n",
            "('Afghanistan', 3)\n",
            "('Algeria', 2)\n",
            "('Argentina', 4)\n",
            "('Australia', 73)\n",
            "('Austria', 10)\n",
            "('Bahamas, The', 1)\n",
            "('Bangladesh', 3)\n",
            "('Belarus', 1)\n",
            "('Belgium', 17)\n",
            "('Bosnia and Herzegovina', 3)\n",
            "('Brazil', 37)\n",
            "('Brunei', 1)\n",
            "('Bulgaria', 13)\n",
            "('Canada', 199)\n",
            "('Chile', 3)\n",
            "('China', 2)\n",
            "('Colombia', 6)\n",
            "('Costa Rica', 2)\n",
            "('Croatia', 4)\n",
            "('Czech Republic', 6)\n",
            "('Denmark', 9)\n",
            "('Ecuador', 1)\n",
            "('Estonia', 5)\n",
            "('Ethiopia', 1)\n",
            "('Finland', 13)\n",
            "('France', 51)\n",
            "('Georgia', 2)\n",
            "('Germany', 136)\n",
            "('Ghana', 1)\n",
            "('Greece', 7)\n",
            "('Guatemala', 1)\n",
            "('Hong Kong', 2)\n",
            "('Hungary', 4)\n",
            "('Iceland', 2)\n",
            "('India', 50)\n",
            "('Indonesia', 3)\n",
            "('Iran', 1)\n",
            "('Ireland', 51)\n",
            "('Israel', 9)\n",
            "('Italy', 19)\n",
            "('Japan', 9)\n",
            "('Jordan', 1)\n",
            "('Kenya', 1)\n",
            "('Latvia', 2)\n",
            "('Lithuania', 2)\n",
            "('Macedonia', 1)\n",
            "('Mauritius', 1)\n",
            "('Mexico', 12)\n",
            "('Moldova', 1)\n",
            "('Netherlands', 98)\n",
            "('New Zealand', 24)\n",
            "('Nigeria', 2)\n",
            "('Norway', 12)\n",
            "('Other', 2)\n",
            "('Pakistan', 7)\n",
            "('Philippines', 1)\n",
            "('Poland', 21)\n",
            "('Portugal', 23)\n",
            "('Romania', 9)\n",
            "('Russia', 16)\n",
            "('Saudi Arabia', 1)\n",
            "('Serbia', 4)\n",
            "('Singapore', 5)\n",
            "('Slovakia', 2)\n",
            "('Slovenia', 1)\n",
            "('South Africa', 16)\n",
            "('Spain', 26)\n",
            "('Sweden', 29)\n",
            "('Switzerland', 28)\n",
            "('Taiwan', 1)\n",
            "('Thailand', 1)\n",
            "('Turkey', 5)\n",
            "('Ukraine', 3)\n",
            "('United Kingdom', 482)\n",
            "('United States', 751)\n",
            "('United States of America', 1853)\n",
            "('Uruguay', 2)\n",
            "('Venezuela', 1)\n",
            "('Vietnam', 1)\n",
            "('Zimbabwe', 1)\n"
          ]
        }
      ]
    },
    {
      "cell_type": "code",
      "source": [
        "participant_origin = pd.read_sql_query(\n",
        "    '''\n",
        "    SELECT AnswerText as Country, \n",
        "           COUNT(AnswerText) as Nr_of_participants\n",
        "    FROM Answer \n",
        "    WHERE QuestionID = 3\n",
        "    GROUP BY AnswerText;\n",
        "    ''', con)\n"
      ],
      "metadata": {
        "id": "kToS1amTrm65"
      },
      "execution_count": null,
      "outputs": []
    },
    {
      "cell_type": "markdown",
      "source": [
        "Checking if there is any spelling issues with the country names."
      ],
      "metadata": {
        "id": "3dT9yNrqxqZa"
      }
    },
    {
      "cell_type": "code",
      "source": [
        "participant_origin['Country'].unique()"
      ],
      "metadata": {
        "colab": {
          "base_uri": "https://localhost:8080/"
        },
        "id": "EYcu0BtmAn_k",
        "outputId": "aa06de56-c2f5-4246-abc6-391b115b75c7"
      },
      "execution_count": null,
      "outputs": [
        {
          "output_type": "execute_result",
          "data": {
            "text/plain": [
              "array(['-1', 'Afghanistan', 'Algeria', 'Argentina', 'Australia',\n",
              "       'Austria', 'Bahamas, The', 'Bangladesh', 'Belarus', 'Belgium',\n",
              "       'Bosnia and Herzegovina', 'Brazil', 'Brunei', 'Bulgaria', 'Canada',\n",
              "       'Chile', 'China', 'Colombia', 'Costa Rica', 'Croatia',\n",
              "       'Czech Republic', 'Denmark', 'Ecuador', 'Estonia', 'Ethiopia',\n",
              "       'Finland', 'France', 'Georgia', 'Germany', 'Ghana', 'Greece',\n",
              "       'Guatemala', 'Hong Kong', 'Hungary', 'Iceland', 'India',\n",
              "       'Indonesia', 'Iran', 'Ireland', 'Israel', 'Italy', 'Japan',\n",
              "       'Jordan', 'Kenya', 'Latvia', 'Lithuania', 'Macedonia', 'Mauritius',\n",
              "       'Mexico', 'Moldova', 'Netherlands', 'New Zealand', 'Nigeria',\n",
              "       'Norway', 'Other', 'Pakistan', 'Philippines', 'Poland', 'Portugal',\n",
              "       'Romania', 'Russia', 'Saudi Arabia', 'Serbia', 'Singapore',\n",
              "       'Slovakia', 'Slovenia', 'South Africa', 'Spain', 'Sweden',\n",
              "       'Switzerland', 'Taiwan', 'Thailand', 'Turkey', 'Ukraine',\n",
              "       'United Kingdom', 'United States', 'United States of America',\n",
              "       'Uruguay', 'Venezuela', 'Vietnam', 'Zimbabwe'], dtype=object)"
            ]
          },
          "metadata": {},
          "execution_count": 34
        }
      ]
    },
    {
      "cell_type": "markdown",
      "source": [
        "Replacing some of the values for consistency and plotting."
      ],
      "metadata": {
        "id": "piMncqaQx3cf"
      }
    },
    {
      "cell_type": "code",
      "source": [
        "replace_values_countries = {'United States': 'USA', \n",
        "                            'United States of America': 'USA',\n",
        "                            'United Kingdom': 'UK', \n",
        "                            '-1': 'Other'}\n",
        "\n",
        "participant_origin = participant_origin.replace(\n",
        "    {'Country': replace_values_countries})"
      ],
      "metadata": {
        "id": "1vtcQ1W3CFnd"
      },
      "execution_count": null,
      "outputs": []
    },
    {
      "cell_type": "code",
      "source": [
        "participant_origin = participant_origin.groupby(\n",
        "    'Country').agg('sum').sort_values(by='Nr_of_participants',\n",
        "    ascending=False).reset_index()"
      ],
      "metadata": {
        "id": "M2zKWe1IZkHZ"
      },
      "execution_count": null,
      "outputs": []
    },
    {
      "cell_type": "markdown",
      "source": [
        "Checking for company's origin, that the participants work for."
      ],
      "metadata": {
        "id": "I_M6TJe0yBqC"
      }
    },
    {
      "cell_type": "code",
      "source": [
        "company_origin = pd.read_sql_query(\n",
        "    '''\n",
        "    SELECT AnswerText as Country, \n",
        "           COUNT(AnswerText) as Nr_of_participants\n",
        "    FROM Answer \n",
        "    WHERE QuestionID = 50\n",
        "    GROUP BY AnswerText;\n",
        "    ''', con)\n"
      ],
      "metadata": {
        "id": "lOl7itkgmeAR"
      },
      "execution_count": null,
      "outputs": []
    },
    {
      "cell_type": "code",
      "source": [
        "#@title\n",
        "company_origin['Country'].unique()"
      ],
      "metadata": {
        "colab": {
          "base_uri": "https://localhost:8080/"
        },
        "id": "nZJVRKnsbfyq",
        "outputId": "da4bff63-46f0-4b7f-8d06-9c540c9a406c",
        "cellView": "form",
        "collapsed": true
      },
      "execution_count": null,
      "outputs": [
        {
          "output_type": "execute_result",
          "data": {
            "text/plain": [
              "array(['-1', 'Afghanistan', 'Algeria', 'Argentina', 'Australia',\n",
              "       'Austria', 'Bangladesh', 'Belgium', 'Bosnia and Herzegovina',\n",
              "       'Botswana', 'Brazil', 'Brunei', 'Bulgaria', 'Canada', 'Chile',\n",
              "       'China', 'Colombia', 'Costa Rica', 'Croatia', 'Czech Republic',\n",
              "       'Denmark', 'Ecuador', 'Eritrea', 'Estonia', 'Ethiopia', 'Finland',\n",
              "       'France', 'Georgia', 'Germany', 'Ghana', 'Greece', 'Guatemala',\n",
              "       'Hong Kong', 'Hungary', 'Iceland', 'India', 'Indonesia', 'Iran',\n",
              "       'Ireland', 'Israel', 'Italy', 'Japan', 'Jordan', 'Kenya', 'Latvia',\n",
              "       'Lithuania', 'Luxembourg', 'Macedonia', 'Mauritius', 'Mexico',\n",
              "       'Netherlands', 'New Zealand', 'Nigeria', 'Norway', 'Other',\n",
              "       'Pakistan', 'Poland', 'Portugal', 'Romania', 'Russia',\n",
              "       'Saudi Arabia', 'Serbia', 'Singapore', 'Slovakia', 'South Africa',\n",
              "       'Spain', 'Swaziland', 'Sweden', 'Switzerland', 'Turkey', 'Ukraine',\n",
              "       'United Arab Emirates', 'United Kingdom',\n",
              "       'United States of America', 'Uruguay', 'Venezuela', 'Vietnam'],\n",
              "      dtype=object)"
            ]
          },
          "metadata": {},
          "execution_count": 38
        }
      ]
    },
    {
      "cell_type": "code",
      "source": [
        "company_origin = company_origin.replace(\n",
        "    {'Country': replace_values_countries})"
      ],
      "metadata": {
        "id": "CFQswxiEbsqs"
      },
      "execution_count": null,
      "outputs": []
    },
    {
      "cell_type": "code",
      "source": [
        "company_origin = company_origin.sort_values(by='Nr_of_participants', \n",
        "                                            ascending=False)"
      ],
      "metadata": {
        "id": "_1XswPvrb-OQ"
      },
      "execution_count": null,
      "outputs": []
    },
    {
      "cell_type": "code",
      "source": [
        "origin_country = pd.merge(\n",
        "    participant_origin, company_origin, how='left', on='Country')"
      ],
      "metadata": {
        "id": "9aD-BliMamkl"
      },
      "execution_count": null,
      "outputs": []
    },
    {
      "cell_type": "code",
      "source": [
        "#@title\n",
        "fig, axes = plt.subplots(1, 2, figsize=(16,10), sharey=True)\n",
        "\n",
        "sns.barplot(ax=axes[0], x='Country', y='Nr_of_participants_x', \n",
        "                    data=origin_country.head(10))\n",
        "sns.barplot(ax=axes[1], x='Country', y='Nr_of_participants_y', \n",
        "                    data=origin_country.head(10))\n",
        "\n",
        "axes[0].tick_params(axis=\"x\", rotation=45)\n",
        "axes[1].tick_params(axis=\"x\", rotation=45)tab\n",
        "axes[0].set(xlabel='', ylabel='Number of participants', \n",
        "            title='Country of origin')\n",
        "axes[1].set(xlabel='', ylabel='', title='Company localization');\n"
      ],
      "metadata": {
        "colab": {
          "base_uri": "https://localhost:8080/",
          "height": 655
        },
        "id": "ZKoz0O2hdHNY",
        "outputId": "d69e2fb0-8a0e-48ce-b3d1-bc6e6194c3df"
      },
      "execution_count": null,
      "outputs": [
        {
          "output_type": "display_data",
          "data": {
            "text/plain": [
              "<Figure size 1152x720 with 2 Axes>"
            ],
            "image/png": "[encoded data removed]"
          },
          "metadata": {}
        }
      ]
    },
    {
      "cell_type": "markdown",
      "source": [
        "Checking if the respondents work in the same country that were born."
      ],
      "metadata": {
        "id": "54fVRA6LyhKl"
      }
    },
    {
      "cell_type": "code",
      "source": [
        "origin_vs_location = pd.read_sql_query(\n",
        "    '''\n",
        "    SELECT a.UserID, \n",
        "           a.AnswerText AS Live, \n",
        "           b.AnswerText AS Work,\n",
        "      CASE WHEN a.AnswerText == b.AnswerText THEN 'TRUE' \n",
        "           ELSE 'FALSE' END AS LIVE_WHERE_WORK\n",
        "    FROM Answer a\n",
        "    INNER JOIN Answer b ON a.UserID = b.UserID\n",
        "    WHERE a.QuestionID = 3 AND b.QuestionID = 50;\n",
        "    ''', con)"
      ],
      "metadata": {
        "id": "60BfV8xCGBKo"
      },
      "execution_count": null,
      "outputs": []
    },
    {
      "cell_type": "code",
      "source": [
        "#@title\n",
        "origin_vs_location"
      ],
      "metadata": {
        "colab": {
          "base_uri": "https://localhost:8080/",
          "height": 423
        },
        "id": "51Ql4x39N4_2",
        "outputId": "dbf4c614-ebd3-48e1-9003-4d7c280414f1",
        "cellView": "form",
        "collapsed": true
      },
      "execution_count": null,
      "outputs": [
        {
          "output_type": "execute_result",
          "data": {
            "text/plain": [
              "      UserID                      Live                      Work  \\\n",
              "0       1261            United Kingdom            United Kingdom   \n",
              "1       1262  United States of America  United States of America   \n",
              "2       1263            United Kingdom            United Kingdom   \n",
              "3       1264            United Kingdom            United Kingdom   \n",
              "4       1265  United States of America  United States of America   \n",
              "...      ...                       ...                       ...   \n",
              "2953    4214                     India                     India   \n",
              "2954    4215  United States of America  United States of America   \n",
              "2955    4216                     India                     India   \n",
              "2956    4217                     India                     India   \n",
              "2957    4218  United States of America  United States of America   \n",
              "\n",
              "     LIVE_WHERE_WORK  \n",
              "0               TRUE  \n",
              "1               TRUE  \n",
              "2               TRUE  \n",
              "3               TRUE  \n",
              "4               TRUE  \n",
              "...              ...  \n",
              "2953            TRUE  \n",
              "2954            TRUE  \n",
              "2955            TRUE  \n",
              "2956            TRUE  \n",
              "2957            TRUE  \n",
              "\n",
              "[2958 rows x 4 columns]"
            ],
            "text/html": [
              "\n",
              "  <div id=\"df-53e51f01-9eb7-45ed-9aa5-e1bcfddefacb\">\n",
              "    <div class=\"colab-df-container\">\n",
              "      <div>\n",
              "<style scoped>\n",
              "    .dataframe tbody tr th:only-of-type {\n",
              "        vertical-align: middle;\n",
              "    }\n",
              "\n",
              "    .dataframe tbody tr th {\n",
              "        vertical-align: top;\n",
              "    }\n",
              "\n",
              "    .dataframe thead th {\n",
              "        text-align: right;\n",
              "    }\n",
              "</style>\n",
              "<table border=\"1\" class=\"dataframe\">\n",
              "  <thead>\n",
              "    <tr style=\"text-align: right;\">\n",
              "      <th></th>\n",
              "      <th>UserID</th>\n",
              "      <th>Live</th>\n",
              "      <th>Work</th>\n",
              "      <th>LIVE_WHERE_WORK</th>\n",
              "    </tr>\n",
              "  </thead>\n",
              "  <tbody>\n",
              "    <tr>\n",
              "      <th>0</th>\n",
              "      <td>1261</td>\n",
              "      <td>United Kingdom</td>\n",
              "      <td>United Kingdom</td>\n",
              "      <td>TRUE</td>\n",
              "    </tr>\n",
              "    <tr>\n",
              "      <th>1</th>\n",
              "      <td>1262</td>\n",
              "      <td>United States of America</td>\n",
              "      <td>United States of America</td>\n",
              "      <td>TRUE</td>\n",
              "    </tr>\n",
              "    <tr>\n",
              "      <th>2</th>\n",
              "      <td>1263</td>\n",
              "      <td>United Kingdom</td>\n",
              "      <td>United Kingdom</td>\n",
              "      <td>TRUE</td>\n",
              "    </tr>\n",
              "    <tr>\n",
              "      <th>3</th>\n",
              "      <td>1264</td>\n",
              "      <td>United Kingdom</td>\n",
              "      <td>United Kingdom</td>\n",
              "      <td>TRUE</td>\n",
              "    </tr>\n",
              "    <tr>\n",
              "      <th>4</th>\n",
              "      <td>1265</td>\n",
              "      <td>United States of America</td>\n",
              "      <td>United States of America</td>\n",
              "      <td>TRUE</td>\n",
              "    </tr>\n",
              "    <tr>\n",
              "      <th>...</th>\n",
              "      <td>...</td>\n",
              "      <td>...</td>\n",
              "      <td>...</td>\n",
              "      <td>...</td>\n",
              "    </tr>\n",
              "    <tr>\n",
              "      <th>2953</th>\n",
              "      <td>4214</td>\n",
              "      <td>India</td>\n",
              "      <td>India</td>\n",
              "      <td>TRUE</td>\n",
              "    </tr>\n",
              "    <tr>\n",
              "      <th>2954</th>\n",
              "      <td>4215</td>\n",
              "      <td>United States of America</td>\n",
              "      <td>United States of America</td>\n",
              "      <td>TRUE</td>\n",
              "    </tr>\n",
              "    <tr>\n",
              "      <th>2955</th>\n",
              "      <td>4216</td>\n",
              "      <td>India</td>\n",
              "      <td>India</td>\n",
              "      <td>TRUE</td>\n",
              "    </tr>\n",
              "    <tr>\n",
              "      <th>2956</th>\n",
              "      <td>4217</td>\n",
              "      <td>India</td>\n",
              "      <td>India</td>\n",
              "      <td>TRUE</td>\n",
              "    </tr>\n",
              "    <tr>\n",
              "      <th>2957</th>\n",
              "      <td>4218</td>\n",
              "      <td>United States of America</td>\n",
              "      <td>United States of America</td>\n",
              "      <td>TRUE</td>\n",
              "    </tr>\n",
              "  </tbody>\n",
              "</table>\n",
              "<p>2958 rows × 4 columns</p>\n",
              "</div>\n",
              "      <button class=\"colab-df-convert\" onclick=\"convertToInteractive('df-53e51f01-9eb7-45ed-9aa5-e1bcfddefacb')\"\n",
              "              title=\"Convert this dataframe to an interactive table.\"\n",
              "              style=\"display:none;\">\n",
              "        \n",
              "  <svg xmlns=\"http://www.w3.org/2000/svg\" height=\"24px\"viewBox=\"0 0 24 24\"\n",
              "       width=\"24px\">\n",
              "    <path d=\"M0 0h24v24H0V0z\" fill=\"none\"/>\n",
              "    <path d=\"M18.56 5.44l.94 2.06.94-2.06 2.06-.94-2.06-.94-.94-2.06-.94 2.06-2.06.94zm-11 1L8.5 8.5l.94-2.06 2.06-.94-2.06-.94L8.5 2.5l-.94 2.06-2.06.94zm10 10l.94 2.06.94-2.06 2.06-.94-2.06-.94-.94-2.06-.94 2.06-2.06.94z\"/><path d=\"M17.41 7.96l-1.37-1.37c-.4-.4-.92-.59-1.43-.59-.52 0-1.04.2-1.43.59L10.3 9.45l-7.72 7.72c-.78.78-.78 2.05 0 2.83L4 21.41c.39.39.9.59 1.41.59.51 0 1.02-.2 1.41-.59l7.78-7.78 2.81-2.81c.8-.78.8-2.07 0-2.86zM5.41 20L4 18.59l7.72-7.72 1.47 1.35L5.41 20z\"/>\n",
              "  </svg>\n",
              "      </button>\n",
              "      \n",
              "  <style>\n",
              "    .colab-df-container {\n",
              "      display:flex;\n",
              "      flex-wrap:wrap;\n",
              "      gap: 12px;\n",
              "    }\n",
              "\n",
              "    .colab-df-convert {\n",
              "      background-color: #E8F0FE;\n",
              "      border: none;\n",
              "      border-radius: 50%;\n",
              "      cursor: pointer;\n",
              "      display: none;\n",
              "      fill: #1967D2;\n",
              "      height: 32px;\n",
              "      padding: 0 0 0 0;\n",
              "      width: 32px;\n",
              "    }\n",
              "\n",
              "    .colab-df-convert:hover {\n",
              "      background-color: #E2EBFA;\n",
              "      box-shadow: 0px 1px 2px rgba(60, 64, 67, 0.3), 0px 1px 3px 1px rgba(60, 64, 67, 0.15);\n",
              "      fill: #174EA6;\n",
              "    }\n",
              "\n",
              "    [theme=dark] .colab-df-convert {\n",
              "      background-color: #3B4455;\n",
              "      fill: #D2E3FC;\n",
              "    }\n",
              "\n",
              "    [theme=dark] .colab-df-convert:hover {\n",
              "      background-color: #434B5C;\n",
              "      box-shadow: 0px 1px 3px 1px rgba(0, 0, 0, 0.15);\n",
              "      filter: drop-shadow(0px 1px 2px rgba(0, 0, 0, 0.3));\n",
              "      fill: #FFFFFF;\n",
              "    }\n",
              "  </style>\n",
              "\n",
              "      <script>\n",
              "        const buttonEl =\n",
              "          document.querySelector('#df-53e51f01-9eb7-45ed-9aa5-e1bcfddefacb button.colab-df-convert');\n",
              "        buttonEl.style.display =\n",
              "          google.colab.kernel.accessAllowed ? 'block' : 'none';\n",
              "\n",
              "        async function convertToInteractive(key) {\n",
              "          const element = document.querySelector('#df-53e51f01-9eb7-45ed-9aa5-e1bcfddefacb');\n",
              "          const dataTable =\n",
              "            await google.colab.kernel.invokeFunction('convertToInteractive',\n",
              "                                                     [key], {});\n",
              "          if (!dataTable) return;\n",
              "\n",
              "          const docLinkHtml = 'Like what you see? Visit the ' +\n",
              "            '<a target=\"_blank\" href=https://colab.research.google.com/notebooks/data_table.ipynb>data table notebook</a>'\n",
              "            + ' to learn more about interactive tables.';\n",
              "          element.innerHTML = '';\n",
              "          dataTable['output_type'] = 'display_data';\n",
              "          await google.colab.output.renderOutput(dataTable, element);\n",
              "          const docLink = document.createElement('div');\n",
              "          docLink.innerHTML = docLinkHtml;\n",
              "          element.appendChild(docLink);\n",
              "        }\n",
              "      </script>\n",
              "    </div>\n",
              "  </div>\n",
              "  "
            ]
          },
          "metadata": {},
          "execution_count": 44
        }
      ]
    },
    {
      "cell_type": "code",
      "source": [
        "origin_vs_location['LIVE_WHERE_WORK'].value_counts()"
      ],
      "metadata": {
        "colab": {
          "base_uri": "https://localhost:8080/"
        },
        "id": "FM0GVgxbOTgu",
        "outputId": "6bf0f194-13fe-4f62-f031-6c15f091f3fc"
      },
      "execution_count": null,
      "outputs": [
        {
          "output_type": "execute_result",
          "data": {
            "text/plain": [
              "TRUE     2909\n",
              "FALSE      49\n",
              "Name: LIVE_WHERE_WORK, dtype: int64"
            ]
          },
          "metadata": {},
          "execution_count": 45
        }
      ]
    },
    {
      "cell_type": "markdown",
      "source": [
        "The majority of interviewees live and work from USA. The second country in case of popularity is the UK. Top 10 countries for each of the queries show almost the same results. \n",
        "\n",
        "Only 49 out of 2958 people who answered those questions don't work in the country where they live."
      ],
      "metadata": {
        "id": "hYvHy1qbyvk4"
      }
    },
    {
      "cell_type": "markdown",
      "source": [
        "### The size of the organization"
      ],
      "metadata": {
        "id": "0FG-9cKNa47z"
      }
    },
    {
      "cell_type": "code",
      "source": [
        "size_company = pd.read_sql_query(\n",
        "    '''\n",
        "    SELECT AnswerText as Size_of_company, \n",
        "           COUNT(AnswerText) as Count\n",
        "    FROM Answer \n",
        "    WHERE QuestionID = 8\n",
        "    GROUP BY AnswerText;\n",
        "    ''', con)"
      ],
      "metadata": {
        "id": "tS-ZM9Gma778"
      },
      "execution_count": null,
      "outputs": []
    },
    {
      "cell_type": "code",
      "source": [
        "size_company"
      ],
      "metadata": {
        "colab": {
          "base_uri": "https://localhost:8080/",
          "height": 269
        },
        "id": "dMIzQbsjbM9_",
        "outputId": "f581bbef-b1bb-46e2-b15a-384b2f6b6a73"
      },
      "execution_count": null,
      "outputs": [
        {
          "output_type": "execute_result",
          "data": {
            "text/plain": [
              "  Size_of_company  Count\n",
              "0              -1    504\n",
              "1             1-5    254\n",
              "2         100-500    788\n",
              "3          26-100    824\n",
              "4        500-1000    247\n",
              "5            6-25    689\n",
              "6  More than 1000    912"
            ],
            "text/html": [
              "\n",
              "  <div id=\"df-27b6191c-3f8a-49cf-8d38-61a93c80ead1\">\n",
              "    <div class=\"colab-df-container\">\n",
              "      <div>\n",
              "<style scoped>\n",
              "    .dataframe tbody tr th:only-of-type {\n",
              "        vertical-align: middle;\n",
              "    }\n",
              "\n",
              "    .dataframe tbody tr th {\n",
              "        vertical-align: top;\n",
              "    }\n",
              "\n",
              "    .dataframe thead th {\n",
              "        text-align: right;\n",
              "    }\n",
              "</style>\n",
              "<table border=\"1\" class=\"dataframe\">\n",
              "  <thead>\n",
              "    <tr style=\"text-align: right;\">\n",
              "      <th></th>\n",
              "      <th>Size_of_company</th>\n",
              "      <th>Count</th>\n",
              "    </tr>\n",
              "  </thead>\n",
              "  <tbody>\n",
              "    <tr>\n",
              "      <th>0</th>\n",
              "      <td>-1</td>\n",
              "      <td>504</td>\n",
              "    </tr>\n",
              "    <tr>\n",
              "      <th>1</th>\n",
              "      <td>1-5</td>\n",
              "      <td>254</td>\n",
              "    </tr>\n",
              "    <tr>\n",
              "      <th>2</th>\n",
              "      <td>100-500</td>\n",
              "      <td>788</td>\n",
              "    </tr>\n",
              "    <tr>\n",
              "      <th>3</th>\n",
              "      <td>26-100</td>\n",
              "      <td>824</td>\n",
              "    </tr>\n",
              "    <tr>\n",
              "      <th>4</th>\n",
              "      <td>500-1000</td>\n",
              "      <td>247</td>\n",
              "    </tr>\n",
              "    <tr>\n",
              "      <th>5</th>\n",
              "      <td>6-25</td>\n",
              "      <td>689</td>\n",
              "    </tr>\n",
              "    <tr>\n",
              "      <th>6</th>\n",
              "      <td>More than 1000</td>\n",
              "      <td>912</td>\n",
              "    </tr>\n",
              "  </tbody>\n",
              "</table>\n",
              "</div>\n",
              "      <button class=\"colab-df-convert\" onclick=\"convertToInteractive('df-27b6191c-3f8a-49cf-8d38-61a93c80ead1')\"\n",
              "              title=\"Convert this dataframe to an interactive table.\"\n",
              "              style=\"display:none;\">\n",
              "        \n",
              "  <svg xmlns=\"http://www.w3.org/2000/svg\" height=\"24px\"viewBox=\"0 0 24 24\"\n",
              "       width=\"24px\">\n",
              "    <path d=\"M0 0h24v24H0V0z\" fill=\"none\"/>\n",
              "    <path d=\"M18.56 5.44l.94 2.06.94-2.06 2.06-.94-2.06-.94-.94-2.06-.94 2.06-2.06.94zm-11 1L8.5 8.5l.94-2.06 2.06-.94-2.06-.94L8.5 2.5l-.94 2.06-2.06.94zm10 10l.94 2.06.94-2.06 2.06-.94-2.06-.94-.94-2.06-.94 2.06-2.06.94z\"/><path d=\"M17.41 7.96l-1.37-1.37c-.4-.4-.92-.59-1.43-.59-.52 0-1.04.2-1.43.59L10.3 9.45l-7.72 7.72c-.78.78-.78 2.05 0 2.83L4 21.41c.39.39.9.59 1.41.59.51 0 1.02-.2 1.41-.59l7.78-7.78 2.81-2.81c.8-.78.8-2.07 0-2.86zM5.41 20L4 18.59l7.72-7.72 1.47 1.35L5.41 20z\"/>\n",
              "  </svg>\n",
              "      </button>\n",
              "      \n",
              "  <style>\n",
              "    .colab-df-container {\n",
              "      display:flex;\n",
              "      flex-wrap:wrap;\n",
              "      gap: 12px;\n",
              "    }\n",
              "\n",
              "    .colab-df-convert {\n",
              "      background-color: #E8F0FE;\n",
              "      border: none;\n",
              "      border-radius: 50%;\n",
              "      cursor: pointer;\n",
              "      display: none;\n",
              "      fill: #1967D2;\n",
              "      height: 32px;\n",
              "      padding: 0 0 0 0;\n",
              "      width: 32px;\n",
              "    }\n",
              "\n",
              "    .colab-df-convert:hover {\n",
              "      background-color: #E2EBFA;\n",
              "      box-shadow: 0px 1px 2px rgba(60, 64, 67, 0.3), 0px 1px 3px 1px rgba(60, 64, 67, 0.15);\n",
              "      fill: #174EA6;\n",
              "    }\n",
              "\n",
              "    [theme=dark] .colab-df-convert {\n",
              "      background-color: #3B4455;\n",
              "      fill: #D2E3FC;\n",
              "    }\n",
              "\n",
              "    [theme=dark] .colab-df-convert:hover {\n",
              "      background-color: #434B5C;\n",
              "      box-shadow: 0px 1px 3px 1px rgba(0, 0, 0, 0.15);\n",
              "      filter: drop-shadow(0px 1px 2px rgba(0, 0, 0, 0.3));\n",
              "      fill: #FFFFFF;\n",
              "    }\n",
              "  </style>\n",
              "\n",
              "      <script>\n",
              "        const buttonEl =\n",
              "          document.querySelector('#df-27b6191c-3f8a-49cf-8d38-61a93c80ead1 button.colab-df-convert');\n",
              "        buttonEl.style.display =\n",
              "          google.colab.kernel.accessAllowed ? 'block' : 'none';\n",
              "\n",
              "        async function convertToInteractive(key) {\n",
              "          const element = document.querySelector('#df-27b6191c-3f8a-49cf-8d38-61a93c80ead1');\n",
              "          const dataTable =\n",
              "            await google.colab.kernel.invokeFunction('convertToInteractive',\n",
              "                                                     [key], {});\n",
              "          if (!dataTable) return;\n",
              "\n",
              "          const docLinkHtml = 'Like what you see? Visit the ' +\n",
              "            '<a target=\"_blank\" href=https://colab.research.google.com/notebooks/data_table.ipynb>data table notebook</a>'\n",
              "            + ' to learn more about interactive tables.';\n",
              "          element.innerHTML = '';\n",
              "          dataTable['output_type'] = 'display_data';\n",
              "          await google.colab.output.renderOutput(dataTable, element);\n",
              "          const docLink = document.createElement('div');\n",
              "          docLink.innerHTML = docLinkHtml;\n",
              "          element.appendChild(docLink);\n",
              "        }\n",
              "      </script>\n",
              "    </div>\n",
              "  </div>\n",
              "  "
            ]
          },
          "metadata": {},
          "execution_count": 47
        }
      ]
    },
    {
      "cell_type": "code",
      "source": [
        "replace_values_size = {'-1': 'Not provided', '1-5': 'A 1-5',\n",
        "                    '6-25': 'B 6-25', '26-100': 'C 26-100', \n",
        "                    '100-500': 'D 100-500', '500-1000': 'E 500-1000', \n",
        "                    'More than 1000': 'F >1000'}\n",
        "\n",
        "size_company = size_company.replace(\n",
        "    {'Size_of_company': replace_values_size})"
      ],
      "metadata": {
        "id": "3FwYAN77iNfe"
      },
      "execution_count": null,
      "outputs": []
    },
    {
      "cell_type": "code",
      "source": [
        "size_company = size_company.sort_values(by='Size_of_company')"
      ],
      "metadata": {
        "id": "HBOo6H6XicJ7"
      },
      "execution_count": null,
      "outputs": []
    },
    {
      "cell_type": "code",
      "source": [
        "#@title\n",
        "size_company"
      ],
      "metadata": {
        "colab": {
          "base_uri": "https://localhost:8080/",
          "height": 269
        },
        "cellView": "form",
        "collapsed": true,
        "id": "3SNqc42lbX8Z",
        "outputId": "dd1c88a3-6625-4975-8425-7acbacd9b413"
      },
      "execution_count": null,
      "outputs": [
        {
          "output_type": "execute_result",
          "data": {
            "text/plain": [
              "  Size_of_company  Count\n",
              "1           A 1-5    254\n",
              "5          B 6-25    689\n",
              "3        C 26-100    824\n",
              "2       D 100-500    788\n",
              "4      E 500-1000    247\n",
              "6         F >1000    912\n",
              "0    Not provided    504"
            ],
            "text/html": [
              "\n",
              "  <div id=\"df-108481e4-bbb2-43b3-9438-19f94d4f8641\">\n",
              "    <div class=\"colab-df-container\">\n",
              "      <div>\n",
              "<style scoped>\n",
              "    .dataframe tbody tr th:only-of-type {\n",
              "        vertical-align: middle;\n",
              "    }\n",
              "\n",
              "    .dataframe tbody tr th {\n",
              "        vertical-align: top;\n",
              "    }\n",
              "\n",
              "    .dataframe thead th {\n",
              "        text-align: right;\n",
              "    }\n",
              "</style>\n",
              "<table border=\"1\" class=\"dataframe\">\n",
              "  <thead>\n",
              "    <tr style=\"text-align: right;\">\n",
              "      <th></th>\n",
              "      <th>Size_of_company</th>\n",
              "      <th>Count</th>\n",
              "    </tr>\n",
              "  </thead>\n",
              "  <tbody>\n",
              "    <tr>\n",
              "      <th>1</th>\n",
              "      <td>A 1-5</td>\n",
              "      <td>254</td>\n",
              "    </tr>\n",
              "    <tr>\n",
              "      <th>5</th>\n",
              "      <td>B 6-25</td>\n",
              "      <td>689</td>\n",
              "    </tr>\n",
              "    <tr>\n",
              "      <th>3</th>\n",
              "      <td>C 26-100</td>\n",
              "      <td>824</td>\n",
              "    </tr>\n",
              "    <tr>\n",
              "      <th>2</th>\n",
              "      <td>D 100-500</td>\n",
              "      <td>788</td>\n",
              "    </tr>\n",
              "    <tr>\n",
              "      <th>4</th>\n",
              "      <td>E 500-1000</td>\n",
              "      <td>247</td>\n",
              "    </tr>\n",
              "    <tr>\n",
              "      <th>6</th>\n",
              "      <td>F &gt;1000</td>\n",
              "      <td>912</td>\n",
              "    </tr>\n",
              "    <tr>\n",
              "      <th>0</th>\n",
              "      <td>Not provided</td>\n",
              "      <td>504</td>\n",
              "    </tr>\n",
              "  </tbody>\n",
              "</table>\n",
              "</div>\n",
              "      <button class=\"colab-df-convert\" onclick=\"convertToInteractive('df-108481e4-bbb2-43b3-9438-19f94d4f8641')\"\n",
              "              title=\"Convert this dataframe to an interactive table.\"\n",
              "              style=\"display:none;\">\n",
              "        \n",
              "  <svg xmlns=\"http://www.w3.org/2000/svg\" height=\"24px\"viewBox=\"0 0 24 24\"\n",
              "       width=\"24px\">\n",
              "    <path d=\"M0 0h24v24H0V0z\" fill=\"none\"/>\n",
              "    <path d=\"M18.56 5.44l.94 2.06.94-2.06 2.06-.94-2.06-.94-.94-2.06-.94 2.06-2.06.94zm-11 1L8.5 8.5l.94-2.06 2.06-.94-2.06-.94L8.5 2.5l-.94 2.06-2.06.94zm10 10l.94 2.06.94-2.06 2.06-.94-2.06-.94-.94-2.06-.94 2.06-2.06.94z\"/><path d=\"M17.41 7.96l-1.37-1.37c-.4-.4-.92-.59-1.43-.59-.52 0-1.04.2-1.43.59L10.3 9.45l-7.72 7.72c-.78.78-.78 2.05 0 2.83L4 21.41c.39.39.9.59 1.41.59.51 0 1.02-.2 1.41-.59l7.78-7.78 2.81-2.81c.8-.78.8-2.07 0-2.86zM5.41 20L4 18.59l7.72-7.72 1.47 1.35L5.41 20z\"/>\n",
              "  </svg>\n",
              "      </button>\n",
              "      \n",
              "  <style>\n",
              "    .colab-df-container {\n",
              "      display:flex;\n",
              "      flex-wrap:wrap;\n",
              "      gap: 12px;\n",
              "    }\n",
              "\n",
              "    .colab-df-convert {\n",
              "      background-color: #E8F0FE;\n",
              "      border: none;\n",
              "      border-radius: 50%;\n",
              "      cursor: pointer;\n",
              "      display: none;\n",
              "      fill: #1967D2;\n",
              "      height: 32px;\n",
              "      padding: 0 0 0 0;\n",
              "      width: 32px;\n",
              "    }\n",
              "\n",
              "    .colab-df-convert:hover {\n",
              "      background-color: #E2EBFA;\n",
              "      box-shadow: 0px 1px 2px rgba(60, 64, 67, 0.3), 0px 1px 3px 1px rgba(60, 64, 67, 0.15);\n",
              "      fill: #174EA6;\n",
              "    }\n",
              "\n",
              "    [theme=dark] .colab-df-convert {\n",
              "      background-color: #3B4455;\n",
              "      fill: #D2E3FC;\n",
              "    }\n",
              "\n",
              "    [theme=dark] .colab-df-convert:hover {\n",
              "      background-color: #434B5C;\n",
              "      box-shadow: 0px 1px 3px 1px rgba(0, 0, 0, 0.15);\n",
              "      filter: drop-shadow(0px 1px 2px rgba(0, 0, 0, 0.3));\n",
              "      fill: #FFFFFF;\n",
              "    }\n",
              "  </style>\n",
              "\n",
              "      <script>\n",
              "        const buttonEl =\n",
              "          document.querySelector('#df-108481e4-bbb2-43b3-9438-19f94d4f8641 button.colab-df-convert');\n",
              "        buttonEl.style.display =\n",
              "          google.colab.kernel.accessAllowed ? 'block' : 'none';\n",
              "\n",
              "        async function convertToInteractive(key) {\n",
              "          const element = document.querySelector('#df-108481e4-bbb2-43b3-9438-19f94d4f8641');\n",
              "          const dataTable =\n",
              "            await google.colab.kernel.invokeFunction('convertToInteractive',\n",
              "                                                     [key], {});\n",
              "          if (!dataTable) return;\n",
              "\n",
              "          const docLinkHtml = 'Like what you see? Visit the ' +\n",
              "            '<a target=\"_blank\" href=https://colab.research.google.com/notebooks/data_table.ipynb>data table notebook</a>'\n",
              "            + ' to learn more about interactive tables.';\n",
              "          element.innerHTML = '';\n",
              "          dataTable['output_type'] = 'display_data';\n",
              "          await google.colab.output.renderOutput(dataTable, element);\n",
              "          const docLink = document.createElement('div');\n",
              "          docLink.innerHTML = docLinkHtml;\n",
              "          element.appendChild(docLink);\n",
              "        }\n",
              "      </script>\n",
              "    </div>\n",
              "  </div>\n",
              "  "
            ]
          },
          "metadata": {},
          "execution_count": 50
        }
      ]
    },
    {
      "cell_type": "code",
      "source": [
        "barplot(df_plot=size_company, x='Size_of_company', y='Count', color='grey')\n",
        "\n",
        "plt.subplots_adjust(top=0.9)\n",
        "plt.title('Participants and the size of company they work for',\n",
        "          fontdict={'fontsize': 16})\n",
        "plt.ylabel(' ');"
      ],
      "metadata": {
        "colab": {
          "base_uri": "https://localhost:8080/",
          "height": 515
        },
        "id": "e_7tNslLjhXd",
        "outputId": "aaa0ca93-1beb-41ba-fbcc-f8149e21cd20"
      },
      "execution_count": null,
      "outputs": [
        {
          "output_type": "display_data",
          "data": {
            "text/plain": [
              "<Figure size 720x576 with 1 Axes>"
            ],
            "image/png": "[encoded data removed]"
          },
          "metadata": {}
        }
      ]
    },
    {
      "cell_type": "markdown",
      "source": [
        "Most of participants work in companies that hire more that 5 people, which means that these people work in teams. More that a 1000 people work in big organizations, where usually is specific working environment."
      ],
      "metadata": {
        "id": "_1FAueSuz7Ms"
      }
    },
    {
      "cell_type": "markdown",
      "source": [
        "###Tech character of organization"
      ],
      "metadata": {
        "id": "HS49-CSf10JC"
      }
    },
    {
      "cell_type": "code",
      "source": [
        "tech_organization = pd.read_sql_query(\n",
        "    '''\n",
        "    SELECT AnswerText as Tech_organization, \n",
        "           SurveyID, \n",
        "           COUNT(AnswerText) AS Nr_of_participants\n",
        "    FROM Answer \n",
        "    WHERE QuestionID = 9 \n",
        "    GROUP BY AnswerText, SurveyID\n",
        "    ORDER BY SurveyID;\n",
        "    ''', con)"
      ],
      "metadata": {
        "id": "wbJqSwgqfIDO"
      },
      "execution_count": null,
      "outputs": []
    },
    {
      "cell_type": "code",
      "source": [
        "tech_org_year = questions_answers.query(\"questionid == 9\")\n",
        "tech_org_year.groupby(\"UserID\")\n",
        "\n",
        "replace_values_yes_no = {'0': 'No', '1': 'Yes', '-1': 'Not provided'}\n",
        "\n",
        "tech_org_year = tech_org_year.replace(\n",
        "    {'AnswerText': replace_values_yes_no})\n"
      ],
      "metadata": {
        "id": "zav5Suv1g_wN"
      },
      "execution_count": null,
      "outputs": []
    },
    {
      "cell_type": "code",
      "source": [
        "g = sns.catplot(x='SurveyID', data=tech_org_year, kind='count', \n",
        "                hue='AnswerText',\n",
        "                height=7.27, aspect=10.7/7.27)\n",
        "\n",
        "g.set_axis_labels(' ', 'Number of participants', labelpad=10)\n",
        "g.legend.set_title('Tech Organization')\n",
        "g.ax.margins(.05)"
      ],
      "metadata": {
        "colab": {
          "base_uri": "https://localhost:8080/",
          "height": 534
        },
        "id": "vGKnm8DCf213",
        "outputId": "82b6927f-48b3-420e-bce7-34498243c769"
      },
      "execution_count": null,
      "outputs": [
        {
          "output_type": "display_data",
          "data": {
            "text/plain": [
              "<Figure size 881.5x523.44 with 1 Axes>"
            ],
            "image/png": "[encoded data removed]"
          },
          "metadata": {}
        }
      ]
    },
    {
      "cell_type": "markdown",
      "source": [
        "The majority of people who took part in surveys work for tech companies."
      ],
      "metadata": {
        "id": "tW0kJpNV14J-"
      }
    },
    {
      "cell_type": "code",
      "source": [
        "IT_role = pd.read_sql_query(\n",
        "    '''\n",
        "    SELECT AnswerText as IT_role, \n",
        "           COUNT(AnswerText) AS Nr_of_participants\n",
        "    FROM Answer \n",
        "    WHERE QuestionID = 13\n",
        "    GROUP BY AnswerText;\n",
        "    ''', con)"
      ],
      "metadata": {
        "id": "pCt7gB3XlApl"
      },
      "execution_count": null,
      "outputs": []
    },
    {
      "cell_type": "code",
      "source": [
        "IT_role"
      ],
      "metadata": {
        "colab": {
          "base_uri": "https://localhost:8080/",
          "height": 143
        },
        "id": "2vPs7f_UlIDg",
        "outputId": "dc8b17aa-4a61-47f6-b5f7-e89f912a6723"
      },
      "execution_count": null,
      "outputs": [
        {
          "output_type": "execute_result",
          "data": {
            "text/plain": [
              "  IT_role  Nr_of_participants\n",
              "0      -1                1387\n",
              "1       0                 100\n",
              "2       1                1471"
            ],
            "text/html": [
              "\n",
              "  <div id=\"df-734f5a7f-4886-486e-9af8-2e6a194f7a11\">\n",
              "    <div class=\"colab-df-container\">\n",
              "      <div>\n",
              "<style scoped>\n",
              "    .dataframe tbody tr th:only-of-type {\n",
              "        vertical-align: middle;\n",
              "    }\n",
              "\n",
              "    .dataframe tbody tr th {\n",
              "        vertical-align: top;\n",
              "    }\n",
              "\n",
              "    .dataframe thead th {\n",
              "        text-align: right;\n",
              "    }\n",
              "</style>\n",
              "<table border=\"1\" class=\"dataframe\">\n",
              "  <thead>\n",
              "    <tr style=\"text-align: right;\">\n",
              "      <th></th>\n",
              "      <th>IT_role</th>\n",
              "      <th>Nr_of_participants</th>\n",
              "    </tr>\n",
              "  </thead>\n",
              "  <tbody>\n",
              "    <tr>\n",
              "      <th>0</th>\n",
              "      <td>-1</td>\n",
              "      <td>1387</td>\n",
              "    </tr>\n",
              "    <tr>\n",
              "      <th>1</th>\n",
              "      <td>0</td>\n",
              "      <td>100</td>\n",
              "    </tr>\n",
              "    <tr>\n",
              "      <th>2</th>\n",
              "      <td>1</td>\n",
              "      <td>1471</td>\n",
              "    </tr>\n",
              "  </tbody>\n",
              "</table>\n",
              "</div>\n",
              "      <button class=\"colab-df-convert\" onclick=\"convertToInteractive('df-734f5a7f-4886-486e-9af8-2e6a194f7a11')\"\n",
              "              title=\"Convert this dataframe to an interactive table.\"\n",
              "              style=\"display:none;\">\n",
              "        \n",
              "  <svg xmlns=\"http://www.w3.org/2000/svg\" height=\"24px\"viewBox=\"0 0 24 24\"\n",
              "       width=\"24px\">\n",
              "    <path d=\"M0 0h24v24H0V0z\" fill=\"none\"/>\n",
              "    <path d=\"M18.56 5.44l.94 2.06.94-2.06 2.06-.94-2.06-.94-.94-2.06-.94 2.06-2.06.94zm-11 1L8.5 8.5l.94-2.06 2.06-.94-2.06-.94L8.5 2.5l-.94 2.06-2.06.94zm10 10l.94 2.06.94-2.06 2.06-.94-2.06-.94-.94-2.06-.94 2.06-2.06.94z\"/><path d=\"M17.41 7.96l-1.37-1.37c-.4-.4-.92-.59-1.43-.59-.52 0-1.04.2-1.43.59L10.3 9.45l-7.72 7.72c-.78.78-.78 2.05 0 2.83L4 21.41c.39.39.9.59 1.41.59.51 0 1.02-.2 1.41-.59l7.78-7.78 2.81-2.81c.8-.78.8-2.07 0-2.86zM5.41 20L4 18.59l7.72-7.72 1.47 1.35L5.41 20z\"/>\n",
              "  </svg>\n",
              "      </button>\n",
              "      \n",
              "  <style>\n",
              "    .colab-df-container {\n",
              "      display:flex;\n",
              "      flex-wrap:wrap;\n",
              "      gap: 12px;\n",
              "    }\n",
              "\n",
              "    .colab-df-convert {\n",
              "      background-color: #E8F0FE;\n",
              "      border: none;\n",
              "      border-radius: 50%;\n",
              "      cursor: pointer;\n",
              "      display: none;\n",
              "      fill: #1967D2;\n",
              "      height: 32px;\n",
              "      padding: 0 0 0 0;\n",
              "      width: 32px;\n",
              "    }\n",
              "\n",
              "    .colab-df-convert:hover {\n",
              "      background-color: #E2EBFA;\n",
              "      box-shadow: 0px 1px 2px rgba(60, 64, 67, 0.3), 0px 1px 3px 1px rgba(60, 64, 67, 0.15);\n",
              "      fill: #174EA6;\n",
              "    }\n",
              "\n",
              "    [theme=dark] .colab-df-convert {\n",
              "      background-color: #3B4455;\n",
              "      fill: #D2E3FC;\n",
              "    }\n",
              "\n",
              "    [theme=dark] .colab-df-convert:hover {\n",
              "      background-color: #434B5C;\n",
              "      box-shadow: 0px 1px 3px 1px rgba(0, 0, 0, 0.15);\n",
              "      filter: drop-shadow(0px 1px 2px rgba(0, 0, 0, 0.3));\n",
              "      fill: #FFFFFF;\n",
              "    }\n",
              "  </style>\n",
              "\n",
              "      <script>\n",
              "        const buttonEl =\n",
              "          document.querySelector('#df-734f5a7f-4886-486e-9af8-2e6a194f7a11 button.colab-df-convert');\n",
              "        buttonEl.style.display =\n",
              "          google.colab.kernel.accessAllowed ? 'block' : 'none';\n",
              "\n",
              "        async function convertToInteractive(key) {\n",
              "          const element = document.querySelector('#df-734f5a7f-4886-486e-9af8-2e6a194f7a11');\n",
              "          const dataTable =\n",
              "            await google.colab.kernel.invokeFunction('convertToInteractive',\n",
              "                                                     [key], {});\n",
              "          if (!dataTable) return;\n",
              "\n",
              "          const docLinkHtml = 'Like what you see? Visit the ' +\n",
              "            '<a target=\"_blank\" href=https://colab.research.google.com/notebooks/data_table.ipynb>data table notebook</a>'\n",
              "            + ' to learn more about interactive tables.';\n",
              "          element.innerHTML = '';\n",
              "          dataTable['output_type'] = 'display_data';\n",
              "          await google.colab.output.renderOutput(dataTable, element);\n",
              "          const docLink = document.createElement('div');\n",
              "          docLink.innerHTML = docLinkHtml;\n",
              "          element.appendChild(docLink);\n",
              "        }\n",
              "      </script>\n",
              "    </div>\n",
              "  </div>\n",
              "  "
            ]
          },
          "metadata": {},
          "execution_count": 56
        }
      ]
    },
    {
      "cell_type": "markdown",
      "source": [
        "People who took part in surveys have IT role or didn't provide the information about that (so it relates to the aim of the survey)."
      ],
      "metadata": {
        "id": "bu2idG-m0qD6"
      }
    },
    {
      "cell_type": "markdown",
      "source": [
        "### Race of the respondents"
      ],
      "metadata": {
        "id": "d-kUTItI04l9"
      }
    },
    {
      "cell_type": "code",
      "source": [
        "race_by_year = questions_answers.query(\"questionid == 89\")\n",
        "race_by_year.groupby(\"UserID\")\n",
        "display(race_by_year)"
      ],
      "metadata": {
        "colab": {
          "base_uri": "https://localhost:8080/",
          "height": 423
        },
        "id": "VuSwp_I6m8R3",
        "outputId": "36cfdb3d-fec5-4a77-c13d-39ed102d1692",
        "collapsed": true
      },
      "execution_count": null,
      "outputs": [
        {
          "output_type": "display_data",
          "data": {
            "text/plain": [
              "                        AnswerText  SurveyID  UserID  questionid  \\\n",
              "171141                          -1      2017    2694          89   \n",
              "171142                          -1      2017    2695          89   \n",
              "171143                       White      2017    2696          89   \n",
              "171144                       White      2017    2697          89   \n",
              "171145  More than one of the above      2017    2698          89   \n",
              "...                            ...       ...     ...         ...   \n",
              "230336                          -1      2019    4214          89   \n",
              "230337                       White      2019    4215          89   \n",
              "230338                          -1      2019    4216          89   \n",
              "230339                          -1      2019    4217          89   \n",
              "230340                       White      2019    4218          89   \n",
              "\n",
              "              questiontext  \n",
              "171141  What is your race?  \n",
              "171142  What is your race?  \n",
              "171143  What is your race?  \n",
              "171144  What is your race?  \n",
              "171145  What is your race?  \n",
              "...                    ...  \n",
              "230336  What is your race?  \n",
              "230337  What is your race?  \n",
              "230338  What is your race?  \n",
              "230339  What is your race?  \n",
              "230340  What is your race?  \n",
              "\n",
              "[1525 rows x 5 columns]"
            ],
            "text/html": [
              "\n",
              "  <div id=\"df-57810f48-d89e-450a-a469-4a038437b594\">\n",
              "    <div class=\"colab-df-container\">\n",
              "      <div>\n",
              "<style scoped>\n",
              "    .dataframe tbody tr th:only-of-type {\n",
              "        vertical-align: middle;\n",
              "    }\n",
              "\n",
              "    .dataframe tbody tr th {\n",
              "        vertical-align: top;\n",
              "    }\n",
              "\n",
              "    .dataframe thead th {\n",
              "        text-align: right;\n",
              "    }\n",
              "</style>\n",
              "<table border=\"1\" class=\"dataframe\">\n",
              "  <thead>\n",
              "    <tr style=\"text-align: right;\">\n",
              "      <th></th>\n",
              "      <th>AnswerText</th>\n",
              "      <th>SurveyID</th>\n",
              "      <th>UserID</th>\n",
              "      <th>questionid</th>\n",
              "      <th>questiontext</th>\n",
              "    </tr>\n",
              "  </thead>\n",
              "  <tbody>\n",
              "    <tr>\n",
              "      <th>171141</th>\n",
              "      <td>-1</td>\n",
              "      <td>2017</td>\n",
              "      <td>2694</td>\n",
              "      <td>89</td>\n",
              "      <td>What is your race?</td>\n",
              "    </tr>\n",
              "    <tr>\n",
              "      <th>171142</th>\n",
              "      <td>-1</td>\n",
              "      <td>2017</td>\n",
              "      <td>2695</td>\n",
              "      <td>89</td>\n",
              "      <td>What is your race?</td>\n",
              "    </tr>\n",
              "    <tr>\n",
              "      <th>171143</th>\n",
              "      <td>White</td>\n",
              "      <td>2017</td>\n",
              "      <td>2696</td>\n",
              "      <td>89</td>\n",
              "      <td>What is your race?</td>\n",
              "    </tr>\n",
              "    <tr>\n",
              "      <th>171144</th>\n",
              "      <td>White</td>\n",
              "      <td>2017</td>\n",
              "      <td>2697</td>\n",
              "      <td>89</td>\n",
              "      <td>What is your race?</td>\n",
              "    </tr>\n",
              "    <tr>\n",
              "      <th>171145</th>\n",
              "      <td>More than one of the above</td>\n",
              "      <td>2017</td>\n",
              "      <td>2698</td>\n",
              "      <td>89</td>\n",
              "      <td>What is your race?</td>\n",
              "    </tr>\n",
              "    <tr>\n",
              "      <th>...</th>\n",
              "      <td>...</td>\n",
              "      <td>...</td>\n",
              "      <td>...</td>\n",
              "      <td>...</td>\n",
              "      <td>...</td>\n",
              "    </tr>\n",
              "    <tr>\n",
              "      <th>230336</th>\n",
              "      <td>-1</td>\n",
              "      <td>2019</td>\n",
              "      <td>4214</td>\n",
              "      <td>89</td>\n",
              "      <td>What is your race?</td>\n",
              "    </tr>\n",
              "    <tr>\n",
              "      <th>230337</th>\n",
              "      <td>White</td>\n",
              "      <td>2019</td>\n",
              "      <td>4215</td>\n",
              "      <td>89</td>\n",
              "      <td>What is your race?</td>\n",
              "    </tr>\n",
              "    <tr>\n",
              "      <th>230338</th>\n",
              "      <td>-1</td>\n",
              "      <td>2019</td>\n",
              "      <td>4216</td>\n",
              "      <td>89</td>\n",
              "      <td>What is your race?</td>\n",
              "    </tr>\n",
              "    <tr>\n",
              "      <th>230339</th>\n",
              "      <td>-1</td>\n",
              "      <td>2019</td>\n",
              "      <td>4217</td>\n",
              "      <td>89</td>\n",
              "      <td>What is your race?</td>\n",
              "    </tr>\n",
              "    <tr>\n",
              "      <th>230340</th>\n",
              "      <td>White</td>\n",
              "      <td>2019</td>\n",
              "      <td>4218</td>\n",
              "      <td>89</td>\n",
              "      <td>What is your race?</td>\n",
              "    </tr>\n",
              "  </tbody>\n",
              "</table>\n",
              "<p>1525 rows × 5 columns</p>\n",
              "</div>\n",
              "      <button class=\"colab-df-convert\" onclick=\"convertToInteractive('df-57810f48-d89e-450a-a469-4a038437b594')\"\n",
              "              title=\"Convert this dataframe to an interactive table.\"\n",
              "              style=\"display:none;\">\n",
              "        \n",
              "  <svg xmlns=\"http://www.w3.org/2000/svg\" height=\"24px\"viewBox=\"0 0 24 24\"\n",
              "       width=\"24px\">\n",
              "    <path d=\"M0 0h24v24H0V0z\" fill=\"none\"/>\n",
              "    <path d=\"M18.56 5.44l.94 2.06.94-2.06 2.06-.94-2.06-.94-.94-2.06-.94 2.06-2.06.94zm-11 1L8.5 8.5l.94-2.06 2.06-.94-2.06-.94L8.5 2.5l-.94 2.06-2.06.94zm10 10l.94 2.06.94-2.06 2.06-.94-2.06-.94-.94-2.06-.94 2.06-2.06.94z\"/><path d=\"M17.41 7.96l-1.37-1.37c-.4-.4-.92-.59-1.43-.59-.52 0-1.04.2-1.43.59L10.3 9.45l-7.72 7.72c-.78.78-.78 2.05 0 2.83L4 21.41c.39.39.9.59 1.41.59.51 0 1.02-.2 1.41-.59l7.78-7.78 2.81-2.81c.8-.78.8-2.07 0-2.86zM5.41 20L4 18.59l7.72-7.72 1.47 1.35L5.41 20z\"/>\n",
              "  </svg>\n",
              "      </button>\n",
              "      \n",
              "  <style>\n",
              "    .colab-df-container {\n",
              "      display:flex;\n",
              "      flex-wrap:wrap;\n",
              "      gap: 12px;\n",
              "    }\n",
              "\n",
              "    .colab-df-convert {\n",
              "      background-color: #E8F0FE;\n",
              "      border: none;\n",
              "      border-radius: 50%;\n",
              "      cursor: pointer;\n",
              "      display: none;\n",
              "      fill: #1967D2;\n",
              "      height: 32px;\n",
              "      padding: 0 0 0 0;\n",
              "      width: 32px;\n",
              "    }\n",
              "\n",
              "    .colab-df-convert:hover {\n",
              "      background-color: #E2EBFA;\n",
              "      box-shadow: 0px 1px 2px rgba(60, 64, 67, 0.3), 0px 1px 3px 1px rgba(60, 64, 67, 0.15);\n",
              "      fill: #174EA6;\n",
              "    }\n",
              "\n",
              "    [theme=dark] .colab-df-convert {\n",
              "      background-color: #3B4455;\n",
              "      fill: #D2E3FC;\n",
              "    }\n",
              "\n",
              "    [theme=dark] .colab-df-convert:hover {\n",
              "      background-color: #434B5C;\n",
              "      box-shadow: 0px 1px 3px 1px rgba(0, 0, 0, 0.15);\n",
              "      filter: drop-shadow(0px 1px 2px rgba(0, 0, 0, 0.3));\n",
              "      fill: #FFFFFF;\n",
              "    }\n",
              "  </style>\n",
              "\n",
              "      <script>\n",
              "        const buttonEl =\n",
              "          document.querySelector('#df-57810f48-d89e-450a-a469-4a038437b594 button.colab-df-convert');\n",
              "        buttonEl.style.display =\n",
              "          google.colab.kernel.accessAllowed ? 'block' : 'none';\n",
              "\n",
              "        async function convertToInteractive(key) {\n",
              "          const element = document.querySelector('#df-57810f48-d89e-450a-a469-4a038437b594');\n",
              "          const dataTable =\n",
              "            await google.colab.kernel.invokeFunction('convertToInteractive',\n",
              "                                                     [key], {});\n",
              "          if (!dataTable) return;\n",
              "\n",
              "          const docLinkHtml = 'Like what you see? Visit the ' +\n",
              "            '<a target=\"_blank\" href=https://colab.research.google.com/notebooks/data_table.ipynb>data table notebook</a>'\n",
              "            + ' to learn more about interactive tables.';\n",
              "          element.innerHTML = '';\n",
              "          dataTable['output_type'] = 'display_data';\n",
              "          await google.colab.output.renderOutput(dataTable, element);\n",
              "          const docLink = document.createElement('div');\n",
              "          docLink.innerHTML = docLinkHtml;\n",
              "          element.appendChild(docLink);\n",
              "        }\n",
              "      </script>\n",
              "    </div>\n",
              "  </div>\n",
              "  "
            ]
          },
          "metadata": {}
        }
      ]
    },
    {
      "cell_type": "code",
      "source": [
        "replace_values_minus_one = {'-1': 'Not provided'}\n",
        "\n",
        "race_by_year = race_by_year.replace(\n",
        "    {'AnswerText': replace_values_minus_one})"
      ],
      "metadata": {
        "id": "j8m1Yhodr-KJ"
      },
      "execution_count": null,
      "outputs": []
    },
    {
      "cell_type": "code",
      "source": [
        "g = sns.catplot(x='SurveyID', data=race_by_year, kind='count', hue='AnswerText',\n",
        "                height=7.27, aspect=10.7/7.27)\n",
        "\n",
        "g.set_axis_labels(' ', 'Number of participants', labelpad=10)\n",
        "g.legend.set_title('Race of participants')\n",
        "g.ax.margins(.05)"
      ],
      "metadata": {
        "colab": {
          "base_uri": "https://localhost:8080/",
          "height": 534
        },
        "id": "DpO-ygZLo_NC",
        "outputId": "91876357-6912-4c22-a0cf-b50535fd58f2"
      },
      "execution_count": null,
      "outputs": [
        {
          "output_type": "display_data",
          "data": {
            "text/plain": [
              "<Figure size 994.125x523.44 with 1 Axes>"
            ],
            "image/png": "[encoded data removed]"
          },
          "metadata": {}
        }
      ]
    },
    {
      "cell_type": "markdown",
      "source": [
        "The majority of particpants are white or didn't provide information about their race."
      ],
      "metadata": {
        "id": "MCKIMGhX0_Kq"
      }
    },
    {
      "cell_type": "markdown",
      "source": [
        "###Remote working"
      ],
      "metadata": {
        "id": "PSO2TWt_1F9r"
      }
    },
    {
      "cell_type": "code",
      "source": [
        "remote = pd.read_sql_query(\n",
        "    '''\n",
        "    SELECT AnswerText as Remote, \n",
        "           SurveyID, \n",
        "           COUNT(AnswerText) AS Nr_of_participants\n",
        "    FROM Answer \n",
        "    WHERE QuestionID = 93 OR QuestionID = 118\n",
        "    GROUP BY AnswerText, SurveyID\n",
        "    ORDER BY SurveyID;\n",
        "    ''', con)"
      ],
      "metadata": {
        "id": "kp1tJczVd_RB"
      },
      "execution_count": null,
      "outputs": []
    },
    {
      "cell_type": "code",
      "source": [
        "remote"
      ],
      "metadata": {
        "colab": {
          "base_uri": "https://localhost:8080/",
          "height": 206
        },
        "id": "5r74qdFceEp3",
        "outputId": "2e25cee5-ccaf-4f01-d2b1-82e6afc03039"
      },
      "execution_count": null,
      "outputs": [
        {
          "output_type": "execute_result",
          "data": {
            "text/plain": [
              "      Remote  SurveyID  Nr_of_participants\n",
              "0         No      2014                 884\n",
              "1        Yes      2014                 376\n",
              "2     Always      2016                 343\n",
              "3      Never      2016                 333\n",
              "4  Sometimes      2016                 757"
            ],
            "text/html": [
              "\n",
              "  <div id=\"df-f8714a23-bf21-4803-9c63-6a585d7dce8d\">\n",
              "    <div class=\"colab-df-container\">\n",
              "      <div>\n",
              "<style scoped>\n",
              "    .dataframe tbody tr th:only-of-type {\n",
              "        vertical-align: middle;\n",
              "    }\n",
              "\n",
              "    .dataframe tbody tr th {\n",
              "        vertical-align: top;\n",
              "    }\n",
              "\n",
              "    .dataframe thead th {\n",
              "        text-align: right;\n",
              "    }\n",
              "</style>\n",
              "<table border=\"1\" class=\"dataframe\">\n",
              "  <thead>\n",
              "    <tr style=\"text-align: right;\">\n",
              "      <th></th>\n",
              "      <th>Remote</th>\n",
              "      <th>SurveyID</th>\n",
              "      <th>Nr_of_participants</th>\n",
              "    </tr>\n",
              "  </thead>\n",
              "  <tbody>\n",
              "    <tr>\n",
              "      <th>0</th>\n",
              "      <td>No</td>\n",
              "      <td>2014</td>\n",
              "      <td>884</td>\n",
              "    </tr>\n",
              "    <tr>\n",
              "      <th>1</th>\n",
              "      <td>Yes</td>\n",
              "      <td>2014</td>\n",
              "      <td>376</td>\n",
              "    </tr>\n",
              "    <tr>\n",
              "      <th>2</th>\n",
              "      <td>Always</td>\n",
              "      <td>2016</td>\n",
              "      <td>343</td>\n",
              "    </tr>\n",
              "    <tr>\n",
              "      <th>3</th>\n",
              "      <td>Never</td>\n",
              "      <td>2016</td>\n",
              "      <td>333</td>\n",
              "    </tr>\n",
              "    <tr>\n",
              "      <th>4</th>\n",
              "      <td>Sometimes</td>\n",
              "      <td>2016</td>\n",
              "      <td>757</td>\n",
              "    </tr>\n",
              "  </tbody>\n",
              "</table>\n",
              "</div>\n",
              "      <button class=\"colab-df-convert\" onclick=\"convertToInteractive('df-f8714a23-bf21-4803-9c63-6a585d7dce8d')\"\n",
              "              title=\"Convert this dataframe to an interactive table.\"\n",
              "              style=\"display:none;\">\n",
              "        \n",
              "  <svg xmlns=\"http://www.w3.org/2000/svg\" height=\"24px\"viewBox=\"0 0 24 24\"\n",
              "       width=\"24px\">\n",
              "    <path d=\"M0 0h24v24H0V0z\" fill=\"none\"/>\n",
              "    <path d=\"M18.56 5.44l.94 2.06.94-2.06 2.06-.94-2.06-.94-.94-2.06-.94 2.06-2.06.94zm-11 1L8.5 8.5l.94-2.06 2.06-.94-2.06-.94L8.5 2.5l-.94 2.06-2.06.94zm10 10l.94 2.06.94-2.06 2.06-.94-2.06-.94-.94-2.06-.94 2.06-2.06.94z\"/><path d=\"M17.41 7.96l-1.37-1.37c-.4-.4-.92-.59-1.43-.59-.52 0-1.04.2-1.43.59L10.3 9.45l-7.72 7.72c-.78.78-.78 2.05 0 2.83L4 21.41c.39.39.9.59 1.41.59.51 0 1.02-.2 1.41-.59l7.78-7.78 2.81-2.81c.8-.78.8-2.07 0-2.86zM5.41 20L4 18.59l7.72-7.72 1.47 1.35L5.41 20z\"/>\n",
              "  </svg>\n",
              "      </button>\n",
              "      \n",
              "  <style>\n",
              "    .colab-df-container {\n",
              "      display:flex;\n",
              "      flex-wrap:wrap;\n",
              "      gap: 12px;\n",
              "    }\n",
              "\n",
              "    .colab-df-convert {\n",
              "      background-color: #E8F0FE;\n",
              "      border: none;\n",
              "      border-radius: 50%;\n",
              "      cursor: pointer;\n",
              "      display: none;\n",
              "      fill: #1967D2;\n",
              "      height: 32px;\n",
              "      padding: 0 0 0 0;\n",
              "      width: 32px;\n",
              "    }\n",
              "\n",
              "    .colab-df-convert:hover {\n",
              "      background-color: #E2EBFA;\n",
              "      box-shadow: 0px 1px 2px rgba(60, 64, 67, 0.3), 0px 1px 3px 1px rgba(60, 64, 67, 0.15);\n",
              "      fill: #174EA6;\n",
              "    }\n",
              "\n",
              "    [theme=dark] .colab-df-convert {\n",
              "      background-color: #3B4455;\n",
              "      fill: #D2E3FC;\n",
              "    }\n",
              "\n",
              "    [theme=dark] .colab-df-convert:hover {\n",
              "      background-color: #434B5C;\n",
              "      box-shadow: 0px 1px 3px 1px rgba(0, 0, 0, 0.15);\n",
              "      filter: drop-shadow(0px 1px 2px rgba(0, 0, 0, 0.3));\n",
              "      fill: #FFFFFF;\n",
              "    }\n",
              "  </style>\n",
              "\n",
              "      <script>\n",
              "        const buttonEl =\n",
              "          document.querySelector('#df-f8714a23-bf21-4803-9c63-6a585d7dce8d button.colab-df-convert');\n",
              "        buttonEl.style.display =\n",
              "          google.colab.kernel.accessAllowed ? 'block' : 'none';\n",
              "\n",
              "        async function convertToInteractive(key) {\n",
              "          const element = document.querySelector('#df-f8714a23-bf21-4803-9c63-6a585d7dce8d');\n",
              "          const dataTable =\n",
              "            await google.colab.kernel.invokeFunction('convertToInteractive',\n",
              "                                                     [key], {});\n",
              "          if (!dataTable) return;\n",
              "\n",
              "          const docLinkHtml = 'Like what you see? Visit the ' +\n",
              "            '<a target=\"_blank\" href=https://colab.research.google.com/notebooks/data_table.ipynb>data table notebook</a>'\n",
              "            + ' to learn more about interactive tables.';\n",
              "          element.innerHTML = '';\n",
              "          dataTable['output_type'] = 'display_data';\n",
              "          await google.colab.output.renderOutput(dataTable, element);\n",
              "          const docLink = document.createElement('div');\n",
              "          docLink.innerHTML = docLinkHtml;\n",
              "          element.appendChild(docLink);\n",
              "        }\n",
              "      </script>\n",
              "    </div>\n",
              "  </div>\n",
              "  "
            ]
          },
          "metadata": {},
          "execution_count": 61
        }
      ]
    },
    {
      "cell_type": "markdown",
      "source": [
        "Only in 2014 and 2016 there was a question about remote mode of working. A majority of people worked in the office. "
      ],
      "metadata": {
        "id": "eRFyBH6I1Ma3"
      }
    },
    {
      "cell_type": "markdown",
      "source": [
        "**General conclusions.**\n",
        "\n",
        "The typical respondent for the mental tech survey is:\n",
        "* male\n",
        "* 34-year-old\n",
        "* white\n",
        "* work and live in USA\n",
        "* employed in a tech company and has an IT role.\n"
      ],
      "metadata": {
        "id": "e6RcLTmm2BKJ"
      }
    },
    {
      "cell_type": "markdown",
      "source": [
        "\n",
        "\n",
        "---\n",
        "\n"
      ],
      "metadata": {
        "id": "9DW1gdRIiriQ"
      }
    },
    {
      "cell_type": "markdown",
      "source": [
        "#Employer care"
      ],
      "metadata": {
        "id": "vh2V9CFFspS2"
      }
    },
    {
      "cell_type": "markdown",
      "source": [
        "Checking what is the company attitude to mental health issues."
      ],
      "metadata": {
        "id": "vXZV2b0f-y9a"
      }
    },
    {
      "cell_type": "markdown",
      "source": [
        "###Checking if companies offer mental health coverage as a benefit for employees.\n"
      ],
      "metadata": {
        "id": "-Ro4OOTLB7Rh"
      }
    },
    {
      "cell_type": "code",
      "source": [
        "mental_health_coverage = pd.read_sql_query(\n",
        "    '''\n",
        "     WITH summary AS (\n",
        "      SELECT SurveyID, Count(AnswerText) AS All_participants\n",
        "      FROM Answer\n",
        "      WHERE QuestionID = 10\n",
        "      GROUP BY SurveyID\n",
        "    )\n",
        "    SELECT a.AnswerText as Coverage, \n",
        "           a.SurveyID, \n",
        "           COUNT(a.AnswerText)*100/s.All_participants AS Ratio\n",
        "    FROM Answer a\n",
        "    INNER JOIN summary s\n",
        "    ON a.SurveyID = s.SurveyID\n",
        "    WHERE QuestionID = 10\n",
        "    GROUP BY a.SurveyID, a.AnswerText;\n",
        "    ''', con)"
      ],
      "metadata": {
        "id": "vcIRuueNfAII"
      },
      "execution_count": null,
      "outputs": []
    },
    {
      "cell_type": "code",
      "source": [
        "replace_values_dont_know = {'-1': 'Answer not provided', \n",
        "                            \"Don't know\": \"I don't know\"}\n",
        "mental_health_coverage = mental_health_coverage.replace(\n",
        "    {'Coverage': replace_values_dont_know})"
      ],
      "metadata": {
        "id": "dvpfV08tj6Nf"
      },
      "execution_count": null,
      "outputs": []
    },
    {
      "cell_type": "code",
      "source": [
        "g = sns.catplot(x='SurveyID', y='Ratio', kind='bar',\n",
        "                data=mental_health_coverage, hue='Coverage', \n",
        "                height=7.27, aspect=10.7/7.27)\n",
        "\n",
        "g.set_axis_labels(' ', 'Number of participants', labelpad=10)\n",
        "g.legend.set_title('Mental health coverage')\n",
        "g.ax.margins(.05)"
      ],
      "metadata": {
        "colab": {
          "base_uri": "https://localhost:8080/",
          "height": 534
        },
        "id": "LGl5NCixlRzm",
        "outputId": "76a5ed9b-88f7-4c2a-f2b8-05664d89d1cc"
      },
      "execution_count": null,
      "outputs": [
        {
          "output_type": "display_data",
          "data": {
            "text/plain": [
              "<Figure size 973.5x523.44 with 1 Axes>"
            ],
            "image/png": "[encoded data removed]"
          },
          "metadata": {}
        }
      ]
    },
    {
      "cell_type": "markdown",
      "source": [
        "In 2014 there was more or less an equal number of companies that cover mental health issues among employees. This ratio changed for the better in the following years. However, there are a high number of people who have no idea about whether this option exists in their company or not."
      ],
      "metadata": {
        "id": "kQgDEjBTAQzW"
      }
    },
    {
      "cell_type": "markdown",
      "source": [
        "###Materials about mental health provided by companies"
      ],
      "metadata": {
        "id": "38oGfRd1BzRW"
      }
    },
    {
      "cell_type": "code",
      "source": [
        "mental_health_materials = pd.read_sql_query(\n",
        "    '''\n",
        "    SELECT AnswerText as Answer, \n",
        "           COUNT(AnswerText) AS Nr_of_participants\n",
        "    FROM Answer \n",
        "    WHERE QuestionID = 16\n",
        "    GROUP BY AnswerText\n",
        "    ORDER BY SurveyID, COUNT(AnswerText);\n",
        "    ''', con)"
      ],
      "metadata": {
        "id": "KqRt0GNN2Aou"
      },
      "execution_count": null,
      "outputs": []
    },
    {
      "cell_type": "code",
      "source": [
        "mental_health_materials = mental_health_materials.replace(\n",
        "    {'Answer': replace_values_minus_one})\n",
        "mental_health_materials"
      ],
      "metadata": {
        "colab": {
          "base_uri": "https://localhost:8080/",
          "height": 175
        },
        "id": "YrMFvi9_1j82",
        "outputId": "bb2b3641-5d29-4ed6-c750-82952829fdaa"
      },
      "execution_count": null,
      "outputs": [
        {
          "output_type": "execute_result",
          "data": {
            "text/plain": [
              "         Answer  Nr_of_participants\n",
              "0  Not provided                 504\n",
              "1  I don't know                 668\n",
              "2           Yes                 702\n",
              "3            No                1084"
            ],
            "text/html": [
              "\n",
              "  <div id=\"df-6e696a4c-6c55-4cd9-95d4-1a3c1ef152b6\">\n",
              "    <div class=\"colab-df-container\">\n",
              "      <div>\n",
              "<style scoped>\n",
              "    .dataframe tbody tr th:only-of-type {\n",
              "        vertical-align: middle;\n",
              "    }\n",
              "\n",
              "    .dataframe tbody tr th {\n",
              "        vertical-align: top;\n",
              "    }\n",
              "\n",
              "    .dataframe thead th {\n",
              "        text-align: right;\n",
              "    }\n",
              "</style>\n",
              "<table border=\"1\" class=\"dataframe\">\n",
              "  <thead>\n",
              "    <tr style=\"text-align: right;\">\n",
              "      <th></th>\n",
              "      <th>Answer</th>\n",
              "      <th>Nr_of_participants</th>\n",
              "    </tr>\n",
              "  </thead>\n",
              "  <tbody>\n",
              "    <tr>\n",
              "      <th>0</th>\n",
              "      <td>Not provided</td>\n",
              "      <td>504</td>\n",
              "    </tr>\n",
              "    <tr>\n",
              "      <th>1</th>\n",
              "      <td>I don't know</td>\n",
              "      <td>668</td>\n",
              "    </tr>\n",
              "    <tr>\n",
              "      <th>2</th>\n",
              "      <td>Yes</td>\n",
              "      <td>702</td>\n",
              "    </tr>\n",
              "    <tr>\n",
              "      <th>3</th>\n",
              "      <td>No</td>\n",
              "      <td>1084</td>\n",
              "    </tr>\n",
              "  </tbody>\n",
              "</table>\n",
              "</div>\n",
              "      <button class=\"colab-df-convert\" onclick=\"convertToInteractive('df-6e696a4c-6c55-4cd9-95d4-1a3c1ef152b6')\"\n",
              "              title=\"Convert this dataframe to an interactive table.\"\n",
              "              style=\"display:none;\">\n",
              "        \n",
              "  <svg xmlns=\"http://www.w3.org/2000/svg\" height=\"24px\"viewBox=\"0 0 24 24\"\n",
              "       width=\"24px\">\n",
              "    <path d=\"M0 0h24v24H0V0z\" fill=\"none\"/>\n",
              "    <path d=\"M18.56 5.44l.94 2.06.94-2.06 2.06-.94-2.06-.94-.94-2.06-.94 2.06-2.06.94zm-11 1L8.5 8.5l.94-2.06 2.06-.94-2.06-.94L8.5 2.5l-.94 2.06-2.06.94zm10 10l.94 2.06.94-2.06 2.06-.94-2.06-.94-.94-2.06-.94 2.06-2.06.94z\"/><path d=\"M17.41 7.96l-1.37-1.37c-.4-.4-.92-.59-1.43-.59-.52 0-1.04.2-1.43.59L10.3 9.45l-7.72 7.72c-.78.78-.78 2.05 0 2.83L4 21.41c.39.39.9.59 1.41.59.51 0 1.02-.2 1.41-.59l7.78-7.78 2.81-2.81c.8-.78.8-2.07 0-2.86zM5.41 20L4 18.59l7.72-7.72 1.47 1.35L5.41 20z\"/>\n",
              "  </svg>\n",
              "      </button>\n",
              "      \n",
              "  <style>\n",
              "    .colab-df-container {\n",
              "      display:flex;\n",
              "      flex-wrap:wrap;\n",
              "      gap: 12px;\n",
              "    }\n",
              "\n",
              "    .colab-df-convert {\n",
              "      background-color: #E8F0FE;\n",
              "      border: none;\n",
              "      border-radius: 50%;\n",
              "      cursor: pointer;\n",
              "      display: none;\n",
              "      fill: #1967D2;\n",
              "      height: 32px;\n",
              "      padding: 0 0 0 0;\n",
              "      width: 32px;\n",
              "    }\n",
              "\n",
              "    .colab-df-convert:hover {\n",
              "      background-color: #E2EBFA;\n",
              "      box-shadow: 0px 1px 2px rgba(60, 64, 67, 0.3), 0px 1px 3px 1px rgba(60, 64, 67, 0.15);\n",
              "      fill: #174EA6;\n",
              "    }\n",
              "\n",
              "    [theme=dark] .colab-df-convert {\n",
              "      background-color: #3B4455;\n",
              "      fill: #D2E3FC;\n",
              "    }\n",
              "\n",
              "    [theme=dark] .colab-df-convert:hover {\n",
              "      background-color: #434B5C;\n",
              "      box-shadow: 0px 1px 3px 1px rgba(0, 0, 0, 0.15);\n",
              "      filter: drop-shadow(0px 1px 2px rgba(0, 0, 0, 0.3));\n",
              "      fill: #FFFFFF;\n",
              "    }\n",
              "  </style>\n",
              "\n",
              "      <script>\n",
              "        const buttonEl =\n",
              "          document.querySelector('#df-6e696a4c-6c55-4cd9-95d4-1a3c1ef152b6 button.colab-df-convert');\n",
              "        buttonEl.style.display =\n",
              "          google.colab.kernel.accessAllowed ? 'block' : 'none';\n",
              "\n",
              "        async function convertToInteractive(key) {\n",
              "          const element = document.querySelector('#df-6e696a4c-6c55-4cd9-95d4-1a3c1ef152b6');\n",
              "          const dataTable =\n",
              "            await google.colab.kernel.invokeFunction('convertToInteractive',\n",
              "                                                     [key], {});\n",
              "          if (!dataTable) return;\n",
              "\n",
              "          const docLinkHtml = 'Like what you see? Visit the ' +\n",
              "            '<a target=\"_blank\" href=https://colab.research.google.com/notebooks/data_table.ipynb>data table notebook</a>'\n",
              "            + ' to learn more about interactive tables.';\n",
              "          element.innerHTML = '';\n",
              "          dataTable['output_type'] = 'display_data';\n",
              "          await google.colab.output.renderOutput(dataTable, element);\n",
              "          const docLink = document.createElement('div');\n",
              "          docLink.innerHTML = docLinkHtml;\n",
              "          element.appendChild(docLink);\n",
              "        }\n",
              "      </script>\n",
              "    </div>\n",
              "  </div>\n",
              "  "
            ]
          },
          "metadata": {},
          "execution_count": 66
        }
      ]
    },
    {
      "cell_type": "markdown",
      "source": [
        "In majority of companies, people don't find information about how to solve mental health issues or they don't know where to look for them."
      ],
      "metadata": {
        "id": "j9nmswahCS3G"
      }
    },
    {
      "cell_type": "markdown",
      "source": [
        "###Does mental health have the same importance as physical among companies?"
      ],
      "metadata": {
        "id": "2diPuBZqCGbu"
      }
    },
    {
      "cell_type": "code",
      "source": [
        "physical_vs_mental_health_importance = pd.read_sql_query(\n",
        "    '''\n",
        "    SELECT a.UserID, a.AnswerText AS Physical, b.AnswerText AS Mental,\n",
        "      CASE WHEN a.AnswerText > b.AnswerText THEN 'TRUE' \n",
        "        WHEN a.AnswerText == b.AnswerText THEN 'EQUAL' \n",
        "        ELSE 'FALSE' END AS Physical_vs_mental\n",
        "    FROM Answer a\n",
        "    INNER JOIN Answer b ON a.UserID = b.UserID\n",
        "    WHERE a.QuestionID = 64 AND b.QuestionID = 65;\n",
        "    ''', con)"
      ],
      "metadata": {
        "id": "kkC7OAoO5KiU"
      },
      "execution_count": null,
      "outputs": []
    },
    {
      "cell_type": "code",
      "source": [
        "physical_vs_mental_health_importance['Physical_vs_mental'].value_counts()"
      ],
      "metadata": {
        "colab": {
          "base_uri": "https://localhost:8080/"
        },
        "id": "_4tjZdcP8pzk",
        "outputId": "ffdbd492-0d67-4a30-e77f-9d5998fa3493"
      },
      "execution_count": null,
      "outputs": [
        {
          "output_type": "execute_result",
          "data": {
            "text/plain": [
              "EQUAL    675\n",
              "TRUE     653\n",
              "FALSE    197\n",
              "Name: Physical_vs_mental, dtype: int64"
            ]
          },
          "metadata": {},
          "execution_count": 68
        }
      ]
    },
    {
      "cell_type": "markdown",
      "source": [
        "We would expect that mental health has the same importance as the physical health. Unfortunately, only in 40% of cases this is true. In most cases physical health is more important."
      ],
      "metadata": {
        "id": "FDzaoltmEy5_"
      }
    },
    {
      "cell_type": "markdown",
      "source": [
        "**General conclusions**\n",
        "\n",
        "Some companies treat mental health with the same importance as physical health, but it is not a common practice. There is a lack of information about mental help for employees."
      ],
      "metadata": {
        "id": "-JiJgGe6PqkZ"
      }
    },
    {
      "cell_type": "markdown",
      "source": [
        "\n",
        "\n",
        "---\n",
        "\n"
      ],
      "metadata": {
        "id": "xmDI-DBVipaT"
      }
    },
    {
      "cell_type": "markdown",
      "source": [
        "#Mental health's profile of participants"
      ],
      "metadata": {
        "id": "GQV2t30NC0_c"
      }
    },
    {
      "cell_type": "markdown",
      "source": [
        "###Family history of mental health's problem "
      ],
      "metadata": {
        "id": "KwbkLg4tIOX8"
      }
    },
    {
      "cell_type": "markdown",
      "source": [
        "Checking if respondents report family issues regarding mental health and also if the respondents themselves were looking for psychological help."
      ],
      "metadata": {
        "id": "J4KpbccFIann"
      }
    },
    {
      "cell_type": "code",
      "source": [
        "family_history = pd.read_sql_query(\n",
        "    '''\n",
        "     WITH summary AS (\n",
        "      SELECT SurveyID, Count(AnswerText) AS All_participants\n",
        "      FROM Answer\n",
        "      WHERE QuestionID = 6\n",
        "      GROUP BY SurveyID\n",
        "    )\n",
        "    SELECT a.AnswerText as Answer, \n",
        "           a.SurveyID, \n",
        "           COUNT(a.AnswerText)*100/s.All_participants AS Ratio\n",
        "    FROM Answer a\n",
        "    INNER JOIN summary s\n",
        "    ON a.SurveyID = s.SurveyID\n",
        "    WHERE QuestionID = 6\n",
        "    GROUP BY a.SurveyID, a.AnswerText;\n",
        "    ''', con)"
      ],
      "metadata": {
        "id": "zNv-NFgCCS-b"
      },
      "execution_count": null,
      "outputs": []
    },
    {
      "cell_type": "code",
      "source": [
        "mental_treatement = pd.read_sql_query(\n",
        "    '''\n",
        "     WITH summary AS (\n",
        "      SELECT SurveyID, Count(AnswerText) AS All_participants\n",
        "      FROM Answer\n",
        "      WHERE QuestionID = 7\n",
        "      GROUP BY SurveyID\n",
        "    )\n",
        "    SELECT a.AnswerText as Answer, \n",
        "           a.SurveyID, \n",
        "           COUNT(a.AnswerText)*100/s.All_participants AS Ratio\n",
        "    FROM Answer a\n",
        "    INNER JOIN summary s\n",
        "    ON a.SurveyID = s.SurveyID\n",
        "    WHERE QuestionID = 7\n",
        "    GROUP BY a.SurveyID, a.AnswerText;\n",
        "    ''', con)"
      ],
      "metadata": {
        "id": "PaALcv6wDJ09"
      },
      "execution_count": null,
      "outputs": []
    },
    {
      "cell_type": "code",
      "source": [
        "replace_values_yes_no = {'0': 'No', '1': 'Yes'}\n",
        "mental_treatement = mental_treatement.replace({\n",
        "    'Answer': replace_values_yes_no\n",
        "})"
      ],
      "metadata": {
        "id": "4-VNDKRtDSJW"
      },
      "execution_count": null,
      "outputs": []
    },
    {
      "cell_type": "code",
      "source": [
        "#@title\n",
        "fig, axes = plt.subplots(1, 2, figsize=(16,10), sharey=True)\n",
        "\n",
        "sns.barplot(ax=axes[0], x='SurveyID', y='Ratio',\n",
        "                data=family_history, hue='Answer')\n",
        "\n",
        "sns.barplot(ax=axes[1], x='SurveyID', y='Ratio',\n",
        "                data=mental_treatement, hue='Answer')\n",
        "\n",
        "axes[0].set(xlabel='', ylabel='Ratio', title='Family history')\n",
        "axes[1].set(xlabel='', ylabel='', title='Medical treatment');\n"
      ],
      "metadata": {
        "colab": {
          "base_uri": "https://localhost:8080/",
          "height": 610
        },
        "id": "Ea13lclXv-fo",
        "outputId": "a61945b7-127d-4f75-a9d0-8f4eff6feaaf"
      },
      "execution_count": null,
      "outputs": [
        {
          "output_type": "display_data",
          "data": {
            "text/plain": [
              "<Figure size 1152x720 with 2 Axes>"
            ],
            "image/png": "[encoded data removed]"
          },
          "metadata": {}
        }
      ]
    },
    {
      "cell_type": "markdown",
      "source": [
        "In 2014 about 60% of people reported that didn't have any family history regarding mental health. From 2016 there was additional option to choose - 'I don't know' so the distribution slightly differs. Nevertheless, the amount of people who have mental health issues in family history is significant. \n",
        "\n",
        "Regarding medical treatment, in every year, at least half people that took part in survey (or more) reported the fact they sought for medical treatment."
      ],
      "metadata": {
        "id": "6Cd7jdtUJMh9"
      }
    },
    {
      "cell_type": "markdown",
      "source": [
        "###People current mental state"
      ],
      "metadata": {
        "id": "BQ8wIS9ILrxX"
      }
    },
    {
      "cell_type": "code",
      "source": [
        "#@title\n",
        "mental_disorder = pd.read_sql_query(\n",
        "    '''\n",
        "    SELECT AnswerText as Answer, \n",
        "           SurveyID, \n",
        "           COUNT(AnswerText) AS Nr_of_participants\n",
        "    FROM Answer \n",
        "    WHERE QuestionID = 32 OR QuestionID = 33 OR QuestionID = 34\n",
        "    GROUP BY SurveyID, AnswerText\n",
        "    ORDER BY SurveyID;\n",
        "    ''', con)"
      ],
      "metadata": {
        "id": "Sw-tEgp9yhK_",
        "cellView": "form"
      },
      "execution_count": null,
      "outputs": []
    },
    {
      "cell_type": "code",
      "source": [
        "mental_disorder_ratio = pd.read_sql_query(\n",
        "    '''\n",
        "    WITH summary AS (\n",
        "      SELECT SurveyID, Count(AnswerText) AS All_participants\n",
        "      FROM Answer\n",
        "      WHERE QuestionID = 32 OR QuestionID = 33 OR QuestionID = 34\n",
        "      GROUP BY SurveyID\n",
        "    )\n",
        "    SELECT a.AnswerText as Answer, \n",
        "           a.SurveyID, \n",
        "           COUNT(a.AnswerText)*100/s.All_participants AS Ratio\n",
        "    FROM Answer a\n",
        "    INNER JOIN summary s\n",
        "    ON a.SurveyID = s.SurveyID\n",
        "    WHERE QuestionID = 32 OR QuestionID = 33 OR QuestionID = 34\n",
        "    GROUP BY a.SurveyID, a.AnswerText\n",
        "    ORDER BY a.SurveyID;\n",
        "    ''', con)"
      ],
      "metadata": {
        "id": "TI4i2vy1ZZgQ"
      },
      "execution_count": null,
      "outputs": []
    },
    {
      "cell_type": "code",
      "source": [
        "mental_disorder = mental_disorder.replace({\n",
        "    'Answer': replace_values_minus_one\n",
        "})"
      ],
      "metadata": {
        "id": "vjK4guP-zw_6"
      },
      "execution_count": null,
      "outputs": []
    },
    {
      "cell_type": "code",
      "source": [
        "mental_disorder_ratio = mental_disorder_ratio.replace({\n",
        "    'Answer': replace_values_minus_one\n",
        "})"
      ],
      "metadata": {
        "id": "4uz6UtmpZmLE"
      },
      "execution_count": null,
      "outputs": []
    },
    {
      "cell_type": "code",
      "source": [
        "fig, axes = plt.subplots(1, 2, figsize=(16,10))\n",
        "\n",
        "sns.barplot(ax=axes[0], x='SurveyID', y='Nr_of_participants',\n",
        "                data=mental_disorder, hue='Answer')\n",
        "\n",
        "sns.barplot(ax=axes[1], x='SurveyID', y='Ratio',\n",
        "                data=mental_disorder_ratio, hue='Answer')\n",
        "\n",
        "axes[0].set(xlabel='', ylabel='Number of participants', \n",
        "            title='Mental disorders among participants')\n",
        "axes[1].set(xlabel='', ylabel='Ratio', \n",
        "            title='Mental disorders among participants ratio');"
      ],
      "metadata": {
        "colab": {
          "base_uri": "https://localhost:8080/",
          "height": 610
        },
        "id": "iiQd8ZnqZ7lW",
        "outputId": "292db8cf-b8a5-4a92-e536-a5a52096c44b"
      },
      "execution_count": null,
      "outputs": [
        {
          "output_type": "display_data",
          "data": {
            "text/plain": [
              "<Figure size 1152x720 with 2 Axes>"
            ],
            "image/png": "[encoded data removed]"
          },
          "metadata": {}
        }
      ]
    },
    {
      "cell_type": "markdown",
      "source": [
        "The possible answer options differ across years, so to understand the general mental state among participants, I treat 'maybe' and 'possibly' equally and interpret it as the fact that respondents suggest that they may have a problem/they don't feel well. \n",
        "\n",
        "Taking that into account, the majority of people struggle with mental condition."
      ],
      "metadata": {
        "id": "EWjKG-GUMlgk"
      }
    },
    {
      "cell_type": "markdown",
      "source": [
        "###Impact of mental health issues on productivity"
      ],
      "metadata": {
        "id": "qCXeUIYrNY_4"
      }
    },
    {
      "cell_type": "code",
      "source": [
        "productivity = pd.read_sql_query(\n",
        "    '''\n",
        "    WITH summary AS (\n",
        "      SELECT SurveyID, Count(AnswerText) AS All_participants\n",
        "      FROM Answer\n",
        "      WHERE QuestionID = 54\n",
        "      GROUP BY SurveyID\n",
        "    )\n",
        "    SELECT a.AnswerText AS Answer, \n",
        "           a.SurveyID, \n",
        "           COUNT(a.AnswerText)*100/s.All_participants AS Ratio\n",
        "    FROM Answer a\n",
        "    INNER JOIN summary s\n",
        "    ON a.SurveyID = s.SurveyID\n",
        "    WHERE QuestionID = 54 \n",
        "    GROUP BY a.SurveyID, a.AnswerText\n",
        "    ORDER BY a.SurveyID;\n",
        "    ''', con)"
      ],
      "metadata": {
        "id": "GcRXqeJ5bFor"
      },
      "execution_count": null,
      "outputs": []
    },
    {
      "cell_type": "code",
      "source": [
        "productivity = productivity.replace({\n",
        "    'Answer': replace_values_minus_one\n",
        "})"
      ],
      "metadata": {
        "id": "01c1Nx-HeEwX"
      },
      "execution_count": null,
      "outputs": []
    },
    {
      "cell_type": "code",
      "source": [
        "g = sns.catplot(x='SurveyID', y='Ratio', kind='bar',\n",
        "                data=productivity, hue='Answer', \n",
        "                height=7.27, aspect=10.7/7.27)\n",
        "\n",
        "g.set_axis_labels(' ', 'Ratio', labelpad=10)\n",
        "g.legend.set_title('Influence on productivity')\n",
        "g.ax.margins(.05)"
      ],
      "metadata": {
        "colab": {
          "base_uri": "https://localhost:8080/",
          "height": 534
        },
        "id": "df1UKl7teSUB",
        "outputId": "0c4b8daa-f61f-41bc-c189-b255d78366bf"
      },
      "execution_count": null,
      "outputs": [
        {
          "output_type": "display_data",
          "data": {
            "text/plain": [
              "<Figure size 925.5x523.44 with 1 Axes>"
            ],
            "image/png": "[encoded data removed]"
          },
          "metadata": {}
        }
      ]
    },
    {
      "cell_type": "markdown",
      "source": [
        "These people who provided information about their productivity, almost all stated that their mental health causes productivity loss. "
      ],
      "metadata": {
        "id": "aHrex6KaNs-R"
      }
    },
    {
      "cell_type": "markdown",
      "source": [
        "##Types of mental health diseases"
      ],
      "metadata": {
        "id": "ZKKXYj_rSQLC"
      }
    },
    {
      "cell_type": "code",
      "source": [
        "mental_diseases = pd.read_sql_query(\n",
        "    '''\n",
        "    SELECT AnswerText as Answer, \n",
        "           SurveyID, \n",
        "           COUNT(AnswerText) AS Nr_of_participants\n",
        "    FROM Answer \n",
        "    WHERE QuestionID = 115\n",
        "    GROUP BY SurveyID, AnswerText\n",
        "    ORDER BY SurveyID;\n",
        "    ''', con)"
      ],
      "metadata": {
        "id": "GM8m_kKORkFj"
      },
      "execution_count": null,
      "outputs": []
    },
    {
      "cell_type": "code",
      "source": [
        "mental_diseases = mental_diseases.replace(\n",
        "    {'Answer': replace_values_minus_one}\n",
        ").sort_values(by='Nr_of_participants', ascending=False)\n",
        "mental_diseases.head(10)"
      ],
      "metadata": {
        "colab": {
          "base_uri": "https://localhost:8080/",
          "height": 363
        },
        "id": "PKj7vkKgRmRA",
        "outputId": "e3f00cf5-9b49-4e3a-bf71-a5bdd312c143"
      },
      "execution_count": null,
      "outputs": [
        {
          "output_type": "execute_result",
          "data": {
            "text/plain": [
              "                           Answer  SurveyID  Nr_of_participants\n",
              "0                    Not provided      2016                 865\n",
              "18  Mood Disorder (Depression,...      2016                 412\n",
              "3   Anxiety Disorder (Generali...      2016                 345\n",
              "5   Attention Deficit Hyperact...      2016                 121\n",
              "24  Post-traumatic Stress Diso...      2016                  69\n",
              "19  Obsessive-Compulsive Disorder      2016                  45\n",
              "31         Substance Use Disorder      2016                  39\n",
              "30      Stress Response Syndromes      2016                  38\n",
              "22  Personality Disorder (Bord...      2016                  35\n",
              "2              Addictive Disorder      2016                  35"
            ],
            "text/html": [
              "\n",
              "  <div id=\"df-c11b2bbe-325b-4503-b774-e850e65955b3\">\n",
              "    <div class=\"colab-df-container\">\n",
              "      <div>\n",
              "<style scoped>\n",
              "    .dataframe tbody tr th:only-of-type {\n",
              "        vertical-align: middle;\n",
              "    }\n",
              "\n",
              "    .dataframe tbody tr th {\n",
              "        vertical-align: top;\n",
              "    }\n",
              "\n",
              "    .dataframe thead th {\n",
              "        text-align: right;\n",
              "    }\n",
              "</style>\n",
              "<table border=\"1\" class=\"dataframe\">\n",
              "  <thead>\n",
              "    <tr style=\"text-align: right;\">\n",
              "      <th></th>\n",
              "      <th>Answer</th>\n",
              "      <th>SurveyID</th>\n",
              "      <th>Nr_of_participants</th>\n",
              "    </tr>\n",
              "  </thead>\n",
              "  <tbody>\n",
              "    <tr>\n",
              "      <th>0</th>\n",
              "      <td>Not provided</td>\n",
              "      <td>2016</td>\n",
              "      <td>865</td>\n",
              "    </tr>\n",
              "    <tr>\n",
              "      <th>18</th>\n",
              "      <td>Mood Disorder (Depression,...</td>\n",
              "      <td>2016</td>\n",
              "      <td>412</td>\n",
              "    </tr>\n",
              "    <tr>\n",
              "      <th>3</th>\n",
              "      <td>Anxiety Disorder (Generali...</td>\n",
              "      <td>2016</td>\n",
              "      <td>345</td>\n",
              "    </tr>\n",
              "    <tr>\n",
              "      <th>5</th>\n",
              "      <td>Attention Deficit Hyperact...</td>\n",
              "      <td>2016</td>\n",
              "      <td>121</td>\n",
              "    </tr>\n",
              "    <tr>\n",
              "      <th>24</th>\n",
              "      <td>Post-traumatic Stress Diso...</td>\n",
              "      <td>2016</td>\n",
              "      <td>69</td>\n",
              "    </tr>\n",
              "    <tr>\n",
              "      <th>19</th>\n",
              "      <td>Obsessive-Compulsive Disorder</td>\n",
              "      <td>2016</td>\n",
              "      <td>45</td>\n",
              "    </tr>\n",
              "    <tr>\n",
              "      <th>31</th>\n",
              "      <td>Substance Use Disorder</td>\n",
              "      <td>2016</td>\n",
              "      <td>39</td>\n",
              "    </tr>\n",
              "    <tr>\n",
              "      <th>30</th>\n",
              "      <td>Stress Response Syndromes</td>\n",
              "      <td>2016</td>\n",
              "      <td>38</td>\n",
              "    </tr>\n",
              "    <tr>\n",
              "      <th>22</th>\n",
              "      <td>Personality Disorder (Bord...</td>\n",
              "      <td>2016</td>\n",
              "      <td>35</td>\n",
              "    </tr>\n",
              "    <tr>\n",
              "      <th>2</th>\n",
              "      <td>Addictive Disorder</td>\n",
              "      <td>2016</td>\n",
              "      <td>35</td>\n",
              "    </tr>\n",
              "  </tbody>\n",
              "</table>\n",
              "</div>\n",
              "      <button class=\"colab-df-convert\" onclick=\"convertToInteractive('df-c11b2bbe-325b-4503-b774-e850e65955b3')\"\n",
              "              title=\"Convert this dataframe to an interactive table.\"\n",
              "              style=\"display:none;\">\n",
              "        \n",
              "  <svg xmlns=\"http://www.w3.org/2000/svg\" height=\"24px\"viewBox=\"0 0 24 24\"\n",
              "       width=\"24px\">\n",
              "    <path d=\"M0 0h24v24H0V0z\" fill=\"none\"/>\n",
              "    <path d=\"M18.56 5.44l.94 2.06.94-2.06 2.06-.94-2.06-.94-.94-2.06-.94 2.06-2.06.94zm-11 1L8.5 8.5l.94-2.06 2.06-.94-2.06-.94L8.5 2.5l-.94 2.06-2.06.94zm10 10l.94 2.06.94-2.06 2.06-.94-2.06-.94-.94-2.06-.94 2.06-2.06.94z\"/><path d=\"M17.41 7.96l-1.37-1.37c-.4-.4-.92-.59-1.43-.59-.52 0-1.04.2-1.43.59L10.3 9.45l-7.72 7.72c-.78.78-.78 2.05 0 2.83L4 21.41c.39.39.9.59 1.41.59.51 0 1.02-.2 1.41-.59l7.78-7.78 2.81-2.81c.8-.78.8-2.07 0-2.86zM5.41 20L4 18.59l7.72-7.72 1.47 1.35L5.41 20z\"/>\n",
              "  </svg>\n",
              "      </button>\n",
              "      \n",
              "  <style>\n",
              "    .colab-df-container {\n",
              "      display:flex;\n",
              "      flex-wrap:wrap;\n",
              "      gap: 12px;\n",
              "    }\n",
              "\n",
              "    .colab-df-convert {\n",
              "      background-color: #E8F0FE;\n",
              "      border: none;\n",
              "      border-radius: 50%;\n",
              "      cursor: pointer;\n",
              "      display: none;\n",
              "      fill: #1967D2;\n",
              "      height: 32px;\n",
              "      padding: 0 0 0 0;\n",
              "      width: 32px;\n",
              "    }\n",
              "\n",
              "    .colab-df-convert:hover {\n",
              "      background-color: #E2EBFA;\n",
              "      box-shadow: 0px 1px 2px rgba(60, 64, 67, 0.3), 0px 1px 3px 1px rgba(60, 64, 67, 0.15);\n",
              "      fill: #174EA6;\n",
              "    }\n",
              "\n",
              "    [theme=dark] .colab-df-convert {\n",
              "      background-color: #3B4455;\n",
              "      fill: #D2E3FC;\n",
              "    }\n",
              "\n",
              "    [theme=dark] .colab-df-convert:hover {\n",
              "      background-color: #434B5C;\n",
              "      box-shadow: 0px 1px 3px 1px rgba(0, 0, 0, 0.15);\n",
              "      filter: drop-shadow(0px 1px 2px rgba(0, 0, 0, 0.3));\n",
              "      fill: #FFFFFF;\n",
              "    }\n",
              "  </style>\n",
              "\n",
              "      <script>\n",
              "        const buttonEl =\n",
              "          document.querySelector('#df-c11b2bbe-325b-4503-b774-e850e65955b3 button.colab-df-convert');\n",
              "        buttonEl.style.display =\n",
              "          google.colab.kernel.accessAllowed ? 'block' : 'none';\n",
              "\n",
              "        async function convertToInteractive(key) {\n",
              "          const element = document.querySelector('#df-c11b2bbe-325b-4503-b774-e850e65955b3');\n",
              "          const dataTable =\n",
              "            await google.colab.kernel.invokeFunction('convertToInteractive',\n",
              "                                                     [key], {});\n",
              "          if (!dataTable) return;\n",
              "\n",
              "          const docLinkHtml = 'Like what you see? Visit the ' +\n",
              "            '<a target=\"_blank\" href=https://colab.research.google.com/notebooks/data_table.ipynb>data table notebook</a>'\n",
              "            + ' to learn more about interactive tables.';\n",
              "          element.innerHTML = '';\n",
              "          dataTable['output_type'] = 'display_data';\n",
              "          await google.colab.output.renderOutput(dataTable, element);\n",
              "          const docLink = document.createElement('div');\n",
              "          docLink.innerHTML = docLinkHtml;\n",
              "          element.appendChild(docLink);\n",
              "        }\n",
              "      </script>\n",
              "    </div>\n",
              "  </div>\n",
              "  "
            ]
          },
          "metadata": {},
          "execution_count": 82
        }
      ]
    },
    {
      "cell_type": "markdown",
      "source": [
        "In 2016 there was a question that checked what kind of diseases people suffer from. The most common are mood and anxiety disorders, attention deficit and PTSD."
      ],
      "metadata": {
        "id": "7UPgL5_6QnKC"
      }
    },
    {
      "cell_type": "markdown",
      "source": [
        "**General conclusions**\n",
        "\n",
        "A majority of people struggle with some mental health issues, reported looking for professional help and also mentioned that it influences their productivity at work."
      ],
      "metadata": {
        "id": "QF1QoN57OFGu"
      }
    },
    {
      "cell_type": "markdown",
      "source": [
        "#Checking the impact of the age, the gender and the size of the company on the mental health issues."
      ],
      "metadata": {
        "id": "CieLQDrYWrzq"
      }
    },
    {
      "cell_type": "markdown",
      "source": [
        "How many people in a specific age group have some mental issues?"
      ],
      "metadata": {
        "id": "4cQqLKlhW66d"
      }
    },
    {
      "cell_type": "code",
      "source": [
        "mental_disorders_age = pd.read_sql_query(\n",
        "    '''\n",
        "    WITH Age AS (\n",
        "        SELECT UserID, CAST(AnswerText AS int) As Age\n",
        "        FROM Answer\n",
        "        WHERE QuestionID = 1\n",
        "        ORDER BY 2\n",
        "        ),\n",
        "        AgeGroup AS (\n",
        "        SELECT UserID, \n",
        "           (CASE\n",
        "              WHEN Age <= 20 THEN '12-20s'\n",
        "              WHEN Age > 21 AND Age <= 30 THEN '20s'\n",
        "              WHEN Age > 31 AND Age <= 40 THEN '30s'\n",
        "              WHEN Age > 41 AND Age <= 50 THEN '40s'\n",
        "              WHEN Age > 51 AND Age <= 60 THEN '50s'\n",
        "              ELSE '60s+' \n",
        "            END) AS AgeGroup\n",
        "      FROM Age \n",
        "      ), \n",
        "      MentalCondition AS (\n",
        "        SELECT UserID,\n",
        "               'Had in Past' AS Status,\n",
        "               (CASE\n",
        "                  WHEN AnswerText = 'Yes' THEN 1\n",
        "                  ELSE 0\n",
        "               END) AS Answer\n",
        "        FROM Answer\n",
        "        WHERE QuestionID = 32\n",
        "        UNION ALL\n",
        "        SELECT UserID,\n",
        "                \"Currently Have\" AS Status, \n",
        "                (CASE\n",
        "                    WHEN AnswerText = 'Yes' THEN 1\n",
        "                    ELSE 0\n",
        "                END) AS Answer\n",
        "        FROM Answer\n",
        "        WHERE QuestionID = 33\n",
        "        UNION ALL\n",
        "        SELECT UserID,\n",
        "                \"Been Diagnosed\" AS Status, \n",
        "                (CASE\n",
        "                    WHEN AnswerText = 'Yes' THEN 1\n",
        "                    ELSE 0\n",
        "                    END) AS Answer\n",
        "            FROM Answer\n",
        "            WHERE QuestionID = 34\n",
        "        )        \n",
        "        SELECT *\n",
        "        FROM\n",
        "            (SELECT AgeGroup, COUNT(y.UserID) AS YES\n",
        "            FROM AgeGroup\n",
        "            JOIN\n",
        "                (SELECT UserID\n",
        "                FROM MentalCondition\n",
        "                GROUP BY UserID\n",
        "                HAVING SUM(Answer) > 0) AS y USING(UserID)\n",
        "             GROUP BY 1) Yes\n",
        "        JOIN\n",
        "            (SELECT AgeGroup, COUNT(n.UserID) AS NO\n",
        "            FROM AgeGroup\n",
        "            JOIN\n",
        "                (SELECT UserID\n",
        "                FROM MentalCondition\n",
        "                GROUP BY UserID\n",
        "                HAVING SUM(Answer) = 0) AS n USING(UserID)\n",
        "             GROUP BY 1) No\n",
        "        USING(AgeGroup)\n",
        "      ''', con)\n",
        "  "
      ],
      "metadata": {
        "id": "93svSRc5c5Aq"
      },
      "execution_count": null,
      "outputs": []
    },
    {
      "cell_type": "code",
      "source": [
        " mental_disorders_age"
      ],
      "metadata": {
        "colab": {
          "base_uri": "https://localhost:8080/",
          "height": 237
        },
        "id": "fvvBV4PNhYWO",
        "outputId": "63e3ffa1-9473-42b9-e1c7-95abfc63698e"
      },
      "execution_count": null,
      "outputs": [
        {
          "output_type": "execute_result",
          "data": {
            "text/plain": [
              "  AgeGroup  YES   NO\n",
              "0   12-20s   13   17\n",
              "1      20s  555  450\n",
              "2      30s  628  496\n",
              "3      40s  236  178\n",
              "4      50s   53   44\n",
              "5     60s+  163  125"
            ],
            "text/html": [
              "\n",
              "  <div id=\"df-d9213412-877d-484b-bbe8-e4208d7e4360\">\n",
              "    <div class=\"colab-df-container\">\n",
              "      <div>\n",
              "<style scoped>\n",
              "    .dataframe tbody tr th:only-of-type {\n",
              "        vertical-align: middle;\n",
              "    }\n",
              "\n",
              "    .dataframe tbody tr th {\n",
              "        vertical-align: top;\n",
              "    }\n",
              "\n",
              "    .dataframe thead th {\n",
              "        text-align: right;\n",
              "    }\n",
              "</style>\n",
              "<table border=\"1\" class=\"dataframe\">\n",
              "  <thead>\n",
              "    <tr style=\"text-align: right;\">\n",
              "      <th></th>\n",
              "      <th>AgeGroup</th>\n",
              "      <th>YES</th>\n",
              "      <th>NO</th>\n",
              "    </tr>\n",
              "  </thead>\n",
              "  <tbody>\n",
              "    <tr>\n",
              "      <th>0</th>\n",
              "      <td>12-20s</td>\n",
              "      <td>13</td>\n",
              "      <td>17</td>\n",
              "    </tr>\n",
              "    <tr>\n",
              "      <th>1</th>\n",
              "      <td>20s</td>\n",
              "      <td>555</td>\n",
              "      <td>450</td>\n",
              "    </tr>\n",
              "    <tr>\n",
              "      <th>2</th>\n",
              "      <td>30s</td>\n",
              "      <td>628</td>\n",
              "      <td>496</td>\n",
              "    </tr>\n",
              "    <tr>\n",
              "      <th>3</th>\n",
              "      <td>40s</td>\n",
              "      <td>236</td>\n",
              "      <td>178</td>\n",
              "    </tr>\n",
              "    <tr>\n",
              "      <th>4</th>\n",
              "      <td>50s</td>\n",
              "      <td>53</td>\n",
              "      <td>44</td>\n",
              "    </tr>\n",
              "    <tr>\n",
              "      <th>5</th>\n",
              "      <td>60s+</td>\n",
              "      <td>163</td>\n",
              "      <td>125</td>\n",
              "    </tr>\n",
              "  </tbody>\n",
              "</table>\n",
              "</div>\n",
              "      <button class=\"colab-df-convert\" onclick=\"convertToInteractive('df-d9213412-877d-484b-bbe8-e4208d7e4360')\"\n",
              "              title=\"Convert this dataframe to an interactive table.\"\n",
              "              style=\"display:none;\">\n",
              "        \n",
              "  <svg xmlns=\"http://www.w3.org/2000/svg\" height=\"24px\"viewBox=\"0 0 24 24\"\n",
              "       width=\"24px\">\n",
              "    <path d=\"M0 0h24v24H0V0z\" fill=\"none\"/>\n",
              "    <path d=\"M18.56 5.44l.94 2.06.94-2.06 2.06-.94-2.06-.94-.94-2.06-.94 2.06-2.06.94zm-11 1L8.5 8.5l.94-2.06 2.06-.94-2.06-.94L8.5 2.5l-.94 2.06-2.06.94zm10 10l.94 2.06.94-2.06 2.06-.94-2.06-.94-.94-2.06-.94 2.06-2.06.94z\"/><path d=\"M17.41 7.96l-1.37-1.37c-.4-.4-.92-.59-1.43-.59-.52 0-1.04.2-1.43.59L10.3 9.45l-7.72 7.72c-.78.78-.78 2.05 0 2.83L4 21.41c.39.39.9.59 1.41.59.51 0 1.02-.2 1.41-.59l7.78-7.78 2.81-2.81c.8-.78.8-2.07 0-2.86zM5.41 20L4 18.59l7.72-7.72 1.47 1.35L5.41 20z\"/>\n",
              "  </svg>\n",
              "      </button>\n",
              "      \n",
              "  <style>\n",
              "    .colab-df-container {\n",
              "      display:flex;\n",
              "      flex-wrap:wrap;\n",
              "      gap: 12px;\n",
              "    }\n",
              "\n",
              "    .colab-df-convert {\n",
              "      background-color: #E8F0FE;\n",
              "      border: none;\n",
              "      border-radius: 50%;\n",
              "      cursor: pointer;\n",
              "      display: none;\n",
              "      fill: #1967D2;\n",
              "      height: 32px;\n",
              "      padding: 0 0 0 0;\n",
              "      width: 32px;\n",
              "    }\n",
              "\n",
              "    .colab-df-convert:hover {\n",
              "      background-color: #E2EBFA;\n",
              "      box-shadow: 0px 1px 2px rgba(60, 64, 67, 0.3), 0px 1px 3px 1px rgba(60, 64, 67, 0.15);\n",
              "      fill: #174EA6;\n",
              "    }\n",
              "\n",
              "    [theme=dark] .colab-df-convert {\n",
              "      background-color: #3B4455;\n",
              "      fill: #D2E3FC;\n",
              "    }\n",
              "\n",
              "    [theme=dark] .colab-df-convert:hover {\n",
              "      background-color: #434B5C;\n",
              "      box-shadow: 0px 1px 3px 1px rgba(0, 0, 0, 0.15);\n",
              "      filter: drop-shadow(0px 1px 2px rgba(0, 0, 0, 0.3));\n",
              "      fill: #FFFFFF;\n",
              "    }\n",
              "  </style>\n",
              "\n",
              "      <script>\n",
              "        const buttonEl =\n",
              "          document.querySelector('#df-d9213412-877d-484b-bbe8-e4208d7e4360 button.colab-df-convert');\n",
              "        buttonEl.style.display =\n",
              "          google.colab.kernel.accessAllowed ? 'block' : 'none';\n",
              "\n",
              "        async function convertToInteractive(key) {\n",
              "          const element = document.querySelector('#df-d9213412-877d-484b-bbe8-e4208d7e4360');\n",
              "          const dataTable =\n",
              "            await google.colab.kernel.invokeFunction('convertToInteractive',\n",
              "                                                     [key], {});\n",
              "          if (!dataTable) return;\n",
              "\n",
              "          const docLinkHtml = 'Like what you see? Visit the ' +\n",
              "            '<a target=\"_blank\" href=https://colab.research.google.com/notebooks/data_table.ipynb>data table notebook</a>'\n",
              "            + ' to learn more about interactive tables.';\n",
              "          element.innerHTML = '';\n",
              "          dataTable['output_type'] = 'display_data';\n",
              "          await google.colab.output.renderOutput(dataTable, element);\n",
              "          const docLink = document.createElement('div');\n",
              "          docLink.innerHTML = docLinkHtml;\n",
              "          element.appendChild(docLink);\n",
              "        }\n",
              "      </script>\n",
              "    </div>\n",
              "  </div>\n",
              "  "
            ]
          },
          "metadata": {},
          "execution_count": 84
        }
      ]
    },
    {
      "cell_type": "code",
      "source": [
        "mental_disorders_age.plot(x='AgeGroup', y=['YES', 'NO'], kind='bar',\n",
        "                          title='Presence of mental health disorder', \n",
        "                          xlabel='', ylabel='Number of respondents', \n",
        "                          figsize=(12,8), rot=45);"
      ],
      "metadata": {
        "colab": {
          "base_uri": "https://localhost:8080/",
          "height": 525
        },
        "id": "DLKR5qQ2aiUg",
        "outputId": "0991480c-383b-41e9-dcdc-3fc3fcf2c149"
      },
      "execution_count": null,
      "outputs": [
        {
          "output_type": "display_data",
          "data": {
            "text/plain": [
              "<Figure size 864x576 with 1 Axes>"
            ],
            "image/png": "[encoded data removed]"
          },
          "metadata": {}
        }
      ]
    },
    {
      "cell_type": "code",
      "source": [
        "#@title\n",
        "mental_disorders_gender = pd.read_sql_query(\n",
        "    '''\n",
        "    WITH Gender AS (\n",
        "        SELECT UserID, \n",
        "           (CASE\n",
        "            WHEN UPPER(AnswerText) LIKE '%FEM%' THEN 'Female'\n",
        "            WHEN UPPER(AnswerText) LIKE '%WOMAN%' THEN 'Female'\n",
        "            WHEN UPPER(AnswerText) LIKE '%MALE%' THEN 'Male'\n",
        "            WHEN UPPER(AnswerText) LIKE '%MASCUL%' THEN 'Male'\n",
        "            ELSE 'Other' \n",
        "            END) AS GenderType\n",
        "      FROM Answer\n",
        "      WHERE QuestionID = 2\n",
        "      ORDER BY 2 \n",
        "      ), \n",
        "      MentalCondition AS (\n",
        "        SELECT UserID,\n",
        "               'Had in Past' AS Status,\n",
        "               (CASE\n",
        "                  WHEN AnswerText = 'Yes' THEN 1\n",
        "                  ELSE 0\n",
        "               END) AS Answer\n",
        "        FROM Answer\n",
        "        WHERE QuestionID = 32\n",
        "        UNION ALL\n",
        "        SELECT UserID,\n",
        "                \"Currently Have\" AS Status, \n",
        "                (CASE\n",
        "                    WHEN AnswerText = 'Yes' THEN 1\n",
        "                    ELSE 0\n",
        "                END) AS Answer\n",
        "        FROM Answer\n",
        "        WHERE QuestionID = 33\n",
        "        UNION ALL\n",
        "        SELECT UserID,\n",
        "                \"Been Diagnosed\" AS Status, \n",
        "                (CASE\n",
        "                    WHEN AnswerText = 'Yes' THEN 1\n",
        "                    ELSE 0\n",
        "                    END) AS Answer\n",
        "            FROM Answer\n",
        "            WHERE QuestionID = 34\n",
        "        )        \n",
        "        SELECT *\n",
        "        FROM\n",
        "            (SELECT GenderType, COUNT(y.UserID) AS YES\n",
        "            FROM Gender\n",
        "            JOIN\n",
        "                (SELECT UserID\n",
        "                FROM MentalCondition\n",
        "                GROUP BY UserID\n",
        "                HAVING SUM(Answer) > 0) AS y USING(UserID)\n",
        "             GROUP BY 1) Yes\n",
        "        JOIN\n",
        "            (SELECT GenderType, COUNT(n.UserID) AS NO\n",
        "            FROM Gender\n",
        "            JOIN\n",
        "                (SELECT UserID\n",
        "                FROM MentalCondition\n",
        "                GROUP BY UserID\n",
        "                HAVING SUM(Answer) = 0) AS n USING(UserID)\n",
        "             GROUP BY 1) No\n",
        "        USING(GenderType)\n",
        "      ''', con)"
      ],
      "metadata": {
        "id": "SI3tP0nyIlLO",
        "cellView": "form"
      },
      "execution_count": null,
      "outputs": []
    },
    {
      "cell_type": "code",
      "source": [
        "mental_disorders_gender"
      ],
      "metadata": {
        "colab": {
          "base_uri": "https://localhost:8080/",
          "height": 143
        },
        "id": "PLim6PEBJNu4",
        "outputId": "8080c1c2-b3c0-4399-9a7b-ed8b594efd19"
      },
      "execution_count": null,
      "outputs": [
        {
          "output_type": "execute_result",
          "data": {
            "text/plain": [
              "  GenderType   YES    NO\n",
              "0     Female   541   258\n",
              "1       Male  1037  1024\n",
              "2      Other    70    28"
            ],
            "text/html": [
              "\n",
              "  <div id=\"df-15c8eaac-7d4b-44f5-bd4f-b0e6c4a47c0f\">\n",
              "    <div class=\"colab-df-container\">\n",
              "      <div>\n",
              "<style scoped>\n",
              "    .dataframe tbody tr th:only-of-type {\n",
              "        vertical-align: middle;\n",
              "    }\n",
              "\n",
              "    .dataframe tbody tr th {\n",
              "        vertical-align: top;\n",
              "    }\n",
              "\n",
              "    .dataframe thead th {\n",
              "        text-align: right;\n",
              "    }\n",
              "</style>\n",
              "<table border=\"1\" class=\"dataframe\">\n",
              "  <thead>\n",
              "    <tr style=\"text-align: right;\">\n",
              "      <th></th>\n",
              "      <th>GenderType</th>\n",
              "      <th>YES</th>\n",
              "      <th>NO</th>\n",
              "    </tr>\n",
              "  </thead>\n",
              "  <tbody>\n",
              "    <tr>\n",
              "      <th>0</th>\n",
              "      <td>Female</td>\n",
              "      <td>541</td>\n",
              "      <td>258</td>\n",
              "    </tr>\n",
              "    <tr>\n",
              "      <th>1</th>\n",
              "      <td>Male</td>\n",
              "      <td>1037</td>\n",
              "      <td>1024</td>\n",
              "    </tr>\n",
              "    <tr>\n",
              "      <th>2</th>\n",
              "      <td>Other</td>\n",
              "      <td>70</td>\n",
              "      <td>28</td>\n",
              "    </tr>\n",
              "  </tbody>\n",
              "</table>\n",
              "</div>\n",
              "      <button class=\"colab-df-convert\" onclick=\"convertToInteractive('df-15c8eaac-7d4b-44f5-bd4f-b0e6c4a47c0f')\"\n",
              "              title=\"Convert this dataframe to an interactive table.\"\n",
              "              style=\"display:none;\">\n",
              "        \n",
              "  <svg xmlns=\"http://www.w3.org/2000/svg\" height=\"24px\"viewBox=\"0 0 24 24\"\n",
              "       width=\"24px\">\n",
              "    <path d=\"M0 0h24v24H0V0z\" fill=\"none\"/>\n",
              "    <path d=\"M18.56 5.44l.94 2.06.94-2.06 2.06-.94-2.06-.94-.94-2.06-.94 2.06-2.06.94zm-11 1L8.5 8.5l.94-2.06 2.06-.94-2.06-.94L8.5 2.5l-.94 2.06-2.06.94zm10 10l.94 2.06.94-2.06 2.06-.94-2.06-.94-.94-2.06-.94 2.06-2.06.94z\"/><path d=\"M17.41 7.96l-1.37-1.37c-.4-.4-.92-.59-1.43-.59-.52 0-1.04.2-1.43.59L10.3 9.45l-7.72 7.72c-.78.78-.78 2.05 0 2.83L4 21.41c.39.39.9.59 1.41.59.51 0 1.02-.2 1.41-.59l7.78-7.78 2.81-2.81c.8-.78.8-2.07 0-2.86zM5.41 20L4 18.59l7.72-7.72 1.47 1.35L5.41 20z\"/>\n",
              "  </svg>\n",
              "      </button>\n",
              "      \n",
              "  <style>\n",
              "    .colab-df-container {\n",
              "      display:flex;\n",
              "      flex-wrap:wrap;\n",
              "      gap: 12px;\n",
              "    }\n",
              "\n",
              "    .colab-df-convert {\n",
              "      background-color: #E8F0FE;\n",
              "      border: none;\n",
              "      border-radius: 50%;\n",
              "      cursor: pointer;\n",
              "      display: none;\n",
              "      fill: #1967D2;\n",
              "      height: 32px;\n",
              "      padding: 0 0 0 0;\n",
              "      width: 32px;\n",
              "    }\n",
              "\n",
              "    .colab-df-convert:hover {\n",
              "      background-color: #E2EBFA;\n",
              "      box-shadow: 0px 1px 2px rgba(60, 64, 67, 0.3), 0px 1px 3px 1px rgba(60, 64, 67, 0.15);\n",
              "      fill: #174EA6;\n",
              "    }\n",
              "\n",
              "    [theme=dark] .colab-df-convert {\n",
              "      background-color: #3B4455;\n",
              "      fill: #D2E3FC;\n",
              "    }\n",
              "\n",
              "    [theme=dark] .colab-df-convert:hover {\n",
              "      background-color: #434B5C;\n",
              "      box-shadow: 0px 1px 3px 1px rgba(0, 0, 0, 0.15);\n",
              "      filter: drop-shadow(0px 1px 2px rgba(0, 0, 0, 0.3));\n",
              "      fill: #FFFFFF;\n",
              "    }\n",
              "  </style>\n",
              "\n",
              "      <script>\n",
              "        const buttonEl =\n",
              "          document.querySelector('#df-15c8eaac-7d4b-44f5-bd4f-b0e6c4a47c0f button.colab-df-convert');\n",
              "        buttonEl.style.display =\n",
              "          google.colab.kernel.accessAllowed ? 'block' : 'none';\n",
              "\n",
              "        async function convertToInteractive(key) {\n",
              "          const element = document.querySelector('#df-15c8eaac-7d4b-44f5-bd4f-b0e6c4a47c0f');\n",
              "          const dataTable =\n",
              "            await google.colab.kernel.invokeFunction('convertToInteractive',\n",
              "                                                     [key], {});\n",
              "          if (!dataTable) return;\n",
              "\n",
              "          const docLinkHtml = 'Like what you see? Visit the ' +\n",
              "            '<a target=\"_blank\" href=https://colab.research.google.com/notebooks/data_table.ipynb>data table notebook</a>'\n",
              "            + ' to learn more about interactive tables.';\n",
              "          element.innerHTML = '';\n",
              "          dataTable['output_type'] = 'display_data';\n",
              "          await google.colab.output.renderOutput(dataTable, element);\n",
              "          const docLink = document.createElement('div');\n",
              "          docLink.innerHTML = docLinkHtml;\n",
              "          element.appendChild(docLink);\n",
              "        }\n",
              "      </script>\n",
              "    </div>\n",
              "  </div>\n",
              "  "
            ]
          },
          "metadata": {},
          "execution_count": 87
        }
      ]
    },
    {
      "cell_type": "code",
      "source": [
        "mental_disorders_gender.plot(x='GenderType', y=['YES', 'NO'], kind='bar',\n",
        "                          title='Presence of mental health disorder by gender', \n",
        "                          xlabel='', ylabel='Number of respondents', \n",
        "                          figsize=(12,8), rot=45);"
      ],
      "metadata": {
        "colab": {
          "base_uri": "https://localhost:8080/",
          "height": 527
        },
        "id": "6rmGygimJcjZ",
        "outputId": "e985df32-dc54-4f2a-ff26-6fa0183c7f02"
      },
      "execution_count": null,
      "outputs": [
        {
          "output_type": "display_data",
          "data": {
            "text/plain": [
              "<Figure size 864x576 with 1 Axes>"
            ],
            "image/png": "[encoded data removed]"
          },
          "metadata": {}
        }
      ]
    },
    {
      "cell_type": "code",
      "source": [
        "#@title\n",
        "mental_disorders_size = pd.read_sql_query(\n",
        "    '''\n",
        "    WITH Size AS (\n",
        "        SELECT UserID,\n",
        "        (CASE\n",
        "            WHEN AnswerText LIKE '-1' THEN 'Not provided'\n",
        "            WHEN AnswerText LIKE '1-5'  THEN 'A 1-5'\n",
        "            WHEN AnswerText LIKE '6-25'  THEN 'B 6-25'\n",
        "            WHEN AnswerText LIKE '25-100'  THEN 'C 25-100'\n",
        "            WHEN AnswerText LIKE '100-500'  THEN 'D 100-500'\n",
        "            WHEN AnswerText LIKE '500-1000'  THEN 'E 500-1000'\n",
        "            ELSE 'F 1000+' \n",
        "            END) AS SizeType\n",
        "        FROM Answer\n",
        "        WHERE QuestionID = 8\n",
        "        ORDER BY 2\n",
        "      ), \n",
        "      MentalCondition AS (\n",
        "        SELECT UserID,\n",
        "               'Had in Past' AS Status,\n",
        "               (CASE\n",
        "                  WHEN AnswerText = 'Yes' THEN 1\n",
        "                  ELSE 0\n",
        "               END) AS Answer\n",
        "        FROM Answer\n",
        "        WHERE QuestionID = 32\n",
        "        UNION ALL\n",
        "        SELECT UserID,\n",
        "                \"Currently Have\" AS Status, \n",
        "                (CASE\n",
        "                    WHEN AnswerText = 'Yes' THEN 1\n",
        "                    ELSE 0\n",
        "                END) AS Answer\n",
        "        FROM Answer\n",
        "        WHERE QuestionID = 33\n",
        "        UNION ALL\n",
        "        SELECT UserID,\n",
        "                \"Been Diagnosed\" AS Status, \n",
        "                (CASE\n",
        "                    WHEN AnswerText = 'Yes' THEN 1\n",
        "                    ELSE 0\n",
        "                    END) AS Answer\n",
        "            FROM Answer\n",
        "            WHERE QuestionID = 34\n",
        "        )        \n",
        "        SELECT *\n",
        "        FROM\n",
        "            (SELECT SizeType, COUNT(y.UserID) AS YES\n",
        "            FROM Size\n",
        "            JOIN\n",
        "                (SELECT UserID\n",
        "                FROM MentalCondition\n",
        "                GROUP BY UserID\n",
        "                HAVING SUM(Answer) > 0) AS y USING(UserID)\n",
        "             GROUP BY 1) Yes\n",
        "        JOIN\n",
        "            (SELECT SizeType, COUNT(n.UserID) AS NO\n",
        "            FROM Size\n",
        "            JOIN\n",
        "                (SELECT UserID\n",
        "                FROM MentalCondition\n",
        "                GROUP BY UserID\n",
        "                HAVING SUM(Answer) = 0) AS n USING(UserID)\n",
        "             GROUP BY 1) No\n",
        "        USING(SizeType)\n",
        "      ''', con)\n",
        "  "
      ],
      "metadata": {
        "id": "ZyQL6b0xLQ3H",
        "cellView": "form"
      },
      "execution_count": null,
      "outputs": []
    },
    {
      "cell_type": "code",
      "source": [
        "mental_disorders_size"
      ],
      "metadata": {
        "colab": {
          "base_uri": "https://localhost:8080/",
          "height": 237
        },
        "id": "I_Jqg06HLxqp",
        "outputId": "79590515-d3f2-4897-f879-250b78035a66"
      },
      "execution_count": null,
      "outputs": [
        {
          "output_type": "execute_result",
          "data": {
            "text/plain": [
              "       SizeType  YES   NO\n",
              "0         A 1-5   46   46\n",
              "1        B 6-25  203  196\n",
              "2     D 100-500  354  258\n",
              "3    E 500-1000   99   87\n",
              "4       F 1000+  660  505\n",
              "5  Not provided  286  218"
            ],
            "text/html": [
              "\n",
              "  <div id=\"df-64cff81c-a749-44d6-b1dc-11c241ddd3cd\">\n",
              "    <div class=\"colab-df-container\">\n",
              "      <div>\n",
              "<style scoped>\n",
              "    .dataframe tbody tr th:only-of-type {\n",
              "        vertical-align: middle;\n",
              "    }\n",
              "\n",
              "    .dataframe tbody tr th {\n",
              "        vertical-align: top;\n",
              "    }\n",
              "\n",
              "    .dataframe thead th {\n",
              "        text-align: right;\n",
              "    }\n",
              "</style>\n",
              "<table border=\"1\" class=\"dataframe\">\n",
              "  <thead>\n",
              "    <tr style=\"text-align: right;\">\n",
              "      <th></th>\n",
              "      <th>SizeType</th>\n",
              "      <th>YES</th>\n",
              "      <th>NO</th>\n",
              "    </tr>\n",
              "  </thead>\n",
              "  <tbody>\n",
              "    <tr>\n",
              "      <th>0</th>\n",
              "      <td>A 1-5</td>\n",
              "      <td>46</td>\n",
              "      <td>46</td>\n",
              "    </tr>\n",
              "    <tr>\n",
              "      <th>1</th>\n",
              "      <td>B 6-25</td>\n",
              "      <td>203</td>\n",
              "      <td>196</td>\n",
              "    </tr>\n",
              "    <tr>\n",
              "      <th>2</th>\n",
              "      <td>D 100-500</td>\n",
              "      <td>354</td>\n",
              "      <td>258</td>\n",
              "    </tr>\n",
              "    <tr>\n",
              "      <th>3</th>\n",
              "      <td>E 500-1000</td>\n",
              "      <td>99</td>\n",
              "      <td>87</td>\n",
              "    </tr>\n",
              "    <tr>\n",
              "      <th>4</th>\n",
              "      <td>F 1000+</td>\n",
              "      <td>660</td>\n",
              "      <td>505</td>\n",
              "    </tr>\n",
              "    <tr>\n",
              "      <th>5</th>\n",
              "      <td>Not provided</td>\n",
              "      <td>286</td>\n",
              "      <td>218</td>\n",
              "    </tr>\n",
              "  </tbody>\n",
              "</table>\n",
              "</div>\n",
              "      <button class=\"colab-df-convert\" onclick=\"convertToInteractive('df-64cff81c-a749-44d6-b1dc-11c241ddd3cd')\"\n",
              "              title=\"Convert this dataframe to an interactive table.\"\n",
              "              style=\"display:none;\">\n",
              "        \n",
              "  <svg xmlns=\"http://www.w3.org/2000/svg\" height=\"24px\"viewBox=\"0 0 24 24\"\n",
              "       width=\"24px\">\n",
              "    <path d=\"M0 0h24v24H0V0z\" fill=\"none\"/>\n",
              "    <path d=\"M18.56 5.44l.94 2.06.94-2.06 2.06-.94-2.06-.94-.94-2.06-.94 2.06-2.06.94zm-11 1L8.5 8.5l.94-2.06 2.06-.94-2.06-.94L8.5 2.5l-.94 2.06-2.06.94zm10 10l.94 2.06.94-2.06 2.06-.94-2.06-.94-.94-2.06-.94 2.06-2.06.94z\"/><path d=\"M17.41 7.96l-1.37-1.37c-.4-.4-.92-.59-1.43-.59-.52 0-1.04.2-1.43.59L10.3 9.45l-7.72 7.72c-.78.78-.78 2.05 0 2.83L4 21.41c.39.39.9.59 1.41.59.51 0 1.02-.2 1.41-.59l7.78-7.78 2.81-2.81c.8-.78.8-2.07 0-2.86zM5.41 20L4 18.59l7.72-7.72 1.47 1.35L5.41 20z\"/>\n",
              "  </svg>\n",
              "      </button>\n",
              "      \n",
              "  <style>\n",
              "    .colab-df-container {\n",
              "      display:flex;\n",
              "      flex-wrap:wrap;\n",
              "      gap: 12px;\n",
              "    }\n",
              "\n",
              "    .colab-df-convert {\n",
              "      background-color: #E8F0FE;\n",
              "      border: none;\n",
              "      border-radius: 50%;\n",
              "      cursor: pointer;\n",
              "      display: none;\n",
              "      fill: #1967D2;\n",
              "      height: 32px;\n",
              "      padding: 0 0 0 0;\n",
              "      width: 32px;\n",
              "    }\n",
              "\n",
              "    .colab-df-convert:hover {\n",
              "      background-color: #E2EBFA;\n",
              "      box-shadow: 0px 1px 2px rgba(60, 64, 67, 0.3), 0px 1px 3px 1px rgba(60, 64, 67, 0.15);\n",
              "      fill: #174EA6;\n",
              "    }\n",
              "\n",
              "    [theme=dark] .colab-df-convert {\n",
              "      background-color: #3B4455;\n",
              "      fill: #D2E3FC;\n",
              "    }\n",
              "\n",
              "    [theme=dark] .colab-df-convert:hover {\n",
              "      background-color: #434B5C;\n",
              "      box-shadow: 0px 1px 3px 1px rgba(0, 0, 0, 0.15);\n",
              "      filter: drop-shadow(0px 1px 2px rgba(0, 0, 0, 0.3));\n",
              "      fill: #FFFFFF;\n",
              "    }\n",
              "  </style>\n",
              "\n",
              "      <script>\n",
              "        const buttonEl =\n",
              "          document.querySelector('#df-64cff81c-a749-44d6-b1dc-11c241ddd3cd button.colab-df-convert');\n",
              "        buttonEl.style.display =\n",
              "          google.colab.kernel.accessAllowed ? 'block' : 'none';\n",
              "\n",
              "        async function convertToInteractive(key) {\n",
              "          const element = document.querySelector('#df-64cff81c-a749-44d6-b1dc-11c241ddd3cd');\n",
              "          const dataTable =\n",
              "            await google.colab.kernel.invokeFunction('convertToInteractive',\n",
              "                                                     [key], {});\n",
              "          if (!dataTable) return;\n",
              "\n",
              "          const docLinkHtml = 'Like what you see? Visit the ' +\n",
              "            '<a target=\"_blank\" href=https://colab.research.google.com/notebooks/data_table.ipynb>data table notebook</a>'\n",
              "            + ' to learn more about interactive tables.';\n",
              "          element.innerHTML = '';\n",
              "          dataTable['output_type'] = 'display_data';\n",
              "          await google.colab.output.renderOutput(dataTable, element);\n",
              "          const docLink = document.createElement('div');\n",
              "          docLink.innerHTML = docLinkHtml;\n",
              "          element.appendChild(docLink);\n",
              "        }\n",
              "      </script>\n",
              "    </div>\n",
              "  </div>\n",
              "  "
            ]
          },
          "metadata": {},
          "execution_count": 90
        }
      ]
    },
    {
      "cell_type": "code",
      "source": [
        "mental_disorders_size.plot(x='SizeType', y=['YES', 'NO'], kind='bar',\n",
        "                  title='Presence of mental health disorder by size of company', \n",
        "                  xlabel='', ylabel='Number of respondents', \n",
        "                  figsize=(12,8), rot=45);"
      ],
      "metadata": {
        "colab": {
          "base_uri": "https://localhost:8080/",
          "height": 549
        },
        "id": "PFBkMANMLzQv",
        "outputId": "31ae75b6-b797-4b94-ae91-e8ea07bfe6fd"
      },
      "execution_count": null,
      "outputs": [
        {
          "output_type": "display_data",
          "data": {
            "text/plain": [
              "<Figure size 864x576 with 1 Axes>"
            ],
            "image/png": "[encoded data removed]"
          },
          "metadata": {}
        }
      ]
    },
    {
      "cell_type": "markdown",
      "source": [
        "\n",
        "\n",
        "---\n",
        "\n"
      ],
      "metadata": {
        "id": "5TjRfE9ZOlFO"
      }
    },
    {
      "cell_type": "markdown",
      "source": [
        "#General conclusions\n",
        "\n",
        "EDA of mental health surveys for tech professionals presents the following conclusions.\n",
        "\n",
        "1. Character of the surveys:\n",
        "- Surveys took place in 2014, 2016, and 2017-2019\n",
        "- The number of questions changed across the years (surveys weren't equal)\n",
        "- The number of participants drops year by year\n",
        "\n",
        "2. Profile of respondents:\n",
        "- the average age of the respondents is 34, however, there are several tech professionals significantly younger and elder than that\n",
        "- typical respondent to the survey - male, white, living and working in the US, in a rather big company (more than 100people onboard)\n",
        "- most of the respondents has an IT-related role in tech-related company.\n",
        "\n",
        "3. Profile of the mental health employer care:\n",
        "- some companies provide mental health coverage for employees, but it is not a common practice\n",
        "- physical and mental health is not always treated equally - physical health is more important in many cases\n",
        "- companies declare to provide materials about mental health but usually, people don't know where to look for them, so effectively there is no place for employees to look for help\n",
        "\n",
        "4. Mental health profile of respondents:\n",
        "- the amount of people who has some family history regarding mental health is significant\n",
        "- at least 50% of people declare they sought for medical treatment\n",
        "- the majority of people struggle with some mental health issues\n",
        "- people believe that their mental state influence their productivity at work\n",
        "\n",
        "5. Mental health problems across age groups, gender and the size of the company:\n",
        "- in each of the age groups (except <20) more people reports mental health issues than people who don't suffer from that\n",
        "- Across gender, the trend is exactly the same (higher number of 'yes'), however, women reports significantly more mental health issues than men (2:1 for women, 1:1 for men)\n",
        "- Size of company doesn't influence the distribution of mental health problems. No metter of the number of people onboard, in more than half of the cases people report some issues. Only small companies have equal distribution.\n",
        "\n"
      ],
      "metadata": {
        "id": "u0XNRvrQOl9l"
      }
    }
  ],
  "metadata": {
    "kernelspec": {
      "display_name": "Python 3",
      "language": "python",
      "name": "python3"
    },
    "language_info": {
      "codemirror_mode": {
        "name": "ipython",
        "version": 3
      },
      "file_extension": ".py",
      "mimetype": "text/x-python",
      "name": "python",
      "nbconvert_exporter": "python",
      "pygments_lexer": "ipython3",
      "version": "3.7.7"
    },
    "colab": {
      "provenance": []
    }
  },
  "nbformat": 4,
  "nbformat_minor": 0
}